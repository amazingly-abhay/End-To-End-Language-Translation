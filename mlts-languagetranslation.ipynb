{
 "cells": [
  {
   "cell_type": "code",
   "execution_count": 1,
   "metadata": {
    "execution": {
     "iopub.execute_input": "2025-09-22T09:21:24.156760Z",
     "iopub.status.busy": "2025-09-22T09:21:24.156513Z",
     "iopub.status.idle": "2025-09-22T09:21:28.601778Z",
     "shell.execute_reply": "2025-09-22T09:21:28.601080Z",
     "shell.execute_reply.started": "2025-09-22T09:21:24.156741Z"
    },
    "trusted": true
   },
   "outputs": [
    {
     "name": "stdout",
     "output_type": "stream",
     "text": [
      "Collecting indic-nlp-library\n",
      "  Downloading indic_nlp_library-0.92-py3-none-any.whl.metadata (5.7 kB)\n",
      "Collecting sphinx-argparse (from indic-nlp-library)\n",
      "  Downloading sphinx_argparse-0.5.2-py3-none-any.whl.metadata (3.7 kB)\n",
      "Requirement already satisfied: sphinx-rtd-theme in /usr/local/lib/python3.11/dist-packages (from indic-nlp-library) (0.2.4)\n",
      "Collecting morfessor (from indic-nlp-library)\n",
      "  Downloading Morfessor-2.0.6-py3-none-any.whl.metadata (628 bytes)\n",
      "Requirement already satisfied: pandas in /usr/local/lib/python3.11/dist-packages (from indic-nlp-library) (2.2.3)\n",
      "Requirement already satisfied: numpy in /usr/local/lib/python3.11/dist-packages (from indic-nlp-library) (1.26.4)\n",
      "Requirement already satisfied: mkl_fft in /usr/local/lib/python3.11/dist-packages (from numpy->indic-nlp-library) (1.3.8)\n",
      "Requirement already satisfied: mkl_random in /usr/local/lib/python3.11/dist-packages (from numpy->indic-nlp-library) (1.2.4)\n",
      "Requirement already satisfied: mkl_umath in /usr/local/lib/python3.11/dist-packages (from numpy->indic-nlp-library) (0.1.1)\n",
      "Requirement already satisfied: mkl in /usr/local/lib/python3.11/dist-packages (from numpy->indic-nlp-library) (2025.2.0)\n",
      "Requirement already satisfied: tbb4py in /usr/local/lib/python3.11/dist-packages (from numpy->indic-nlp-library) (2022.2.0)\n",
      "Requirement already satisfied: mkl-service in /usr/local/lib/python3.11/dist-packages (from numpy->indic-nlp-library) (2.4.1)\n",
      "Requirement already satisfied: python-dateutil>=2.8.2 in /usr/local/lib/python3.11/dist-packages (from pandas->indic-nlp-library) (2.9.0.post0)\n",
      "Requirement already satisfied: pytz>=2020.1 in /usr/local/lib/python3.11/dist-packages (from pandas->indic-nlp-library) (2025.2)\n",
      "Requirement already satisfied: tzdata>=2022.7 in /usr/local/lib/python3.11/dist-packages (from pandas->indic-nlp-library) (2025.2)\n",
      "Requirement already satisfied: sphinx>=5.1.0 in /usr/local/lib/python3.11/dist-packages (from sphinx-argparse->indic-nlp-library) (8.2.3)\n",
      "Requirement already satisfied: docutils>=0.19 in /usr/local/lib/python3.11/dist-packages (from sphinx-argparse->indic-nlp-library) (0.21.2)\n",
      "Requirement already satisfied: six>=1.5 in /usr/local/lib/python3.11/dist-packages (from python-dateutil>=2.8.2->pandas->indic-nlp-library) (1.17.0)\n",
      "Requirement already satisfied: sphinxcontrib-applehelp>=1.0.7 in /usr/local/lib/python3.11/dist-packages (from sphinx>=5.1.0->sphinx-argparse->indic-nlp-library) (2.0.0)\n",
      "Requirement already satisfied: sphinxcontrib-devhelp>=1.0.6 in /usr/local/lib/python3.11/dist-packages (from sphinx>=5.1.0->sphinx-argparse->indic-nlp-library) (2.0.0)\n",
      "Requirement already satisfied: sphinxcontrib-htmlhelp>=2.0.6 in /usr/local/lib/python3.11/dist-packages (from sphinx>=5.1.0->sphinx-argparse->indic-nlp-library) (2.1.0)\n",
      "Requirement already satisfied: sphinxcontrib-jsmath>=1.0.1 in /usr/local/lib/python3.11/dist-packages (from sphinx>=5.1.0->sphinx-argparse->indic-nlp-library) (1.0.1)\n",
      "Requirement already satisfied: sphinxcontrib-qthelp>=1.0.6 in /usr/local/lib/python3.11/dist-packages (from sphinx>=5.1.0->sphinx-argparse->indic-nlp-library) (2.0.0)\n",
      "Requirement already satisfied: sphinxcontrib-serializinghtml>=1.1.9 in /usr/local/lib/python3.11/dist-packages (from sphinx>=5.1.0->sphinx-argparse->indic-nlp-library) (2.0.0)\n",
      "Requirement already satisfied: Jinja2>=3.1 in /usr/local/lib/python3.11/dist-packages (from sphinx>=5.1.0->sphinx-argparse->indic-nlp-library) (3.1.6)\n",
      "Requirement already satisfied: Pygments>=2.17 in /usr/local/lib/python3.11/dist-packages (from sphinx>=5.1.0->sphinx-argparse->indic-nlp-library) (2.19.2)\n",
      "Requirement already satisfied: snowballstemmer>=2.2 in /usr/local/lib/python3.11/dist-packages (from sphinx>=5.1.0->sphinx-argparse->indic-nlp-library) (3.0.1)\n",
      "Requirement already satisfied: babel>=2.13 in /usr/local/lib/python3.11/dist-packages (from sphinx>=5.1.0->sphinx-argparse->indic-nlp-library) (2.17.0)\n",
      "Requirement already satisfied: alabaster>=0.7.14 in /usr/local/lib/python3.11/dist-packages (from sphinx>=5.1.0->sphinx-argparse->indic-nlp-library) (1.0.0)\n",
      "Requirement already satisfied: imagesize>=1.3 in /usr/local/lib/python3.11/dist-packages (from sphinx>=5.1.0->sphinx-argparse->indic-nlp-library) (1.4.1)\n",
      "Requirement already satisfied: requests>=2.30.0 in /usr/local/lib/python3.11/dist-packages (from sphinx>=5.1.0->sphinx-argparse->indic-nlp-library) (2.32.4)\n",
      "Requirement already satisfied: roman-numerals-py>=1.0.0 in /usr/local/lib/python3.11/dist-packages (from sphinx>=5.1.0->sphinx-argparse->indic-nlp-library) (3.1.0)\n",
      "Requirement already satisfied: packaging>=23.0 in /usr/local/lib/python3.11/dist-packages (from sphinx>=5.1.0->sphinx-argparse->indic-nlp-library) (25.0)\n",
      "Requirement already satisfied: intel-openmp<2026,>=2024 in /usr/local/lib/python3.11/dist-packages (from mkl->numpy->indic-nlp-library) (2024.2.0)\n",
      "Requirement already satisfied: tbb==2022.* in /usr/local/lib/python3.11/dist-packages (from mkl->numpy->indic-nlp-library) (2022.2.0)\n",
      "Requirement already satisfied: tcmlib==1.* in /usr/local/lib/python3.11/dist-packages (from tbb==2022.*->mkl->numpy->indic-nlp-library) (1.4.0)\n",
      "Requirement already satisfied: intel-cmplr-lib-rt in /usr/local/lib/python3.11/dist-packages (from mkl_umath->numpy->indic-nlp-library) (2024.2.0)\n",
      "Requirement already satisfied: intel-cmplr-lib-ur==2024.2.0 in /usr/local/lib/python3.11/dist-packages (from intel-openmp<2026,>=2024->mkl->numpy->indic-nlp-library) (2024.2.0)\n",
      "Requirement already satisfied: MarkupSafe>=2.0 in /usr/local/lib/python3.11/dist-packages (from Jinja2>=3.1->sphinx>=5.1.0->sphinx-argparse->indic-nlp-library) (3.0.2)\n",
      "Requirement already satisfied: charset_normalizer<4,>=2 in /usr/local/lib/python3.11/dist-packages (from requests>=2.30.0->sphinx>=5.1.0->sphinx-argparse->indic-nlp-library) (3.4.2)\n",
      "Requirement already satisfied: idna<4,>=2.5 in /usr/local/lib/python3.11/dist-packages (from requests>=2.30.0->sphinx>=5.1.0->sphinx-argparse->indic-nlp-library) (3.10)\n",
      "Requirement already satisfied: urllib3<3,>=1.21.1 in /usr/local/lib/python3.11/dist-packages (from requests>=2.30.0->sphinx>=5.1.0->sphinx-argparse->indic-nlp-library) (2.5.0)\n",
      "Requirement already satisfied: certifi>=2017.4.17 in /usr/local/lib/python3.11/dist-packages (from requests>=2.30.0->sphinx>=5.1.0->sphinx-argparse->indic-nlp-library) (2025.6.15)\n",
      "Downloading indic_nlp_library-0.92-py3-none-any.whl (40 kB)\n",
      "\u001b[2K   \u001b[90m━━━━━━━━━━━━━━━━━━━━━━━━━━━━━━━━━━━━━━━━\u001b[0m \u001b[32m40.3/40.3 kB\u001b[0m \u001b[31m2.5 MB/s\u001b[0m eta \u001b[36m0:00:00\u001b[0m\n",
      "\u001b[?25hDownloading Morfessor-2.0.6-py3-none-any.whl (35 kB)\n",
      "Downloading sphinx_argparse-0.5.2-py3-none-any.whl (12 kB)\n",
      "Installing collected packages: morfessor, sphinx-argparse, indic-nlp-library\n",
      "Successfully installed indic-nlp-library-0.92 morfessor-2.0.6 sphinx-argparse-0.5.2\n"
     ]
    }
   ],
   "source": [
    "!pip install indic-nlp-library"
   ]
  },
  {
   "cell_type": "code",
   "execution_count": 2,
   "metadata": {
    "_cell_guid": "b1076dfc-b9ad-4769-8c92-a6c4dae69d19",
    "_uuid": "8f2839f25d086af736a60e9eeb907d3b93b6e0e5",
    "execution": {
     "iopub.execute_input": "2025-09-22T09:21:28.603418Z",
     "iopub.status.busy": "2025-09-22T09:21:28.603171Z",
     "iopub.status.idle": "2025-09-22T09:21:36.765878Z",
     "shell.execute_reply": "2025-09-22T09:21:36.765302Z",
     "shell.execute_reply.started": "2025-09-22T09:21:28.603397Z"
    },
    "trusted": true
   },
   "outputs": [],
   "source": [
    "import numpy as np # linear algebra\n",
    "import pandas as pd # data processing, CSV file I/O (e.g. pd.read_csv)\n",
    "from transformers import AutoTokenizer\n",
    "import torch\n",
    "import torch.nn.functional as F"
   ]
  },
  {
   "cell_type": "code",
   "execution_count": 3,
   "metadata": {
    "execution": {
     "iopub.execute_input": "2025-09-22T09:21:36.767020Z",
     "iopub.status.busy": "2025-09-22T09:21:36.766696Z",
     "iopub.status.idle": "2025-09-22T09:21:36.775209Z",
     "shell.execute_reply": "2025-09-22T09:21:36.774502Z",
     "shell.execute_reply.started": "2025-09-22T09:21:36.767003Z"
    },
    "trusted": true
   },
   "outputs": [],
   "source": [
    "from indicnlp.tokenize import indic_tokenize"
   ]
  },
  {
   "cell_type": "code",
   "execution_count": 4,
   "metadata": {
    "execution": {
     "iopub.execute_input": "2025-09-22T09:21:36.775971Z",
     "iopub.status.busy": "2025-09-22T09:21:36.775811Z",
     "iopub.status.idle": "2025-09-22T09:21:36.893771Z",
     "shell.execute_reply": "2025-09-22T09:21:36.893266Z",
     "shell.execute_reply.started": "2025-09-22T09:21:36.775958Z"
    },
    "trusted": true
   },
   "outputs": [],
   "source": [
    "df=pd.read_csv(\"/kaggle/input/english-hindi-ml/Sentence pairs in English-Hindi - 2025-02-11.tsv\",sep=\"\\t\",header=None,names=[\"SrcSentID\",\"SrcSent\",\"DestSentID\",\"DestSent\"])"
   ]
  },
  {
   "cell_type": "code",
   "execution_count": 5,
   "metadata": {
    "execution": {
     "iopub.execute_input": "2025-09-22T09:21:36.895975Z",
     "iopub.status.busy": "2025-09-22T09:21:36.895764Z",
     "iopub.status.idle": "2025-09-22T09:21:36.914532Z",
     "shell.execute_reply": "2025-09-22T09:21:36.913933Z",
     "shell.execute_reply.started": "2025-09-22T09:21:36.895960Z"
    },
    "trusted": true
   },
   "outputs": [
    {
     "data": {
      "text/html": [
       "<div>\n",
       "<style scoped>\n",
       "    .dataframe tbody tr th:only-of-type {\n",
       "        vertical-align: middle;\n",
       "    }\n",
       "\n",
       "    .dataframe tbody tr th {\n",
       "        vertical-align: top;\n",
       "    }\n",
       "\n",
       "    .dataframe thead th {\n",
       "        text-align: right;\n",
       "    }\n",
       "</style>\n",
       "<table border=\"1\" class=\"dataframe\">\n",
       "  <thead>\n",
       "    <tr style=\"text-align: right;\">\n",
       "      <th></th>\n",
       "      <th>SrcSentID</th>\n",
       "      <th>SrcSent</th>\n",
       "      <th>DestSentID</th>\n",
       "      <th>DestSent</th>\n",
       "    </tr>\n",
       "  </thead>\n",
       "  <tbody>\n",
       "    <tr>\n",
       "      <th>0</th>\n",
       "      <td>1282</td>\n",
       "      <td>Muiriel is 20 now.</td>\n",
       "      <td>485968</td>\n",
       "      <td>म्यूरियल अब बीस साल की हो गई है।</td>\n",
       "    </tr>\n",
       "    <tr>\n",
       "      <th>1</th>\n",
       "      <td>1282</td>\n",
       "      <td>Muiriel is 20 now.</td>\n",
       "      <td>2060319</td>\n",
       "      <td>म्यूरियल अब बीस साल की है।</td>\n",
       "    </tr>\n",
       "    <tr>\n",
       "      <th>2</th>\n",
       "      <td>1294</td>\n",
       "      <td>Education in this world disappoints me.</td>\n",
       "      <td>485564</td>\n",
       "      <td>मैं इस दुनिया में शिक्षा पर बहुत निराश हूँ।</td>\n",
       "    </tr>\n",
       "    <tr>\n",
       "      <th>3</th>\n",
       "      <td>1302</td>\n",
       "      <td>That won't happen.</td>\n",
       "      <td>2060320</td>\n",
       "      <td>वैसा नहीं होगा।</td>\n",
       "    </tr>\n",
       "    <tr>\n",
       "      <th>4</th>\n",
       "      <td>1308</td>\n",
       "      <td>I miss you.</td>\n",
       "      <td>2060321</td>\n",
       "      <td>मुझें तुम्हारी याद आ रही है।</td>\n",
       "    </tr>\n",
       "  </tbody>\n",
       "</table>\n",
       "</div>"
      ],
      "text/plain": [
       "   SrcSentID                                  SrcSent  DestSentID  \\\n",
       "0       1282                       Muiriel is 20 now.      485968   \n",
       "1       1282                       Muiriel is 20 now.     2060319   \n",
       "2       1294  Education in this world disappoints me.      485564   \n",
       "3       1302                       That won't happen.     2060320   \n",
       "4       1308                              I miss you.     2060321   \n",
       "\n",
       "                                      DestSent  \n",
       "0             म्यूरियल अब बीस साल की हो गई है।  \n",
       "1                   म्यूरियल अब बीस साल की है।  \n",
       "2  मैं इस दुनिया में शिक्षा पर बहुत निराश हूँ।  \n",
       "3                              वैसा नहीं होगा।  \n",
       "4                 मुझें तुम्हारी याद आ रही है।  "
      ]
     },
     "execution_count": 5,
     "metadata": {},
     "output_type": "execute_result"
    }
   ],
   "source": [
    "df.head()"
   ]
  },
  {
   "cell_type": "code",
   "execution_count": 6,
   "metadata": {
    "execution": {
     "iopub.execute_input": "2025-09-22T09:21:36.915349Z",
     "iopub.status.busy": "2025-09-22T09:21:36.915154Z",
     "iopub.status.idle": "2025-09-22T09:21:36.919832Z",
     "shell.execute_reply": "2025-09-22T09:21:36.919351Z",
     "shell.execute_reply.started": "2025-09-22T09:21:36.915335Z"
    },
    "trusted": true
   },
   "outputs": [
    {
     "data": {
      "text/plain": [
       "(13182, 4)"
      ]
     },
     "execution_count": 6,
     "metadata": {},
     "output_type": "execute_result"
    }
   ],
   "source": [
    "df.shape"
   ]
  },
  {
   "cell_type": "code",
   "execution_count": 7,
   "metadata": {
    "execution": {
     "iopub.execute_input": "2025-09-22T09:21:36.920606Z",
     "iopub.status.busy": "2025-09-22T09:21:36.920446Z",
     "iopub.status.idle": "2025-09-22T09:21:36.940557Z",
     "shell.execute_reply": "2025-09-22T09:21:36.940054Z",
     "shell.execute_reply.started": "2025-09-22T09:21:36.920593Z"
    },
    "trusted": true
   },
   "outputs": [],
   "source": [
    "df.drop(labels=[df.columns[0],df.columns[2]],axis=1,inplace=True)"
   ]
  },
  {
   "cell_type": "code",
   "execution_count": 8,
   "metadata": {
    "execution": {
     "iopub.execute_input": "2025-09-22T09:21:36.941514Z",
     "iopub.status.busy": "2025-09-22T09:21:36.941247Z",
     "iopub.status.idle": "2025-09-22T09:21:36.956909Z",
     "shell.execute_reply": "2025-09-22T09:21:36.956386Z",
     "shell.execute_reply.started": "2025-09-22T09:21:36.941499Z"
    },
    "trusted": true
   },
   "outputs": [
    {
     "data": {
      "text/html": [
       "<div>\n",
       "<style scoped>\n",
       "    .dataframe tbody tr th:only-of-type {\n",
       "        vertical-align: middle;\n",
       "    }\n",
       "\n",
       "    .dataframe tbody tr th {\n",
       "        vertical-align: top;\n",
       "    }\n",
       "\n",
       "    .dataframe thead th {\n",
       "        text-align: right;\n",
       "    }\n",
       "</style>\n",
       "<table border=\"1\" class=\"dataframe\">\n",
       "  <thead>\n",
       "    <tr style=\"text-align: right;\">\n",
       "      <th></th>\n",
       "      <th>SrcSent</th>\n",
       "      <th>DestSent</th>\n",
       "    </tr>\n",
       "  </thead>\n",
       "  <tbody>\n",
       "    <tr>\n",
       "      <th>0</th>\n",
       "      <td>Muiriel is 20 now.</td>\n",
       "      <td>म्यूरियल अब बीस साल की हो गई है।</td>\n",
       "    </tr>\n",
       "    <tr>\n",
       "      <th>1</th>\n",
       "      <td>Muiriel is 20 now.</td>\n",
       "      <td>म्यूरियल अब बीस साल की है।</td>\n",
       "    </tr>\n",
       "    <tr>\n",
       "      <th>2</th>\n",
       "      <td>Education in this world disappoints me.</td>\n",
       "      <td>मैं इस दुनिया में शिक्षा पर बहुत निराश हूँ।</td>\n",
       "    </tr>\n",
       "    <tr>\n",
       "      <th>3</th>\n",
       "      <td>That won't happen.</td>\n",
       "      <td>वैसा नहीं होगा।</td>\n",
       "    </tr>\n",
       "    <tr>\n",
       "      <th>4</th>\n",
       "      <td>I miss you.</td>\n",
       "      <td>मुझें तुम्हारी याद आ रही है।</td>\n",
       "    </tr>\n",
       "  </tbody>\n",
       "</table>\n",
       "</div>"
      ],
      "text/plain": [
       "                                   SrcSent  \\\n",
       "0                       Muiriel is 20 now.   \n",
       "1                       Muiriel is 20 now.   \n",
       "2  Education in this world disappoints me.   \n",
       "3                       That won't happen.   \n",
       "4                              I miss you.   \n",
       "\n",
       "                                      DestSent  \n",
       "0             म्यूरियल अब बीस साल की हो गई है।  \n",
       "1                   म्यूरियल अब बीस साल की है।  \n",
       "2  मैं इस दुनिया में शिक्षा पर बहुत निराश हूँ।  \n",
       "3                              वैसा नहीं होगा।  \n",
       "4                 मुझें तुम्हारी याद आ रही है।  "
      ]
     },
     "execution_count": 8,
     "metadata": {},
     "output_type": "execute_result"
    }
   ],
   "source": [
    "df.head()"
   ]
  },
  {
   "cell_type": "code",
   "execution_count": 9,
   "metadata": {
    "execution": {
     "iopub.execute_input": "2025-09-22T09:21:36.957700Z",
     "iopub.status.busy": "2025-09-22T09:21:36.957526Z",
     "iopub.status.idle": "2025-09-22T09:21:39.042484Z",
     "shell.execute_reply": "2025-09-22T09:21:39.041648Z",
     "shell.execute_reply.started": "2025-09-22T09:21:36.957687Z"
    },
    "trusted": true
   },
   "outputs": [
    {
     "data": {
      "application/vnd.jupyter.widget-view+json": {
       "model_id": "ba5c0ee3105042a992878df024717ced",
       "version_major": 2,
       "version_minor": 0
      },
      "text/plain": [
       "config.json: 0.00B [00:00, ?B/s]"
      ]
     },
     "metadata": {},
     "output_type": "display_data"
    },
    {
     "data": {
      "application/vnd.jupyter.widget-view+json": {
       "model_id": "10a1f66e2a6147da9d08ee6b73155dcb",
       "version_major": 2,
       "version_minor": 0
      },
      "text/plain": [
       "spiece.model:   0%|          | 0.00/792k [00:00<?, ?B/s]"
      ]
     },
     "metadata": {},
     "output_type": "display_data"
    },
    {
     "data": {
      "application/vnd.jupyter.widget-view+json": {
       "model_id": "f25f0c76351d43c18c2ca73c561ef64b",
       "version_major": 2,
       "version_minor": 0
      },
      "text/plain": [
       "tokenizer.json: 0.00B [00:00, ?B/s]"
      ]
     },
     "metadata": {},
     "output_type": "display_data"
    }
   ],
   "source": [
    "src_sent_tokenizer=AutoTokenizer.from_pretrained(\"google-T5/T5-base\")"
   ]
  },
  {
   "cell_type": "code",
   "execution_count": 10,
   "metadata": {
    "execution": {
     "iopub.execute_input": "2025-09-22T09:21:39.043482Z",
     "iopub.status.busy": "2025-09-22T09:21:39.043257Z",
     "iopub.status.idle": "2025-09-22T09:21:39.743593Z",
     "shell.execute_reply": "2025-09-22T09:21:39.743053Z",
     "shell.execute_reply.started": "2025-09-22T09:21:39.043466Z"
    },
    "trusted": true
   },
   "outputs": [],
   "source": [
    "df[\"SrcSent\"]=df[\"SrcSent\"].apply(lambda x: src_sent_tokenizer.tokenize(x))"
   ]
  },
  {
   "cell_type": "code",
   "execution_count": 11,
   "metadata": {
    "execution": {
     "iopub.execute_input": "2025-09-22T09:21:39.744502Z",
     "iopub.status.busy": "2025-09-22T09:21:39.744281Z",
     "iopub.status.idle": "2025-09-22T09:21:39.871154Z",
     "shell.execute_reply": "2025-09-22T09:21:39.870638Z",
     "shell.execute_reply.started": "2025-09-22T09:21:39.744486Z"
    },
    "trusted": true
   },
   "outputs": [],
   "source": [
    "df[\"DestSent\"]=df[\"DestSent\"].apply(lambda x: indic_tokenize.trivial_tokenize(x,lang='hi'))"
   ]
  },
  {
   "cell_type": "code",
   "execution_count": 12,
   "metadata": {
    "execution": {
     "iopub.execute_input": "2025-09-22T09:21:39.871873Z",
     "iopub.status.busy": "2025-09-22T09:21:39.871704Z",
     "iopub.status.idle": "2025-09-22T09:21:39.880537Z",
     "shell.execute_reply": "2025-09-22T09:21:39.879848Z",
     "shell.execute_reply.started": "2025-09-22T09:21:39.871860Z"
    },
    "trusted": true
   },
   "outputs": [
    {
     "data": {
      "text/html": [
       "<div>\n",
       "<style scoped>\n",
       "    .dataframe tbody tr th:only-of-type {\n",
       "        vertical-align: middle;\n",
       "    }\n",
       "\n",
       "    .dataframe tbody tr th {\n",
       "        vertical-align: top;\n",
       "    }\n",
       "\n",
       "    .dataframe thead th {\n",
       "        text-align: right;\n",
       "    }\n",
       "</style>\n",
       "<table border=\"1\" class=\"dataframe\">\n",
       "  <thead>\n",
       "    <tr style=\"text-align: right;\">\n",
       "      <th></th>\n",
       "      <th>SrcSent</th>\n",
       "      <th>DestSent</th>\n",
       "    </tr>\n",
       "  </thead>\n",
       "  <tbody>\n",
       "    <tr>\n",
       "      <th>0</th>\n",
       "      <td>[▁Mu, i, riel, ▁is, ▁20, ▁now, .]</td>\n",
       "      <td>[म्यूरियल, अब, बीस, साल, की, हो, गई, है, ।]</td>\n",
       "    </tr>\n",
       "    <tr>\n",
       "      <th>1</th>\n",
       "      <td>[▁Mu, i, riel, ▁is, ▁20, ▁now, .]</td>\n",
       "      <td>[म्यूरियल, अब, बीस, साल, की, है, ।]</td>\n",
       "    </tr>\n",
       "    <tr>\n",
       "      <th>2</th>\n",
       "      <td>[▁Education, ▁in, ▁this, ▁world, ▁disappoint, ...</td>\n",
       "      <td>[मैं, इस, दुनिया, में, शिक्षा, पर, बहुत, निराश...</td>\n",
       "    </tr>\n",
       "    <tr>\n",
       "      <th>3</th>\n",
       "      <td>[▁That, ▁won, ', t, ▁happen, .]</td>\n",
       "      <td>[वैसा, नहीं, होगा, ।]</td>\n",
       "    </tr>\n",
       "    <tr>\n",
       "      <th>4</th>\n",
       "      <td>[▁I, ▁miss, ▁you, .]</td>\n",
       "      <td>[मुझें, तुम्हारी, याद, आ, रही, है, ।]</td>\n",
       "    </tr>\n",
       "  </tbody>\n",
       "</table>\n",
       "</div>"
      ],
      "text/plain": [
       "                                             SrcSent  \\\n",
       "0                  [▁Mu, i, riel, ▁is, ▁20, ▁now, .]   \n",
       "1                  [▁Mu, i, riel, ▁is, ▁20, ▁now, .]   \n",
       "2  [▁Education, ▁in, ▁this, ▁world, ▁disappoint, ...   \n",
       "3                    [▁That, ▁won, ', t, ▁happen, .]   \n",
       "4                               [▁I, ▁miss, ▁you, .]   \n",
       "\n",
       "                                            DestSent  \n",
       "0        [म्यूरियल, अब, बीस, साल, की, हो, गई, है, ।]  \n",
       "1                [म्यूरियल, अब, बीस, साल, की, है, ।]  \n",
       "2  [मैं, इस, दुनिया, में, शिक्षा, पर, बहुत, निराश...  \n",
       "3                              [वैसा, नहीं, होगा, ।]  \n",
       "4              [मुझें, तुम्हारी, याद, आ, रही, है, ।]  "
      ]
     },
     "execution_count": 12,
     "metadata": {},
     "output_type": "execute_result"
    }
   ],
   "source": [
    "df.head()"
   ]
  },
  {
   "cell_type": "code",
   "execution_count": 13,
   "metadata": {
    "execution": {
     "iopub.execute_input": "2025-09-22T09:21:39.881520Z",
     "iopub.status.busy": "2025-09-22T09:21:39.881238Z",
     "iopub.status.idle": "2025-09-22T09:21:40.095373Z",
     "shell.execute_reply": "2025-09-22T09:21:40.094812Z",
     "shell.execute_reply.started": "2025-09-22T09:21:39.881496Z"
    },
    "trusted": true
   },
   "outputs": [],
   "source": [
    "df[\"SrcSent\"]=df[\"SrcSent\"].apply(src_sent_tokenizer.convert_tokens_to_ids)"
   ]
  },
  {
   "cell_type": "code",
   "execution_count": 14,
   "metadata": {
    "execution": {
     "iopub.execute_input": "2025-09-22T09:21:40.098455Z",
     "iopub.status.busy": "2025-09-22T09:21:40.098247Z",
     "iopub.status.idle": "2025-09-22T09:21:40.126021Z",
     "shell.execute_reply": "2025-09-22T09:21:40.125387Z",
     "shell.execute_reply.started": "2025-09-22T09:21:40.098440Z"
    },
    "trusted": true
   },
   "outputs": [
    {
     "data": {
      "text/plain": [
       "32100"
      ]
     },
     "execution_count": 14,
     "metadata": {},
     "output_type": "execute_result"
    }
   ],
   "source": [
    "Vs=src_sent_tokenizer.get_vocab()\n",
    "Vs\n",
    "len(Vs)"
   ]
  },
  {
   "cell_type": "code",
   "execution_count": 15,
   "metadata": {
    "execution": {
     "iopub.execute_input": "2025-09-22T09:21:40.126966Z",
     "iopub.status.busy": "2025-09-22T09:21:40.126657Z",
     "iopub.status.idle": "2025-09-22T09:21:40.140948Z",
     "shell.execute_reply": "2025-09-22T09:21:40.140419Z",
     "shell.execute_reply.started": "2025-09-22T09:21:40.126949Z"
    },
    "trusted": true
   },
   "outputs": [
    {
     "data": {
      "text/plain": [
       "14417"
      ]
     },
     "execution_count": 15,
     "metadata": {},
     "output_type": "execute_result"
    }
   ],
   "source": [
    "Vs['stepped']"
   ]
  },
  {
   "cell_type": "code",
   "execution_count": 16,
   "metadata": {
    "execution": {
     "iopub.execute_input": "2025-09-22T09:21:40.141848Z",
     "iopub.status.busy": "2025-09-22T09:21:40.141640Z",
     "iopub.status.idle": "2025-09-22T09:21:40.166652Z",
     "shell.execute_reply": "2025-09-22T09:21:40.166072Z",
     "shell.execute_reply.started": "2025-09-22T09:21:40.141834Z"
    },
    "trusted": true
   },
   "outputs": [],
   "source": [
    "hindi_vocab=set()\n",
    "for tokenized_hindi_sent in df[\"DestSent\"]:\n",
    "    hindi_vocab.update(tokenized_hindi_sent)"
   ]
  },
  {
   "cell_type": "code",
   "execution_count": 17,
   "metadata": {
    "execution": {
     "iopub.execute_input": "2025-09-22T09:21:40.167404Z",
     "iopub.status.busy": "2025-09-22T09:21:40.167235Z",
     "iopub.status.idle": "2025-09-22T09:21:40.181424Z",
     "shell.execute_reply": "2025-09-22T09:21:40.180779Z",
     "shell.execute_reply.started": "2025-09-22T09:21:40.167392Z"
    },
    "trusted": true
   },
   "outputs": [
    {
     "data": {
      "text/plain": [
       "7069"
      ]
     },
     "execution_count": 17,
     "metadata": {},
     "output_type": "execute_result"
    }
   ],
   "source": [
    "hindi_vocab\n",
    "len(hindi_vocab)"
   ]
  },
  {
   "cell_type": "code",
   "execution_count": 18,
   "metadata": {
    "execution": {
     "iopub.execute_input": "2025-09-22T09:21:40.182228Z",
     "iopub.status.busy": "2025-09-22T09:21:40.182000Z",
     "iopub.status.idle": "2025-09-22T09:21:40.195833Z",
     "shell.execute_reply": "2025-09-22T09:21:40.195293Z",
     "shell.execute_reply.started": "2025-09-22T09:21:40.182212Z"
    },
    "trusted": true
   },
   "outputs": [],
   "source": [
    "Vd=dict()\n",
    "for idx,token in enumerate(hindi_vocab):\n",
    "    Vd[token]=idx+3\n",
    "\n",
    "Vd[\"<PAD>\"]=0\n",
    "Vd[\"<SOS>\"]=1\n",
    "Vd[\"<EOS>\"]=2"
   ]
  },
  {
   "cell_type": "code",
   "execution_count": 19,
   "metadata": {
    "execution": {
     "iopub.execute_input": "2025-09-22T09:21:40.196599Z",
     "iopub.status.busy": "2025-09-22T09:21:40.196428Z",
     "iopub.status.idle": "2025-09-22T09:21:40.224005Z",
     "shell.execute_reply": "2025-09-22T09:21:40.223373Z",
     "shell.execute_reply.started": "2025-09-22T09:21:40.196586Z"
    },
    "trusted": true
   },
   "outputs": [
    {
     "name": "stdout",
     "output_type": "stream",
     "text": [
      "{3: 'दिवाला', 4: 'सिखाए', 5: 'अक्साई', 6: 'डराने', 7: 'पंछी', 8: 'अठारहवाँ', 9: 'प्रोजेक्ट', 10: 'मुस्कुराए', 11: 'व्यापारी', 12: 'मारना', 13: 'चिह्नित', 14: 'मज़े', 15: 'जर्मनी', 16: 'अम्रीकी', 17: 'वापस', 18: 'जवाहरलाल', 19: 'बर्बाद', 20: 'करुँगी', 21: 'बैठूं', 22: 'ज़िंदाबाद', 23: 'दाँत', 24: 'बताता', 25: 'भरता', 26: 'दोबारा', 27: 'आर्नोल्ड', 28: 'सर्दियों', 29: 'पतला', 30: 'लॉटरी', 31: 'नीला', 32: 'सौन्\\u200dदर्यवान', 33: 'भागा', 34: 'नेटफ़्लिक्स', 35: 'जाता', 36: 'बोलोगे', 37: 'तोता', 38: 'महँगा', 39: 'चुम्मा', 40: 'लंड', 41: 'पैंट', 42: 'गवा', 43: 'कंपनी', 44: 'सुविचरों', 45: 'कहोगे', 46: 'प्रथम', 47: 'मसाओ', 48: 'टेबल', 49: 'निकालने', 50: 'जन्म', 51: 'मुग़ल', 52: 'दादीजी', 53: 'कत्ल', 54: 'ख़ूनी', 55: 'कहने', 56: 'अपराधों', 57: 'मछलियाँ', 58: 'हिटलर', 59: 'तेरे', 60: 'प्रेत', 61: 'इंतजार', 62: 'स्वागतम्', 63: 'लड़ी', 64: 'ढूँढूं', 65: 'आईएगा', 66: 'कितनी', 67: 'रोकना', 68: 'बहने', 69: 'ज़ू', 70: 'ग्रामीण', 71: 'मोबाइल', 72: 'दूध', 73: 'तीर', 74: 'सिखाओगी', 75: 'रोगी', 76: 'घनिष्ठ', 77: 'अमेरिका', 78: 'व्हाईट', 79: 'गद्दारी', 80: 'I', 81: 'करीं', 82: 'काफी', 83: 'नंगी', 84: 'खिलौना', 85: 'सबसे', 86: 'बैठी', 87: 'न', 88: 'फिर', 89: 'पन्ने', 90: 'वॉरक्राफ़्ट', 91: 'जनतंत्र', 92: 'ग़लत', 93: 'सुपरस्टार', 94: 'सहने', 95: 'पानी', 96: 'क़ैदी', 97: 'पर्याप्त', 98: 'सिखाऊंगी', 99: 'तुममें', 100: 'सह', 101: 'मिलते', 102: 'पोंछा', 103: 'माँगो', 104: 'पहनो', 105: 'निकली', 106: 'विज्ञापन', 107: 'शह', 108: 'फैसला', 109: 'चाहेगा', 110: 'प्रतीक्षा', 111: 'चोद', 112: 'धकेलिए', 113: 'स्कुरा', 114: 'गंभीर', 115: 'करते', 116: 'जितनी', 117: 'पहुँचा', 118: 'वॉट्सएप', 119: 'পছন্দের', 120: 'भागता', 121: 'सुथरा', 122: 'खाए', 123: 'आशावादी', 124: 'महक', 125: 'बनाओ', 126: 'कॉनसर्ट', 127: 'शुरु', 128: 'चुकताऊँगा', 129: 'सीटी', 130: 'पलकें', 131: 'आईना', 132: 'फ़ेसबुक', 133: 'अकेले', 134: 'दुश्मन', 135: 'इसीलिए', 136: 'बेहतर', 137: 'मुर्गियां', 138: 'मरी', 139: 'मोड', 140: 'हि', 141: 'एसी', 142: 'हिस्स', 143: 'स्याही', 144: 'पंथ', 145: 'युवक', 146: 'गहरा', 147: 'पीटने', 148: 'मांगूंगा', 149: 'सफ़लता', 150: 'परंपरा', 151: 'ऐक्सीडेंट', 152: 'कक्ष', 153: 'बताउँगा', 154: 'चाहूंगी', 155: 'ट्रोल', 156: 'हों', 157: 'रिपब्लिकन', 158: 'उपग्रह', 159: 'कुछ', 160: 'यहुदी', 161: 'रजनीकान्त', 162: 'नर्म', 163: 'देशप्रेमी', 164: 'पकाएं', 165: 'एंड्रिया', 166: 'भाग्यशाली', 167: 'उपनगरों', 168: 'मिलीं', 169: 'देवताओं', 170: 'आधा', 171: 'भी', 172: 'रात्री', 173: 'समान', 174: 'पीता', 175: 'किससे', 176: 'घूमती', 177: 'हरामज़ादे', 178: 'भ्राता', 179: 'स्केटिंग', 180: 'परमाणु', 181: 'कार्ड', 182: 'पकड़े', 183: 'मुड़ना', 184: 'नौसैनिक', 185: 'वाक्यांश', 186: 'अर्ल', 187: 'पाई', 188: 'बदबूदार', 189: 'अविश्वसनीय', 190: 'ब्रह्मांड', 191: 'दीवारों', 192: 'अचानक', 193: 'डरा', 194: 'चिपकता', 195: 'डरी', 196: 'गिली', 197: 'लैंड', 198: 'पहनूँ', 199: 'कयोंकि', 200: 'आकार', 201: 'जानीमानी', 202: 'हिरोशी', 203: 'मेन्नाद', 204: 'मुसलिम', 205: 'चौहत्तर', 206: 'भाषा', 207: '20', 208: 'चक्र', 209: '१७५७', 210: 'चिल्लाईए', 211: 'बजती', 212: 'कुम्भ', 213: 'जीतूँगा', 214: 'बेआराम', 215: 'छूना', 216: 'कोईसा', 217: 'छड़ी', 218: 'यूरो', 219: 'बहुधा', 220: 'मिचि', 221: 'समाज', 222: 'मोड़िए', 223: 'नकद', 224: 'चुनिए', 225: 'डायरी', 226: 'होटल', 227: 'नाश्ते', 228: 'कैफ़े', 229: 'ट्रैफ़िक', 230: 'फ़ोर्क', 231: 'करुंगी', 232: 'पकड़ोगे', 233: 'राज', 234: 'प्रतियोगिता', 235: 'बूढ़ी', 236: 'सूखा', 237: 'सैम', 238: 'छोड़ी', 239: 'सीमा', 240: 'स्कुल', 241: 'देशों', 242: 'भेजूंगा', 243: 'पीकर', 244: 'ऑर्डर', 245: 'डिक्की', 246: 'रस्सी', 247: 'डान्स', 248: 'कठिनाई', 249: 'सोऊंगा', 250: 'धोने', 251: 'ठंडा', 252: 'सन्तरा', 253: 'सैनिकों', 254: 'तू', 255: 'फॉन्ट', 256: 'मिटाइए', 257: 'अवैध', 258: 'बिल्लियां', 259: 'उत्प्रवास', 260: 'मूवी', 261: 'कटहल', 262: 'संघर्ष', 263: 'टेलीविज़न', 264: 'बड़ाई', 265: 'मुर्झाई', 266: 'नियुक्त', 267: 'अज्ञानता', 268: 'मरना', 269: 'पुकारते', 270: 'अनुमान', 271: 'भूत', 272: 'फेंको', 273: 'बहाल', 274: 'पहेली', 275: 'उपजते', 276: 'लड़े', 277: 'चलतें', 278: 'गायब', 279: 'इंडोनेशिया', 280: 'मराठा', 281: 'न्यूनतम', 282: 'नागरिकता', 283: 'पैर', 284: 'तालाब', 285: 'किस्मत', 286: 'निशान', 287: 'गीत', 288: 'अकेला', 289: 'लगी', 290: 'ईश्वर', 291: 'अंक', 292: 'बनाऊंगी', 293: 'सितारें', 294: 'मोज़े', 295: 'स्ट्रिप', 296: 'चलाओ', 297: 'टिकी', 298: 'अक्षरों', 299: 'लत', 300: 'परंतु', 301: 'दिखायी', 302: 'काज', 303: 'वसन्त', 304: 'पैसेवाली', 305: 'गयी', 306: 'कॉलर', 307: 'अग्नी', 308: 'पोते', 309: 'मुक्का', 310: 'गैरकानूनी', 311: 'मंगलवार', 312: 'इन्हीं', 313: 'लाऊँगी', 314: 'जैम', 315: 'साँप', 316: 'हकीम', 317: 'गोमांस', 318: '८०', 319: '१००', 320: 'पसीने', 321: 'औरंगज़ेब', 322: 'खिलाएं', 323: 'लौरी', 324: 'पेड़ों', 325: 'सकें', 326: 'हाफ़िज़', 327: 'बीजों', 328: 'निर्वाह', 329: 'पसीना', 330: 'तुमने', 331: '१९', 332: 'खरगोश', 333: 'शौकीन', 334: 'हास्यस्पद', 335: '१९७५', 336: 'विषाणु', 337: 'मूंद', 338: 'हज़रती', 339: 'ट्रक', 340: 'सुननी', 341: 'शैंपेन', 342: 'सर्जन', 343: 'जंतु', 344: 'सक्रिय', 345: 'यहूदियों', 346: 'ठंडी', 347: 'लौटेंगे', 348: 'खरीदा', 349: 'हालांकि', 350: 'मॉस्को', 351: 'चलते', 352: 'हसीना', 353: 'गायें', 354: 'पैसा', 355: 'अरेंज', 356: 'दुर्घटना', 357: 'सुलझाने', 358: 'इरादा', 359: 'बनाओगे', 360: 'जान', 361: 'बौद्ध', 362: '१९३९', 363: 'सर्वोत्कृष्ट', 364: 'ग्रीष्मकालीन', 365: 'ख़ालिद', 366: 'करवाया', 367: 'पानीपत', 368: 'इत्तेफ़ाक', 369: 'ऐमिली', 370: 'अँटीवाइरस', 371: 'गयीं', 372: 'जाइए', 373: 'समुद्रतट', 374: 'आज़ादी', 375: 'लगाती', 376: 'तरीका', 377: 'बुरी', 378: 'दर्जन', 379: 'इलेक्ट्रिकल', 380: 'हीरो', 381: 'जहाँ', 382: 'मिथुन', 383: 'उत्तेजित', 384: 'दंत', 385: 'उपनाम', 386: 'दिवाई', 387: 'रखें', 388: 'मचाओ', 389: 'प्रतिवादी', 390: 'तेरी', 391: 'हुएं', 392: 'केनडी', 393: 'पिंजरा', 394: 'सिखाऊंगा', 395: 'तबसे', 396: 'तूने', 397: 'चुस्त', 398: 'इसीलिये', 399: 'चखाऊँगा', 400: 'रहें', 401: 'पास', 402: 'आनन्द', 403: 'चिंतित', 404: 'समझे', 405: 'एड्स', 406: 'चाहेंगे', 407: 'किस', 408: 'गाँव', 409: 'बाँधती', 410: 'बताऊंगा', 411: 'तुम', 412: 'जिसको', 413: 'बूंद', 414: 'अलविदा', 415: 'जीतेगा', 416: 'ईसाईयत', 417: 'हस्पताल', 418: 'विख्यात', 419: 'अज़रबैजानी', 420: 'संभालिए', 421: 'मिलती', 422: 'पूरी', 423: 'फ़ौरन', 424: 'मोची', 425: 'ग्यारह', 426: 'पहुँचाया', 427: 'मिलो', 428: 'जुर्रत', 429: 'कूद', 430: 'तुम्हें', 431: 'बहरा', 432: 'रोमानिया', 433: 'सिंहों', 434: 'ज़ुबान', 435: 'चुरा', 436: 'सोचना', 437: 'तैरा', 438: 'उसने', 439: 'अक्षर', 440: 'डालियों', 441: 'घोडे', 442: 'मीटिंग', 443: 'सरकारी', 444: 'चोटों', 445: 'धत', 446: 'ब्रिटेन', 447: 'गंजा', 448: 'नीन्द', 449: 'एम्पायर', 450: 'निइगाता', 451: 'हद', 452: 'बचायी', 453: 'कम', 454: 'ड्रुक', 455: 'पाजामे', 456: 'पत्रों', 457: 'बोओगे', 458: 'सम्बंध', 459: 'संभोग', 460: 'वजह', 461: 'पूछनी', 462: 'क्रिसमस', 463: 'महाराष्ट्र', 464: 'मेरी', 465: 'सुधारने', 466: 'जैसे', 467: 'रेनकोट', 468: 'नज़ारा', 469: 'जयवरधनेपुरा', 470: 'डेल', 471: 'डरती', 472: 'सेहमत', 473: 'कदाचित', 474: 'इस्लामिक', 475: 'असली', 476: 'एकड़ों', 477: 'पापी', 478: 'जोआना', 479: 'कड़ी', 480: 'युएन', 481: 'सेट', 482: 'रोमानी', 483: 'स्टेन', 484: 'किम', 485: 'नाराज़', 486: 'कछुए', 487: 'उपयुक्त', 488: 'परोसा', 489: 'झूठ', 490: 'हिलते', 491: 'संभाल', 492: 'नव', 493: 'मेहमान', 494: 'वेग', 495: 'भरेगा', 496: 'पहलू', 497: 'बर्न', 498: 'डाक', 499: 'भूख', 500: 'चुन', 501: 'टिलापिया', 502: 'नूनो', 503: 'कैसे', 504: 'डाली', 505: 'यीशु', 506: 'खुले', 507: 'कुर्सी', 508: 'आराम', 509: 'रोमनों', 510: 'धब्बा', 511: 'हमको', 512: 'बीवी', 513: 'कबूतरों', 514: 'मची', 515: 'बावर्ची', 516: 'सेइचो', 517: 'बनाएंगे', 518: 'पा', 519: 'नीचे', 520: 'तलाश', 521: 'लिखिए', 522: 'न्यायाधीश', 523: 'वहाँ', 524: 'तोहफ़े', 525: 'बिता', 526: 'नहायेंगे', 527: 'नीदरलैंड', 528: 'उठाई', 529: 'मीठा', 530: 'आदेश', 531: 'मैग्नीशियम', 532: 'वदीयत', 533: 'कसम', 534: 'गृहकार्य', 535: 'डूबा', 536: 'दारु', 537: 'फ़ोन', 538: 'ईमानदारी', 539: 'पैग़ाम', 540: 'खुशहाली', 541: 'फोन', 542: 'कमज़ोर', 543: 'मंगेतर', 544: 'हिमालय', 545: 'भ्रष्ट', 546: 'हंस', 547: 'तथापि', 548: 'बधाई', 549: 'दिल', 550: 'ग़लतियों', 551: 'स्वीडन', 552: 'उल्टा', 553: 'संक्षेप', 554: 'सिफारिश', 555: 'होनोलूलू', 556: 'चिट्ठी', 557: 'विलाप', 558: 'मेेरी', 559: 'बंदोबस्त', 560: 'हौदा', 561: 'इनके', 562: 'खाई', 563: 'व्यापार', 564: 'हर', 565: 'ग़ौर', 566: 'मचाते', 567: 'एसटर', 568: 'साइकिलें', 569: 'गृहिणी', 570: 'प्रक्रिया', 571: 'हमें', 572: 'इलज़ाम', 573: 'खरीदी', 574: 'केरल', 575: 'जाएं', 576: 'स्क्रू', 577: 'ऐर', 578: 'ट्विटर', 579: 'कहे', 580: 'खाकर', 581: 'स्तनों', 582: 'लौटने', 583: 'तैरूँगा', 584: 'पकड़ने', 585: 'बेतुका', 586: 'हिम्मत', 587: 'जन्मी', 588: 'छोड़िए', 589: 'जुड़वाँ', 590: 'अखबारों', 591: 'जिसमें', 592: 'चॉकलेट', 593: 'एयरपोर्ट', 594: 'बहिष्कार', 595: 'साले', 596: 'सँकरा', 597: 'आके', 598: 'टांगें', 599: 'छूट', 600: 'ढूँढो', 601: 'तरीके', 602: 'पढ़ाना', 603: 'शर्त', 604: 'कृषि', 605: 'समझो', 606: 'सबको', 607: 'मानतीं', 608: 'नवपाषाणकालीन', 609: 'गाड़ियाँ', 610: 'खराबी', 611: 'शामिल', 612: 'हित', 613: 'खिलाईएगा', 614: 'उभयलैंगिकता', 615: 'बिल्ले', 616: 'दीवार', 617: 'झुँको', 618: 'जानबूझकर', 619: 'जेब', 620: 'कैनसल', 621: 'गाते', 622: 'कॉफ़ी', 623: 'बेल्जियम', 624: 'संदर्भ', 625: 'इच्छानुसार', 626: 'अतिरिक्त', 627: 'तुक', 628: 'वरदान', 629: 'क्यूट', 630: 'डिंग', 631: 'आगे', 632: 'सामग्री', 633: 'कांतिमान', 634: 'दानिया', 635: 'सत्य', 636: 'खरीद', 637: 'केन्जी', 638: 'अड्डा', 639: 'अरे', 640: 'हिचकिचाइयें', 641: 'क्रूर', 642: 'हुमायून', 643: 'रहते', 644: 'बताए', 645: 'नैनसी', 646: 'दफ्तर', 647: 'पत्तियाँ', 648: 'विद्या', 649: 'हिट', 650: 'अफसोस', 651: 'वसीयत', 652: 'बोतलें', 653: 'आर्मी', 654: 'किर्गिज़स्तान', 655: 'मई', 656: 'बुरे', 657: 'घूरने', 658: 'नियंत्रित', 659: 'कहता', 660: 'रोमैंटिक', 661: 'छाता', 662: 'पिघलाने', 663: 'दिए', 664: 'मौक़ा', 665: 'बॉल', 666: 'मुनाफ़े', 667: 'पैरों', 668: 'जो', 669: 'सॉफ़्टवेयर', 670: 'भरोसेमंद', 671: 'गवाह', 672: 'मकड़ियां', 673: 'स्टॉप', 674: 'पारिवारिक', 675: 'लड़कियाँ', 676: 'नन्हा', 677: 'सारी', 678: 'पिट', 679: 'साईट', 680: 'तैंतालीस', 681: 'क्यों', 682: 'लम्बे', 683: 'बाढ़', 684: 'केन्द्र', 685: 'इंकार', 686: 'लगादी', 687: 'दोषारोपणों', 688: 'ख़ास', 689: 'आइसक्रीम', 690: 'कबार', 691: 'कौवा', 692: 'अज्ञान', 693: 'दफतर', 694: 'गाती', 695: 'org', 696: 'बेवकूफ़ी', 697: 'ß', 698: 'मार्क्स', 699: 'पुरे', 700: 'युद्धरत', 701: 'काटेगा', 702: 'चाँद', 703: 'भय्या', 704: 'लुंड', 705: 'दस', 706: 'उड़ाने', 707: 'ओकोनोमियाकी', 708: 'चॉपस्टिक्स', 709: 'मक्खन', 710: 'हानिकारक', 711: 'ईमानदार', 712: 'पूंजी', 713: 'सामाजिक', 714: 'खत', 715: 'बड़े', 716: 'योग्यता', 717: 'इकट्ठा', 718: 'लायक', 719: 'शिक्षक', 720: 'पड़', 721: 'हिचकिचाया', 722: 'बुर्ज', 723: 'समिति', 724: 'पहनूंगा', 725: 'करुंगा', 726: 'सोच', 727: 'बजाने', 728: 'महिने', 729: 'असुविधा', 730: 'सुनिए', 731: 'कथित', 732: 'सर्वोत्तम', 733: 'सत्तर', 734: 'चोंट', 735: 'प्लूटो', 736: 'माध्यम', 737: 'जेल', 738: 'बमबई', 739: 'टोयोटा', 740: 'दौड़कर', 741: 'जैसा', 742: 'आसमानों', 743: 'स्वाभाविक', 744: 'सभा', 745: 'पेरिस', 746: 'सोए', 747: 'लक्षणों', 748: 'तेल', 749: 'आकाशगंगा', 750: 'बोलना', 751: 'रिफ्रेश', 752: 'सौंपी', 753: 'वीडियो', 754: 'शर्मदार', 755: 'बकरियों', 756: 'ताओ', 757: 'काटो', 758: 'मैंने', 759: 'लगभग', 760: 'महाद्वीप', 761: 'करो', 762: 'करूंगा', 763: 'सीरिया', 764: 'मनाया', 765: 'घोड़ा', 766: 'दफ़ा', 767: 'लगते', 768: 'गोद', 769: 'जहां', 770: 'बकवास', 771: 'जानें', 772: 'खेलों', 773: 'छानबीन', 774: 'पदार्थ', 775: 'चड़ना', 776: 'जायेगा', 777: 'अभिलाषाओं', 778: 'औरत', 779: 'सकेगा', 780: 'पढ़ना', 781: 'गाता', 782: 'चेम्बरलेन', 783: 'विरोध', 784: 'रक्षा', 785: 'आफ्रिका', 786: 'बैठिए', 787: 'पकोड़े', 788: '“व्यक्ति', 789: 'आवश्क', 790: 'बिज्जू', 791: 'महँगी', 792: 'पियो', 793: 'उतरना', 794: 'तयार', 795: 'आगरा', 796: 'मोटरसाइकिल', 797: 'असंभव', 798: 'दिमाग', 799: 'कठिन', 800: 'बॉलीवूड', 801: 'प्रोसेसर', 802: 'रेखाएं', 803: 'सतत', 804: '९', 805: 'वैसा', 806: 'इतनी', 807: 'बतख़', 808: 'गधा', 809: 'जँचती', 810: 'ठहर', 811: 'मां', 812: 'महीने', 813: 'मुर्गी', 814: 'वृक्षों', 815: 'सुगंध', 816: 'रिमा', 817: 'अंगूर', 818: 'औरतों', 819: 'जी', 820: 'करनेवाली', 821: 'खुशी', 822: 'गलतफ़हमियाँ', 823: 'सँकरी', 824: 'वास्ता', 825: 'इस्तीफ़ा', 826: 'जरा', 827: 'खिलाओ', 828: 'फारसी', 829: 'मेइन', 830: 'स्लोवाकिया', 831: 'चढ़', 832: 'हत्यारा', 833: 'विशालकाय', 834: 'उमय्यद', 835: 'राम', 836: 'ऑनलाइन', 837: 'आंड्रे', 838: 'मुट्ठीभर', 839: 'सपना', 840: 'सम्पर्क', 841: 'नन्ही', 842: 'नौकरानी', 843: 'समझोगे', 844: 'गूँज', 845: 'जरूरत', 846: 'थपथपाया', 847: 'छोड़े', 848: 'हासिल', 849: 'विष्व', 850: 'बिगड़े', 851: 'टर्की', 852: 'टेलीग्राम', 853: 'दूर', 854: 'व्याख्या', 855: 'स्वास्थ्य', 856: 'ताली', 857: 'फाइलें', 858: 'तोड़', 859: 'पाऊँ', 860: 'फदक', 861: 'ब्रायन', 862: 'दीपक', 863: 'सॅमसंग', 864: 'घेरा', 865: 'क्रांति', 866: 'दौरा', 867: 'ऑनलाईन', 868: 'सँभाला', 869: 'धनी', 870: 'तमिल', 871: 'बाक़ी', 872: 'हार्वर्ड', 873: 'पुलिस', 874: 'नीगाता', 875: '-', 876: 'ढूंढते', 877: 'रोमन', 878: 'दृश्य', 879: 'छिड़कना', 880: 'साडे', 881: 'देखीं', 882: 'दुर्प्रभावों', 883: 'चंद', 884: 'मिलाना', 885: 'पत्तियों', 886: 'अकाल', 887: 'आवश्यकता', 888: 'आयात', 889: 'हरी', 890: 'खीचें', 891: 'नब्ज़', 892: 'मस्तिष्क', 893: 'आऊट', 894: 'सब', 895: 'अधिकतम', 896: 'जायदाद', 897: 'उतारी', 898: 'भाषान्तर', 899: 'ट्रम्पेट', 900: 'बाग', 901: 'बनाऊं', 902: 'ग्वातेमाला', 903: 'पिकाचु', 904: 'सेवा', 905: 'इधर', 906: 'बसने', 907: 'जीना', 908: 'कीबोर्ड', 909: 'पहचान', 910: 'देखी', 911: 'हड़ताल', 912: 'कर्त्तव्य', 913: 'कॉन्सर्ट', 914: 'माँचोद', 915: 'चोटी', 916: 'खेलतीं', 917: 'वक्त', 918: 'लड़ो', 919: 'गर्लफ़्रेंड', 920: 'गये', 921: 'थकान', 922: 'किनारे', 923: 'डालते', 924: 'ऑक्सिटन', 925: 'भरोसा', 926: 'खराब', 927: 'बर्फ़', 928: 'भागी', 929: 'विल', 930: 'बलवान', 931: 'दीदी', 932: 'सबूत', 933: 'भाषाएँ', 934: 'काश्गार', 935: 'पार्ट', 936: 'डम्प', 937: 'हवा', 938: 'तेरा', 939: 'रोज्यों', 940: 'निभाओ', 941: 'नेत्रों', 942: 'लाओ', 943: 'बेचती', 944: 'सिखा', 945: 'जन्मजात', 946: 'लेता', 947: 'प्रसारण', 948: 'वेद', 949: 'बोली', 950: 'यही', 951: 'इस', 952: 'पहुंच', 953: 'लौड़े', 954: 'गीलीं', 955: 'दफ़्तर', 956: 'अकेली', 957: 'रवाना', 958: 'रिमोट', 959: 'विघटित', 960: 'स्थापना', 961: 'कीड़े', 962: 'वैसे', 963: 'तीसरे', 964: 'क्या', 965: 'जाना', 966: 'बचा', 967: 'उबासी', 968: 'मारेंगे', 969: 'नीग्रो', 970: '४', 971: 'रोका', 972: 'बैठने', 973: 'पड़ता', 974: 'मासाओ', 975: 'समजोगे', 976: 'फ़रशाद', 977: 'बेसबॉल', 978: 'ठहरे', 979: 'ग़ायब', 980: 'द्वार', 981: 'छू', 982: 'मुझे', 983: 'म्यूरियल', 984: 'दिखाएं', 985: 'आमतौर', 986: 'गड़ी', 987: 'हैरान', 988: 'उन्हे', 989: 'भयंकर', 990: 'अनेक', 991: 'अनुसार', 992: 'झाँक', 993: 'बाय', 994: 'शैतान', 995: 'बुलडॉग', 996: 'सुँघाई', 997: 'पड़ोसी', 998: 'इन्सान', 999: 'तय', 1000: 'पुराणों', 1001: 'लक्षद्वीप', 1002: 'घंटे', 1003: 'हल', 1004: 'जचती', 1005: 'सुलाना', 1006: 'तुम्हारा', 1007: 'लिफ़्ट', 1008: 'घूर', 1009: 'सहन', 1010: 'चलेगी', 1011: 'सर्दियाँ', 1012: 'दुखद', 1013: 'सोफे', 1014: 'प्रावदा', 1015: 'खोना', 1016: 'हे', 1017: 'वैश्विक', 1018: 'जम', 1019: 'कटवाना', 1020: 'चुनने', 1021: 'सोवियेत', 1022: 'विश्वयुद्ध', 1023: 'आश्चर्यों', 1024: 'जनरल', 1025: 'बंद', 1026: 'युनानी', 1027: 'काबुल', 1028: 'उड़ना', 1029: '12', 1030: 'चढ़ते', 1031: 'स्वार्थी', 1032: 'लैंडिंग', 1033: 'तोड़ें', 1034: 'वीरान', 1035: 'डिक्शनरी', 1036: 'मौज', 1037: 'लज़ीज़', 1038: 'जीने', 1039: 'कभार', 1040: 'पकड़ा', 1041: 'जूनो', 1042: 'वालो', 1043: '१६', 1044: '१९४५', 1045: 'जानो', 1046: 'काटकर', 1047: 'मुस्कुराओ', 1048: 'स्नेहमय', 1049: 'पढाई', 1050: 'लौटते', 1051: 'शर्तिया', 1052: 'आपत्ती', 1053: 'दुख', 1054: 'मॅरी', 1055: 'पवित्र', 1056: 'सुखी', 1057: 'उगेगा', 1058: 'क्षेत्रीय', 1059: 'जिनका', 1060: 'खिड़कियाँ', 1061: 'पालना', 1062: 'तकरीबन', 1063: 'दगाबाज', 1064: 'मुकाबले', 1065: 'खंडन', 1066: 'ऐनक', 1067: 'रिकॉर्ड', 1068: 'क्रीम', 1069: 'चल', 1070: 'ज़िंदा', 1071: 'राजु', 1072: 'सवार', 1073: 'बंधा', 1074: 'मना', 1075: 'अत्त्याधिक', 1076: 'बराक', 1077: 'अमरिकियों', 1078: 'जायंट्स', 1079: 'तेजातु', 1080: 'होकर', 1081: 'ढेर', 1082: 'मुर्गियों', 1083: 'वारिस', 1084: 'पांच', 1085: 'हिफ़ाज़त', 1086: 'फ़िकर', 1087: 'जुट', 1088: 'पेन्सिल', 1089: 'ओबोन', 1090: 'होएगी', 1091: 'कैंसर', 1092: 'हाजिर', 1093: 'आरोप', 1094: 'पुराने', 1095: 'पाउंड', 1096: 'कैनेडियन', 1097: 'सोयी', 1098: 'सुलेमान', 1099: 'ख़ाली', 1100: 'अफ़सोस', 1101: 'अखबार', 1102: 'सेंटर', 1103: 'लावा', 1104: 'किसका', 1105: 'लचीली', 1106: 'नहा', 1107: 'रोडिका', 1108: 'झोपड़ी', 1109: 'ट्वीट', 1110: 'यूनियन', 1111: 'पहचानती', 1112: 'चलाइए', 1113: 'कैथी', 1114: 'शाकारी', 1115: 'लिहाज', 1116: '११९', 1117: 'किसको', 1118: 'कागज', 1119: 'निभता', 1120: 'आशंका', 1121: 'आत्महत्या', 1122: 'अपना', 1123: 'असलियत', 1124: 'क्लास', 1125: 'जिम', 1126: 'लाएगा', 1127: 'सहनशीलता', 1128: 'वाक्यों', 1129: 'बलों', 1130: 'सड़ने', 1131: 'ख', 1132: 'इक्कीस', 1133: 'रहेगा', 1134: 'लम्बी', 1135: 'उत्तीर्ण', 1136: 'इन्टरनेट', 1137: 'सदैव', 1138: 'पालनी', 1139: 'अगली', 1140: 'बढ़', 1141: 'पिंक', 1142: 'पहनूंगी', 1143: 'नमक', 1144: 'होक्काइदो', 1145: 'छत्तीसगढ़', 1146: 'किरदार', 1147: 'ट्रेड', 1148: 'शायद', 1149: '४०००', 1150: 'भेड़िया', 1151: 'हम', 1152: 'चंचल', 1153: 'खूनी', 1154: 'पडा', 1155: 'काली', 1156: 'टाँगा', 1157: 'निश्चित', 1158: 'सँभालो', 1159: 'सिखाने', 1160: 'राष्ट्र', 1161: 'जन्मदिन', 1162: 'फोटो', 1163: 'आलू', 1164: 'एतराज़', 1165: 'बदलता', 1166: 'एकदम', 1167: 'सदस्यता', 1168: 'जागने', 1169: 'जाऊं', 1170: 'सर्दी', 1171: 'पार्क', 1172: 'बिल्ला', 1173: 'स्लोवाक', 1174: 'दल', 1175: 'अनीश्वरवादी', 1176: 'उड़ा', 1177: 'ब्राज़ीली', 1178: 'स्वीकारेगा', 1179: 'उस', 1180: 'बेशक', 1181: 'साउथ', 1182: 'इत्मीनान', 1183: 'मुसकुराओ', 1184: 'ज़हीरुद्दीन', 1185: 'बीमा', 1186: 'कबूतर', 1187: 'महसूस', 1188: 'पियानो', 1189: 'आउंगा', 1190: 'कृत्रिम', 1191: 'कायदे', 1192: 'देदी', 1193: 'जानने', 1194: 'ऑक्सफ़र्ड', 1195: 'सिक्कों', 1196: 'तो', 1197: 'इरादे', 1198: 'कर्तव्य', 1199: 'लगे', 1200: 'पकड़ी', 1201: 'शायेद', 1202: 'सम्मानित', 1203: 'जिसे', 1204: 'गैरेज', 1205: 'वही', 1206: 'खाया', 1207: 'फैलता', 1208: 'चेन', 1209: 'छत', 1210: 'ख़िलाफ़', 1211: 'पड़ोसवाली', 1212: 'सुलाते', 1213: 'ठहराया', 1214: 'मैच', 1215: 'पीड़ित', 1216: 'बीच', 1217: 'नसीब', 1218: 'सदा', 1219: 'तिरंगा', 1220: 'निकलो', 1221: 'मोटरसाईकल', 1222: 'झाड़ू', 1223: 'न्याय', 1224: 'परिवर्तित', 1225: 'उद्देश्य', 1226: 'जापानी', 1227: 'उसकी', 1228: 'रखने', 1229: 'शताब्दियों', 1230: 'फ़िल्म', 1231: 'पढ़लो', 1232: 'सोई', 1233: 'योनि', 1234: 'जिस', 1235: 'सड़कें', 1236: 'नतीजे', 1237: 'जीन्स', 1238: 'यान्नी', 1239: 'शक्ति', 1240: 'फेंका', 1241: 'हैती', 1242: 'बहादुरी', 1243: 'मजबूर', 1244: 'स्तुति', 1245: 'उठाए', 1246: 'मेँ', 1247: 'परिचित', 1248: 'जताई', 1249: 'लापता', 1250: 'क़ुतुब', 1251: 'खरीददारी', 1252: 'यूक्रेन', 1253: 'आये', 1254: 'महिलाये', 1255: 'निर्धनता', 1256: 'जॉनसन', 1257: 'चिकन', 1258: 'डरपोक', 1259: 'साईकल', 1260: 'उगाई', 1261: 'पैक', 1262: 'प्रार्थना', 1263: 'आश्रय', 1264: 'तार', 1265: 'बक', 1266: 'खोल', 1267: 'बिल्कुल', 1268: 'पक्ष', 1269: 'देन', 1270: 'दुरबीन', 1271: 'करतें', 1272: 'गप', 1273: 'कोरियाई', 1274: 'ऊँगलीयाँ', 1275: 'पहाड़ों', 1276: 'कार्यक्रम', 1277: 'बुद्धू', 1278: 'उल्लंघन', 1279: 'सफ़ाई', 1280: 'द्वारा', 1281: 'तेर', 1282: 'काहिरो', 1283: 'नगर', 1284: 'छोटे', 1285: '०००', 1286: 'ज़िंदगी', 1287: 'बारह', 1288: 'क्षितिज', 1289: 'दिवस', 1290: 'घूमना', 1291: 'बच', 1292: 'हॅरी', 1293: 'पाया', 1294: 'ऐरो', 1295: 'ज़रूरी', 1296: 'नटखट', 1297: 'जाने', 1298: 'विस्मृत', 1299: 'अर्जित', 1300: 'सारे', 1301: 'थामने', 1302: 'कार्यालय', 1303: 'झगड़ता', 1304: 'नाओको', 1305: 'वो', 1306: 'सामान्यतया', 1307: 'मेल', 1308: 'ऐक्टिनियम', 1309: 'मास्टर', 1310: 'आसान', 1311: 'विद्यालय', 1312: 'भेज', 1313: 'तस्वीरें', 1314: 'अमिताभ', 1315: 'लंडों', 1316: 'घरेलू', 1317: 'वियतनाम', 1318: 'कटाने', 1319: 'त्याग', 1320: 'काफ़ी', 1321: 'सीखता', 1322: 'अल्फाज', 1323: 'माँगने', 1324: 'धूमकेतु', 1325: 'गानों', 1326: 'कोरिया', 1327: 'पिघालने', 1328: 'मदद', 1329: 'पुरानी', 1330: 'ज़बान', 1331: 'मुँह', 1332: 'देखा', 1333: 'कृप्या', 1334: 'तिलचट्टे', 1335: 'स्टूडेंट', 1336: 'आस', 1337: 'संदेश', 1338: '१९६९', 1339: 'इसलिए', 1340: 'पछताए', 1341: 'हस्तमैथुनकर्ता', 1342: 'कप्तान', 1343: 'दैत्य', 1344: 'उसीको', 1345: 'अंताल्या', 1346: 'देखतें', 1347: 'लाऊँ', 1348: 'दें', 1349: 'दीमक', 1350: 'भौंका', 1351: 'गंदे', 1352: 'दिखाइये', 1353: 'ज्ञान', 1354: 'टिकट', 1355: 'गाल', 1356: 'भूतों', 1357: 'दस्तावेज़', 1358: 'सातवाँ', 1359: 'इछुक', 1360: 'काग़ज़', 1361: 'मुझपर', 1362: 'या', 1363: 'कुकीज़', 1364: 'पहनना', 1365: 'बारबरा', 1366: 'नुक्सान', 1367: 'हाथी', 1368: 'ताछ', 1369: 'गुनहगार', 1370: 'जिन्होंने', 1371: 'सच्ची', 1372: 'एस्पेरांतो', 1373: 'क्र', 1374: 'हॉल', 1375: 'सिखाइये', 1376: 'क़ुरान', 1377: 'उम्मीदों', 1378: 'फ़्रांचेस्को', 1379: 'बनाने', 1380: 'कैदीयों', 1381: 'बढ़ता', 1382: 'पहरा', 1383: 'विधि', 1384: 'सड़क', 1385: 'सूमो', 1386: 'गिनती', 1387: 'मातृभाषा', 1388: 'ज्योंकि', 1389: 'प्रदान', 1390: 'घटना', 1391: 'प्रतिनिधित्व', 1392: 'विस्तृत', 1393: 'स्टेट्\\u200dस', 1394: 'নেই', 1395: 'भला', 1396: 'मंगवाया', 1397: 'सुनाई', 1398: 'पहुँचाना', 1399: 'करीब', 1400: 'नाश्ता', 1401: 'आजीवन', 1402: 'ठंड', 1403: 'भेंट', 1404: 'आरामाईक', 1405: 'दौड़ना', 1406: 'पकड़नी', 1407: 'नन्हे', 1408: 'गाड़ना', 1409: 'ढका', 1410: 'ढूँढ़िए', 1411: 'हुक्म', 1412: 'जाचुका', 1413: 'घुल', 1414: 'स्पष्ट', 1415: 'दफ़नाया', 1416: 'प्रसिद्व', 1417: 'जंगली', 1418: 'राक्षस', 1419: 'घाव', 1420: 'हैं', 1421: 'पेश', 1422: 'ज़्यादातर', 1423: 'फडणवीस', 1424: 'इतालवी', 1425: 'बन', 1426: 'बैठा', 1427: 'वाईन', 1428: 'जानते', 1429: 'कीव', 1430: 'शिश्न', 1431: 'दस्तावेज', 1432: 'होके', 1433: 'नॉव्हेल', 1434: 'पूछें', 1435: 'अमरीका', 1436: 'शाँत', 1437: 'बनता', 1438: 'टॉब', 1439: 'विश्वास', 1440: 'चूहे', 1441: 'रुकें', 1442: 'इजहार', 1443: 'अजनबी', 1444: 'सागर', 1445: 'निवासी', 1446: 'बनायी', 1447: 'सप्ताह', 1448: 'चलोगे', 1449: 'जोख़िम', 1450: 'पीछे', 1451: 'TV', 1452: 'गुलाब', 1453: 'रिरियाने', 1454: 'उच्चारण', 1455: 'खरीदे', 1456: 'शादी', 1457: 'जंग', 1458: 'शासन', 1459: 'होगे', 1460: 'स्टीवन्स', 1461: 'उसी', 1462: 'छुपा', 1463: 'छाल', 1464: 'करवाता', 1465: 'सिमसिम', 1466: 'यंत्र', 1467: 'खोलें', 1468: 'डूब', 1469: 'अधिकतर', 1470: '१९९१', 1471: 'आमंत्रित', 1472: 'निम्न', 1473: 'ट्रम्प', 1474: 'गणराज्य', 1475: 'ग़ुलाम', 1476: 'कद्दू', 1477: 'बॉयफ़्रेन्ड', 1478: 'रहे', 1479: 'विओलिन', 1480: 'सर्च', 1481: 'माहिर', 1482: 'कलात्मक', 1483: 'ब', 1484: 'देवों', 1485: 'टुकड़ों', 1486: 'हिल', 1487: 'मुख्य', 1488: 'तारीफ़', 1489: 'आयडिया', 1490: 'दफ़न', 1491: 'ओर', 1492: 'बसीं', 1493: 'इंजीनियर', 1494: 'मुस्कुराहट', 1495: 'बहनें', 1496: 'देखने', 1497: 'थके', 1498: 'कलकत्ता', 1499: 'एलिस', 1500: 'कौढ़ी', 1501: 'शिक्षिका', 1502: 'ताक़तवर', 1503: 'कुत्ते', 1504: 'दिक्कत', 1505: 'सीखते', 1506: 'ओह', 1507: 'कर्मों', 1508: 'मरते', 1509: 'चढ़ने', 1510: 'थैले', 1511: 'लौटाने', 1512: 'बदाम', 1513: 'पिता', 1514: 'कमाल', 1515: 'डालर', 1516: 'भाषाओं', 1517: 'अपनाएं', 1518: 'बचपना', 1519: 'ख़ज़ाना', 1520: 'काना', 1521: 'बेचते', 1522: 'अमेरिकी', 1523: 'शुक्रिया', 1524: 'हमे', 1525: 'इन्द्रधनुष', 1526: 'बनवालिया', 1527: 'फिरसे', 1528: 'हाय', 1529: 'लो', 1530: 'विपत्ती', 1531: 'किसी', 1532: 'अपने', 1533: 'लगेगी', 1534: 'गड्ढा', 1535: 'बेचतें', 1536: 'लागू', 1537: 'इंसाफ', 1538: 'ट्रेन', 1539: 'आग', 1540: 'प्रसाद', 1541: 'नहाओगी', 1542: 'मुड़ोगे', 1543: 'लौटे', 1544: 'आमंत्रण', 1545: 'सरल', 1546: 'उधार', 1547: 'हिंदू', 1548: 'थका', 1549: 'कि', 1550: 'दिखाऊँगा', 1551: 'कैदी', 1552: 'खाऊंगी', 1553: 'लेने', 1554: 'कईं', 1555: 'विरोधी', 1556: 'पॉलिना', 1557: 'पर्िथ्वी', 1558: 'करेगा', 1559: 'भारी', 1560: 'प्रमुख', 1561: 'पॉइंट', 1562: 'रस', 1563: 'म्युज़ियम', 1564: 'सौंप', 1565: 'पुर्त्तगाली', 1566: 'लगेंगे', 1567: 'चौथाई', 1568: 'प्रस्ताव', 1569: 'विद्युत', 1570: 'अक्ल', 1571: 'बगैर', 1572: 'अंकल', 1573: 'मुशकिल', 1574: 'अधिकारी', 1575: 'एकेश्वरवादी', 1576: 'निभाना', 1577: 'उठाने', 1578: 'बजाते', 1579: '२९', 1580: 'गए', 1581: 'चावल', 1582: 'आते', 1583: 'मुस्कान', 1584: 'युरोप', 1585: 'पेट', 1586: 'ईंधनों', 1587: 'मोटी', 1588: 'शिक्षा', 1589: 'आइंस्टीन', 1590: 'कंधा', 1591: 'छाते', 1592: 'उनको', 1593: 'ग़ैरक़ानूनी', 1594: 'आईं', 1595: 'विजेता', 1596: 'जीतेगी', 1597: 'जुड़वा', 1598: 'पकड़ोगी', 1599: 'एस्पान्या', 1600: 'समझकर', 1601: 'पाते', 1602: 'चुनौतीपूर्ण', 1603: 'खरीदारी', 1604: 'अरेरे', 1605: 'तस्कर', 1606: 'प्रगती', 1607: 'कोयल', 1608: 'नौकरी', 1609: 'सही', 1610: 'मैरिज', 1611: 'कंठशोथ', 1612: 'सड़े', 1613: 'पढ़ाया', 1614: 'वर्ल्ड', 1615: 'मौलिकता', 1616: 'पायी', 1617: 'मछलीयां', 1618: 'अस्वीकार', 1619: 'हारा', 1620: 'केवल', 1621: 'शरदोत्सव', 1622: 'उछलती', 1623: 'नर्क', 1624: 'बताती', 1625: 'मामले', 1626: 'शास्त्री', 1627: 'लाल', 1628: 'घरवालों', 1629: 'बताओ', 1630: '१८०४', 1631: 'सिवाय', 1632: 'कर्मचारियों', 1633: 'लिंग', 1634: 'कोट', 1635: 'उनके', 1636: 'सहायक', 1637: 'मोहब्बत', 1638: 'महल', 1639: 'करने', 1640: 'अधूरे', 1641: 'जीतीं', 1642: 'हिचकिचाहट', 1643: 'डोनट', 1644: 'तॉम', 1645: 'जियामिंग', 1646: 'दोगे', 1647: 'झुको', 1648: 'मार्ग', 1649: 'जुआओं', 1650: 'बुराई', 1651: 'फ्रांस', 1652: 'तोहफे', 1653: 'बुखारेस्ट', 1654: 'रोटियां', 1655: 'चले', 1656: 'निपटाओ', 1657: 'ममेरा', 1658: 'मर्दों', 1659: 'लड़ूंगा', 1660: '१', 1661: 'टाम', 1662: 'जानना', 1663: 'मजेदार', 1664: 'सके', 1665: 'गुना', 1666: 'कड़ा', 1667: 'बचीं', 1668: 'होगा', 1669: 'अमोनियम', 1670: 'फिसलती', 1671: 'करती', 1672: 'खड़ा', 1673: 'सहपाठियों', 1674: 'शोक', 1675: 'दुबारा', 1676: 'डौलर्स', 1677: 'गांड', 1678: 'आत्मविश्वासी', 1679: 'उदाहरण', 1680: 'पिया', 1681: 'गाएँ', 1682: 'रोजाने', 1683: 'जलदी', 1684: 'जानि', 1685: 'भविष्यदर्शी', 1686: 'जँचता', 1687: 'आया', 1688: 'जीभ', 1689: 'आइसलॅन्डिक', 1690: 'उत्पादित', 1691: 'ग', 1692: 'निर्भर', 1693: 'जचता', 1694: 'थमा', 1695: 'पक्षी', 1696: 'जाउंगी', 1697: 'माना', 1698: 'कमाता', 1699: 'खर्च', 1700: 'जूड़े', 1701: 'स्क्रैच', 1702: 'भाषाएं', 1703: 'सुन', 1704: 'पुस्तकें', 1705: 'गाइए', 1706: 'संत्रे', 1707: 'मिलने', 1708: 'देखो', 1709: 'संभव', 1710: 'शिशु', 1711: 'इलेक्ट्रानिक्स', 1712: 'सिरों', 1713: 'रे', 1714: 'मलाय', 1715: 'घुसाओ', 1716: 'निकलने', 1717: 'सिखाई', 1718: '१९९६', 1719: 'निम्नलिखित', 1720: 'मौजूद', 1721: 'लोगो', 1722: 'आदतें', 1723: 'चौक', 1724: 'गुब्बारा', 1725: 'फाड़', 1726: 'कर', 1727: 'गिरा', 1728: 'राजाजी', 1729: 'पहचानतीं', 1730: 'समलैंगिक', 1731: 'जानों', 1732: 'अंधेरा', 1733: 'हताश', 1734: 'रिओ', 1735: 'युगांडा', 1736: 'ब्याज', 1737: 'मानि', 1738: 'प्रतिशत', 1739: 'जीतने', 1740: 'पीृतिभोज', 1741: 'मित्र', 1742: 'फलों', 1743: 'सेवों', 1744: 'धुलकर', 1745: 'खुला', 1746: 'मेट्रो', 1747: '१९८४', 1748: 'लगादोगे', 1749: 'प्रदूषण', 1750: 'पैदा', 1751: 'मुम्बईकर', 1752: 'सोऊंगी', 1753: 'चुना', 1754: 'निभाएगा', 1755: 'कोबे', 1756: 'तुम्हारे', 1757: '१९४८', 1758: 'पर्याय', 1759: 'उसका', 1760: 'छूटते', 1761: 'पड़ोस', 1762: 'गोलाकार', 1763: 'बहार', 1764: 'भारत', 1765: 'फारस', 1766: 'भाग', 1767: 'फ़्रानसीसी', 1768: 'फैंक', 1769: 'बेघर', 1770: 'युक्रेनी', 1771: 'पि', 1772: 'सरलता', 1773: 'मालदीव', 1774: 'टैक्सी', 1775: 'फ्रेंच', 1776: 'शासक', 1777: '२०१३', 1778: 'दुल्हन', 1779: 'ड्राईवर', 1780: 'किताबों', 1781: 'फ़ैक्टरी', 1782: 'बधाईयाँ', 1783: 'गर्लफ्रेंड', 1784: 'अनिवार्य', 1785: 'मित्रों', 1786: 'तुम्हारी', 1787: 'स्वाद', 1788: 'लग', 1789: 'कर्क', 1790: 'दिखने', 1791: 'हराया', 1792: 'भूलता', 1793: 'बैठे', 1794: 'होनेवाली', 1795: 'चमकता', 1796: 'दीं', 1797: 'प्रतिदिन', 1798: 'उपयोग', 1799: 'ग्लास', 1800: 'सियाही', 1801: 'ई॰पू॰', 1802: 'दिखाना', 1803: 'बुधवार', 1804: 'सितारा', 1805: 'निकलते', 1806: 'हंसो', 1807: 'जीती', 1808: 'अगला', 1809: 'गिलास', 1810: 'साधुओं', 1811: 'परिस्थिति', 1812: 'बनाई', 1813: 'पराकाष्ठा', 1814: 'नेहा', 1815: 'अस', 1816: 'अलग', 1817: 'तीव्र', 1818: 'रेखांकित', 1819: 'अकसर', 1820: 'डेनिश', 1821: 'टैबलेट', 1822: 'चण्डीगढ़', 1823: 'पूर्वाभास', 1824: 'भरोगे', 1825: 'मामला', 1826: 'अंत', 1827: 'तेलुगू', 1828: 'टर्मिनस', 1829: 'केंब्रिज', 1830: 'उठाइये', 1831: 'सिखाओगे', 1832: 'छत्रपति', 1833: 'पटरी', 1834: 'कूदते', 1835: 'सीखने', 1836: 'अनुपस्थित', 1837: 'बोल', 1838: 'मुड़ो', 1839: 'परिश्रम', 1840: 'कुकी', 1841: 'खिसक', 1842: 'कार्य', 1843: 'गरीबों', 1844: 'आउंगी', 1845: 'डैन', 1846: 'कहना', 1847: 'मदिरालय', 1848: 'औरडर', 1849: 'चाहते', 1850: 'जल', 1851: 'धीर्ग', 1852: 'रघुनाथ', 1853: 'चरमोत्कर्ष', 1854: 'मिली', 1855: 'असहिष्णु', 1856: 'थाईलेंड', 1857: 'दूंगा', 1858: 'आखरी', 1859: 'उतार', 1860: 'राजेंद्र', 1861: 'अॅन्डर्सन', 1862: 'याद', 1863: 'देनी', 1864: 'घोड़े', 1865: 'अकेलापन', 1866: 'सत्यार्थ', 1867: 'पोत', 1868: 'मतली', 1869: 'अंतर्दृष्टि', 1870: 'सोलहवा', 1871: 'झूठे', 1872: 'हिंदी', 1873: 'बाईं', 1874: 'सिद्धान्त', 1875: 'बुलवाई', 1876: 'अधिकांश', 1877: 'येन', 1878: 'खेलते', 1879: 'मातृ', 1880: 'इसपर', 1881: 'कहेगा', 1882: 'खा', 1883: 'सऊदी', 1884: 'पढ़ो', 1885: 'फट', 1886: 'मरोगे', 1887: 'नौ', 1888: 'समाया', 1889: 'कलाकार', 1890: 'दवाईयों', 1891: 'दफना', 1892: 'ध्वज', 1893: 'काबुकी', 1894: 'सकती', 1895: 'चुकी', 1896: 'बाद', 1897: 'पूछो', 1898: 'कंबल', 1899: 'गर्म', 1900: 'लिया', 1901: 'तोड़ो', 1902: 'सोचो', 1903: 'बजाया', 1904: 'रीति', 1905: 'लिखवाते', 1906: 'मुक्त', 1907: 'बदबू', 1908: 'डब्बा', 1909: 'शुभकामनाएँ', 1910: 'शिक्षण', 1911: 'अक्खड़पन', 1912: 'हिस्से', 1913: 'कार्दशियन', 1914: 'अपनी', 1915: 'दूँगी', 1916: 'पाँचगुना', 1917: 'हड्डी', 1918: 'जांच', 1919: 'उछल', 1920: 'सूझ', 1921: 'सभ्यताओं', 1922: 'वफादार', 1923: 'कपों', 1924: 'करदी', 1925: 'झूठा', 1926: 'निर्दोष', 1927: 'बताएं', 1928: 'मांग', 1929: 'कार्बोनेट', 1930: 'भूयीयों', 1931: 'लज्जित', 1932: 'समस्या', 1933: 'सुनते', 1934: 'कराटे', 1935: 'ब्रिटेनी', 1936: '१६००', 1937: 'प्रोग्राम', 1938: 'गाना', 1939: 'बोलोगी', 1940: 'घूरा', 1941: 'बजाय', 1942: 'यॉर्क', 1943: 'ज़्यूस', 1944: '१९८०', 1945: 'सूट', 1946: 'पटक', 1947: 'सीमित', 1948: 'बादल', 1949: 'रोज़ेटा', 1950: 'महाराजाओं', 1951: 'धार्मिक', 1952: 'अपनाया', 1953: 'सो', 1954: 'चाबियाँ', 1955: 'पंख', 1956: 'धनहीन', 1957: 'गलील', 1958: 'अँडे', 1959: 'वफ़ादार', 1960: 'ऊंचा', 1961: 'बेचारा', 1962: 'मायुको', 1963: 'परमेश्वर', 1964: 'लूसिया', 1965: 'पहुँचाएगा', 1966: 'सुख', 1967: 'उने', 1968: 'क़ागज़ों', 1969: 'सवालों', 1970: 'ज़र्द', 1971: 'रेत', 1972: 'इसतीफ़ा', 1973: 'सूरज', 1974: 'तलना', 1975: 'मलाई', 1976: 'थम', 1977: 'पीने', 1978: 'ऐन', 1979: 'चुराने', 1980: 'सा', 1981: 'जॉगिंग', 1982: 'सैली', 1983: 'कसक', 1984: 'था', 1985: 'काँच', 1986: 'करदिआ', 1987: 'अल', 1988: 'जन', 1989: 'ध्यानपूर्वक', 1990: 'पीछा', 1991: 'प्रगति', 1992: 'वर्षीय', 1993: 'यदि', 1994: 'होमेवोर्क', 1995: 'केउत्स', 1996: 'घडी़', 1997: 'शब्दकोश', 1998: 'मे', 1999: 'झटके', 2000: 'लक्सेमबोर्ग', 2001: 'हजारे', 2002: 'पकाया', 2003: 'कैरल', 2004: 'तैर', 2005: 'कैलिफोर्निया', 2006: 'करेंगी', 2007: 'जिसने', 2008: 'इंक़िलाब', 2009: 'युनिसायकल', 2010: 'पिज़्ज़ा', 2011: 'शिफ़्ट', 2012: 'बहाने', 2013: 'कनाडा', 2014: 'पहचानता', 2015: 'रामू', 2016: 'आपातकालीन', 2017: 'कैलिफ़ोर्निया', 2018: 'नाप', 2019: 'नज़दीक', 2020: 'दुकान', 2021: 'प्रदर्शन', 2022: 'कमाने', 2023: 'उतर', 2024: 'लाया', 2025: 'पराजित', 2026: 'जायेंगे', 2027: 'बिस्टर', 2028: 'खुद', 2029: 'मारिका', 2030: 'बैठिये', 2031: 'रबड़', 2032: 'समस्याएँ', 2033: 'परिस्तिथि', 2034: 'पूछा', 2035: 'खलीफा', 2036: 'पकड़', 2037: 'दिलाती', 2038: 'हालत', 2039: 'आरोग्य', 2040: 'सीखेंगी', 2041: 'बेसब्री', 2042: 'नहीं', 2043: 'सुखभरी', 2044: 'वायलिन', 2045: 'थोडे', 2046: 'वंचित', 2047: 'खो', 2048: 'संकट', 2049: 'ज़मीर', 2050: 'टिम', 2051: 'बेलख़िए', 2052: 'हल्का', 2053: 'डिल्डो', 2054: 'अनुवाद', 2055: 'दौड़ते', 2056: 'भारतीयों', 2057: 'खाइए', 2058: 'सिखायी', 2059: 'कुरसियाँ', 2060: 'गिरोगे', 2061: 'सउदी', 2062: 'चाँटे', 2063: 'ऊँगली', 2064: 'बरबादी', 2065: 'अनाथ', 2066: 'निडर', 2067: 'ग़लती', 2068: 'अंडरवूड', 2069: 'छुरा', 2070: 'बहस', 2071: 'थोड़े', 2072: 'समझी', 2073: 'गांव', 2074: 'साथ', 2075: 'A', 2076: 'सीखनी', 2077: 'रुकते', 2078: 'बिंदु', 2079: 'अट्ठाईस', 2080: 'अजीब', 2081: 'सुलझाना', 2082: 'निशाना', 2083: 'तोला', 2084: 'मैनिपुलेटर', 2085: 'परख', 2086: 'टैड्डी', 2087: 'श्रिमती', 2088: 'कलाकृति', 2089: 'बात', 2090: 'उतारा', 2091: 'स्टार', 2092: 'नाच', 2093: 'सिसिली', 2094: 'पकड़लो', 2095: 'केल्टिक', 2096: 'उद्यान', 2097: 'इक्का', 2098: 'डाउनलोड', 2099: 'कुफल', 2100: 'चाहिएं', 2101: 'पीला', 2102: 'सलाह', 2103: 'फ़ो', 2104: 'पट', 2105: 'सोकर', 2106: 'काट', 2107: 'पृष्ठ', 2108: 'टाइम', 2109: 'वाली', 2110: 'बस', 2111: 'सबक', 2112: 'देखनी', 2113: 'पारभासी', 2114: 'बीयर', 2115: 'तर्रार', 2116: 'उपहार', 2117: 'बीमारों', 2118: 'चौड़ा', 2119: 'मानेगा', 2120: 'कबसे', 2121: 'रुके', 2122: 'कहां', 2123: 'नील्स', 2124: 'इब्रानी', 2125: 'ब्रह्माण्ड', 2126: 'गिरता', 2127: 'उँगली', 2128: 'लुक़मान', 2129: 'तबाह', 2130: 'मामूली', 2131: 'धर्माधिकरण', 2132: 'बताऊँगी', 2133: 'बेहोशी', 2134: 'कामोन्माद', 2135: 'तुला', 2136: 'शहर', 2137: 'सलामती', 2138: 'ली', 2139: 'चढ़ा', 2140: 'मंगा', 2141: 'ड्रैगन', 2142: 'संघीय', 2143: 'कोने', 2144: 'सौंदर्य', 2145: 'घंटा', 2146: 'सड़', 2147: 'उछलो', 2148: 'बताओं', 2149: 'बाथरूम', 2150: 'मिलें', 2151: 'मुस्कराए', 2152: 'हुकू़क़', 2153: 'बढ़ो', 2154: 'गुजरात', 2155: 'चुपचाप', 2156: 'इन्कार', 2157: 'दूं', 2158: 'भुगतान', 2159: 'रामुडु', 2160: 'पलायन', 2161: 'भेजें', 2162: 'स्वादिष्ट', 2163: 'आँसू', 2164: 'बोलतीं', 2165: 'आविष्कार', 2166: 'जाऊंगी', 2167: 'होने', 2168: 'कैथोलिक', 2169: 'पुर्तुगाली', 2170: 'सब्ज़ियों', 2171: 'छा', 2172: 'हिमाचल', 2173: 'प्लास्टिक', 2174: 'बाज़ी', 2175: 'सोलह', 2176: 'इतिहासकार', 2177: 'बोलेंगे', 2178: 'इंसानों', 2179: 'सोवियत', 2180: 'लगाने', 2181: 'फ़ोटोकॉपियर', 2182: 'चलें', 2183: 'हिलो', 2184: 'रहस्य', 2185: 'स्थानीय', 2186: 'समझ', 2187: 'मशीन', 2188: 'फेंक', 2189: 'तरफ', 2190: 'अनुपस्तिथि', 2191: 'भेजने', 2192: 'पट्टियाँ', 2193: 'रक्त', 2194: 'शेर', 2195: 'हैदराबाद', 2196: 'एक', 2197: 'पूरा', 2198: 'लक्ष्य', 2199: 'सेब', 2200: 'युक्तियुक्त', 2201: 'शिकायत', 2202: 'दुशान्बे', 2203: 'न्यू', 2204: 'गुथी', 2205: 'छुप्पी', 2206: 'एशियाइयों', 2207: 'ख़यालात', 2208: 'लगवा', 2209: 'चुके', 2210: 'ऐसी', 2211: 'गै', 2212: 'सुंदर', 2213: 'केंद्र', 2214: 'बुलाई', 2215: 'नब्बे', 2216: 'थप्पड़', 2217: 'लोकतंत्र', 2218: 'शोख', 2219: 'एड्रेस', 2220: 'बनाऊंगा', 2221: 'निकल', 2222: 'ट्रिप', 2223: 'भरनी', 2224: 'पिटे', 2225: 'तारों', 2226: 'तितली', 2227: ':', 2228: 'चोदने', 2229: 'मुस्कुराया', 2230: 'औरतें', 2231: 'निकलिये', 2232: 'मुफ़्त', 2233: 'करतीं', 2234: 'शोहरत', 2235: 'फ़सल', 2236: 'हिरोको', 2237: 'किला', 2238: 'निधन', 2239: 'चादर', 2240: 'सीखा', 2241: 'राष्ट्रध्वज', 2242: 'बेवकूफ़', 2243: 'रिपोर्ट', 2244: 'गुलाबी', 2245: 'रही', 2246: 'गोली', 2247: 'विदोश', 2248: 'सवेरे', 2249: 'अली', 2250: 'महाशय', 2251: 'मक्खी', 2252: 'रखिए', 2253: 'गोश्त', 2254: 'मध्य', 2255: 'रोजी', 2256: 'है', 2257: 'मकान', 2258: 'कामकाज', 2259: 'पैदाइश', 2260: 'घंटी', 2261: 'संतुलन', 2262: 'समृद्ध', 2263: 'खिलौने', 2264: 'बसे', 2265: 'मीठी', 2266: 'दिलचस्पी', 2267: 'हल्की', 2268: 'सिखाना', 2269: 'झंडे', 2270: 'विक्टोरिया', 2271: 'ग़रीबी', 2272: 'करनाटक', 2273: 'सिद्धांत', 2274: 'अपनेआप', 2275: 'भंडार', 2276: 'दास', 2277: 'आप', 2278: 'मील', 2279: 'टूटे', 2280: 'ऑस्ट्रेलियाई', 2281: 'डुबो', 2282: 'नज़रअंदाज़', 2283: 'खून', 2284: 'निकलना', 2285: 'जागे', 2286: 'निपुण', 2287: 'टेन्निस', 2288: 'अमीर', 2289: 'बिल्लियाँ', 2290: 'रामानिया', 2291: 'प्रकट', 2292: 'कार्बाइड', 2293: 'सुनाया', 2294: 'महिलाएँ', 2295: 'नफ़रत', 2296: 'आफ़्रिका', 2297: 'ऑफिसर', 2298: 'टिड्डा', 2299: 'जॉशुआ', 2300: ',', 2301: 'राजाओं', 2302: 'पैरिस', 2303: 'शर्मिंदा', 2304: 'अवस्था', 2305: 'डर', 2306: 'होंगीं', 2307: 'केतली', 2308: 'ज़मीन', 2309: 'सीढ़ी', 2310: 'टेक्सी', 2311: 'दुर्भाग्य', 2312: 'नहायेंगी', 2313: 'थीं', 2314: 'दया', 2315: 'बटुआ', 2316: 'एथेंस', 2317: 'साँस', 2318: 'पकवान', 2319: 'शिमला', 2320: 'चलत', 2321: 'देखता', 2322: 'खोया', 2323: 'धमाके', 2324: 'दातो', 2325: 'रूसी', 2326: 'गयें', 2327: 'बुलंद', 2328: 'आगिल्किआ', 2329: 'जवानी', 2330: 'हफ़्ते', 2331: 'टैक्स', 2332: 'खट्टा', 2333: 'किसान', 2334: 'पूजा', 2335: 'हारे', 2336: 'इलाक़ा', 2337: 'बच्चा', 2338: 'जीवन', 2339: 'इंग्लिश', 2340: 'बनातीं', 2341: 'पैमाने', 2342: 'बेची', 2343: 'पढ़के', 2344: 'अपाहिज', 2345: 'मशरूम', 2346: 'मनोरंजक', 2347: 'किता', 2348: 'शब्द', 2349: 'मिवाको', 2350: 'ग़लतफ़ैमी', 2351: 'आखिर', 2352: 'उबलने', 2353: 'बताएँ', 2354: 'देखती', 2355: 'बाकी', 2356: 'टी', 2357: 'सनकी', 2358: 'सामने', 2359: 'अफ़वा', 2360: 'सीखूंगी', 2361: 'अपका', 2362: 'प्रतिध्वनि', 2363: 'वॉरक्राफ्ट', 2364: 'एन्क्रिप्टेड', 2365: 'डब्बे', 2366: 'बना', 2367: 'मनाते', 2368: 'इंतज़ार', 2369: 'अब्दुल', 2370: 'खगोल', 2371: 'उलटा', 2372: 'अनुभव', 2373: 'बाँहों', 2374: 'नींद', 2375: 'फाइल', 2376: 'मरे', 2377: 'स्पीकर', 2378: 'स्कर्ट', 2379: 'बॅग', 2380: 'मिलाता', 2381: 'बताई', 2382: 'लूंगा', 2383: 'अनुवादित', 2384: 'हैलो', 2385: 'सर्वश्रेष्ठ', 2386: 'स्मॉग', 2387: 'घटिया', 2388: 'भागते', 2389: 'बलात्कार', 2390: 'तम्बाकू', 2391: 'सज्जित', 2392: 'गर्व', 2393: 'बनाया', 2394: 'यादें', 2395: 'घमण्डी', 2396: 'जायें', 2397: 'उत्तर', 2398: 'सूँघ', 2399: 'व्यक्तियों', 2400: 'सकी', 2401: 'भेजे', 2402: 'हर्यातु', 2403: 'बहुमत', 2404: 'जाऊँ', 2405: 'सर्वोच्च', 2406: 'करुणा', 2407: 'डेनमार्क', 2408: 'साबुन', 2409: 'रंग', 2410: 'उसे', 2411: 'पीले', 2412: 'वैर', 2413: 'बीचों', 2414: 'ज्ञात', 2415: 'समझाउँगा', 2416: 'पुर्त्तगाल', 2417: 'जपानी', 2418: 'हँ', 2419: 'लगाओ', 2420: 'फूल', 2421: 'रखरखाव', 2422: 'प्रायद्वीप', 2423: 'मूँह', 2424: 'कहाँ', 2425: 'जारक', 2426: 'लिस्ट', 2427: 'पश्चिमी', 2428: 'देखना', 2429: 'हरमीस', 2430: 'प्रेम', 2431: '१९७७', 2432: 'बताया', 2433: 'संसार', 2434: 'मुझा', 2435: 'अरबिय्यह', 2436: 'टहलें', 2437: 'कमी', 2438: 'पसंदीता', 2439: 'मुरम्मत', 2440: 'अँग्रेज़ी', 2441: 'जबरदस्ती', 2442: 'आश्चर्य', 2443: 'यात्रा', 2444: 'मिनट', 2445: 'लिंक', 2446: 'किलो', 2447: 'बूढ़ा', 2448: 'खोला', 2449: 'यहां', 2450: 'झाड़ो', 2451: 'मुख', 2452: 'विवाह', 2453: 'खुश', 2454: 'निकालिए', 2455: 'रंडी', 2456: 'कपड़ो', 2457: 'आयोजन', 2458: 'मूँगफलियाँ', 2459: 'मुसलाधार', 2460: 'दिमाग़', 2461: 'राष्ट्रीय', 2462: '१९६०', 2463: 'नारा', 2464: 'तरफ़', 2465: 'एकता', 2466: 'सुरक्षित', 2467: 'बचाते', 2468: 'सोनी', 2469: 'लेकर', 2470: 'मूल्य', 2471: 'जीए', 2472: 'परीक्षण', 2473: 'हटाने', 2474: 'टेरा', 2475: 'खनिज', 2476: 'एवं', 2477: 'डरते', 2478: 'बनेंगे', 2479: 'टाइप', 2480: 'पहनोगी', 2481: 'रोटी', 2482: 'कलम', 2483: 'आकाश', 2484: 'छोड़ो', 2485: 'आइस', 2486: 'मिलूँ', 2487: 'शा', 2488: 'जगे', 2489: 'वायु', 2490: 'छुट्टियों', 2491: 'समाहित', 2492: 'जंगल', 2493: 'उठाया', 2494: ';', 2495: 'व', 2496: 'रहेंगे', 2497: 'पेशा', 2498: 'अफ़वाह', 2499: 'छब्बीस', 2500: 'एइडीज़', 2501: 'उत्कृष्ट', 2502: 'लाहोर', 2503: 'मिलवाने', 2504: 'यथार्थ', 2505: 'ज़िरी', 2506: 'बचातीं', 2507: 'रंगों', 2508: 'ऐमब्यूलेंस', 2509: 'टेरेसा', 2510: 'ईरानी', 2511: 'लगाया', 2512: 'अवार्ड', 2513: 'चमके', 2514: 'ताकतवर', 2515: 'झील', 2516: 'बाया', 2517: 'विवेक', 2518: 'लोरी', 2519: 'देखकर', 2520: 'आर्मस्ट्रांग', 2521: 'डिस्क', 2522: 'फैला', 2523: 'युक्राईना', 2524: 'कौवों', 2525: 'भविष्य', 2526: 'चमत्कार', 2527: 'जीन्ज़', 2528: 'धोना', 2529: 'हुए', 2530: 'खुलती', 2531: 'रोमांचक', 2532: 'सस्ते', 2533: 'लौडा', 2534: 'प्रकाश', 2535: 'गिरते', 2536: 'अन्दर', 2537: 'सत्रह', 2538: 'अहमदाबाद', 2539: 'कुबलई', 2540: 'अमरीकीयों', 2541: 'दोपहरभर', 2542: 'थे', 2543: 'मकड़ियों', 2544: 'पीढ़ी', 2545: 'लिखता', 2546: 'जैसी', 2547: 'वार', 2548: 'लात', 2549: 'जा', 2550: 'इमारतों', 2551: 'ख़रीदा', 2552: 'पत्र', 2553: 'बेच', 2554: 'स्टैम्प', 2555: 'लगती', 2556: 'धोती', 2557: 'ज़हरीले', 2558: 'सूज', 2559: 'लौटनेवाला', 2560: 'टुकड़ा', 2561: 'हीं', 2562: 'बन्द', 2563: 'पड़ताल', 2564: 'वैटिकन', 2565: 'हुआ', 2566: 'आजतक', 2567: 'लगाई', 2568: 'मीन', 2569: 'जातीं', 2570: 'बजाता', 2571: 'पड़ेगा', 2572: 'नाज़ी', 2573: 'दिखते', 2574: 'हेलसिंकी', 2575: 'तातोएबा', 2576: 'पनीर', 2577: 'प्लीज़', 2578: 'भिन्न', 2579: 'अंग्रेज़ों', 2580: 'पकाती', 2581: 'विषय', 2582: 'रास्ते', 2583: 'गी', 2584: 'पैकेज', 2585: 'मानव', 2586: 'उठकर', 2587: 'व्हिस्की', 2588: 'कब्रिस्तान', 2589: 'चाहती', 2590: 'सालों', 2591: 'ताजिकिस्तान', 2592: 'बदल', 2593: 'इसी', 2594: 'स्वामी', 2595: 'सोत्रों', 2596: 'जलाती', 2597: 'पुस्तकालय', 2598: 'दिलाता', 2599: 'गुलामी', 2600: 'सुन्दरता', 2601: 'खैरियत', 2602: 'उतरो', 2603: 'इलाज', 2604: 'असभ्य', 2605: 'लगाव', 2606: 'चीत', 2607: 'चंगुल', 2608: 'जोन', 2609: 'संभावना', 2610: 'फ़ोटो', 2611: 'चीज़', 2612: 'बोलेगा', 2613: 'तेंदुओं', 2614: 'बजाए', 2615: 'पेढ', 2616: 'अकलमंद', 2617: 'अनुवादों', 2618: 'रुकता', 2619: 'लाइक', 2620: 'लड़कों', 2621: 'पुनः', 2622: 'रेलगाड़ी', 2623: 'डालकर', 2624: 'खोलिए', 2625: 'अहमद', 2626: 'सोमवार', 2627: 'बाएँ', 2628: 'गिलहरी', 2629: 'प्रक्षेपित', 2630: 'पोती', 2631: 'बचाने', 2632: 'क्षारातु', 2633: 'झरने', 2634: 'ईसाई', 2635: 'रुमाल', 2636: 'खेद', 2637: 'कांच', 2638: 'मिठाईयाँ', 2639: 'चुकीं', 2640: 'निर्दयी', 2641: 'मंत्रिवर', 2642: 'को', 2643: 'रुकना', 2644: 'फैलाये', 2645: 'ख़ुदा', 2646: 'मानसिकता', 2647: 'पानिनी', 2648: 'एडिथ', 2649: 'हालचाल', 2650: 'चौथे', 2651: 'लाके', 2652: 'ऋण', 2653: 'वज़न', 2654: 'हँसे', 2655: 'लैटिन', 2656: 'इनकार', 2657: 'करें', 2658: 'छिपाने', 2659: 'अनपेक्षित', 2660: 'गिरे', 2661: 'रसोईघर', 2662: 'चमच', 2663: 'बक्से', 2664: 'दिलाया', 2665: 'चहिए', 2666: 'नशा', 2667: 'लूँगा', 2668: 'chat', 2669: 'प्रारम्भिक', 2670: 'मुबारक़', 2671: 'पाय', 2672: 'उबले', 2673: 'डालो', 2674: 'वज़नदार', 2675: 'प्रदेशों', 2676: 'सिख', 2677: 'खलीफ़ा', 2678: 'राक्षसों', 2679: 'लेंगी', 2680: '१८६५', 2681: 'नील', 2682: 'संरक्षण', 2683: 'गुलदान', 2684: 'तेज', 2685: 'फ्लेमिश', 2686: 'तूफ़ान', 2687: 'बत्तियाँ', 2688: 'मिलना', 2689: 'दुक्का', 2690: 'लिखतें', 2691: 'राजनीति', 2692: 'शोर', 2693: 'काइज़र', 2694: 'लिखकर', 2695: 'वैनकूवर', 2696: 'देखिए', 2697: 'झलक', 2698: 'ज़रा', 2699: 'पहले', 2700: 'भागिए', 2701: 'खोलो', 2702: 'दिख', 2703: 'डोमिनिकाना', 2704: 'जलवायु', 2705: 'ऑनली', 2706: 'डचेस', 2707: 'मुहम्मद', 2708: 'पलकों', 2709: 'अभिनेत्री', 2710: 'पीते', 2711: 'अद्भुत', 2712: 'ग्राहक', 2713: 'गर्दन', 2714: 'यातायात', 2715: 'गेंदबाज़ी', 2716: 'देना', 2717: 'झाड़ी', 2718: 'खींच', 2719: 'मज़ाक़', 2720: 'रुकूँगा', 2721: 'होंठ', 2722: 'ऐलन', 2723: 'गोरे', 2724: 'सुनकर', 2725: 'भूल', 2726: 'ऐलर्जी', 2727: 'हिरासत', 2728: 'यूनानी', 2729: 'चाहूँगी', 2730: 'चिंताएं', 2731: 'नरक', 2732: 'मेरा', 2733: 'खाओगे', 2734: 'चलानी', 2735: 'सहमत', 2736: 'दूत', 2737: 'मुझसे', 2738: 'होइए', 2739: 'विदेशी', 2740: 'इशारे', 2741: 'छुट्टी', 2742: 'बैठ', 2743: 'B', 2744: 'हज़ार', 2745: 'कॉपीराईट', 2746: 'वाला', 2747: 'हल्ला', 2748: 'विवेकी', 2749: 'तुलना', 2750: 'तुमसे', 2751: 'खाएंगे', 2752: 'स्नातक', 2753: 'खोलते', 2754: 'भर्ती', 2755: 'बेचता', 2756: 'रखूँगा', 2757: 'डॉस', 2758: 'छंट', 2759: 'रोकेंगे', 2760: 'स्ट्रॉबेरी', 2761: 'हवाई', 2762: 'पहुँचेंगे', 2763: 'भूलूँगा', 2764: 'चहरा', 2765: 'किसे', 2766: 'बेबी', 2767: 'सांस्कृतिक', 2768: 'केस', 2769: 'ऑडिशन', 2770: 'हिन्दुस्तानी', 2771: 'तहकीकात', 2772: 'संतुष्ट', 2773: 'उड़ो', 2774: 'गाजर', 2775: 'चिट्ठियाँ', 2776: 'धोई', 2777: 'इन', 2778: 'उत्पादों', 2779: 'ज़रूरत', 2780: 'चाहे', 2781: 'बेकरी', 2782: 'ख़रीदो', 2783: 'विपरीत', 2784: 'रहती', 2785: 'कप', 2786: 'लोहा', 2787: 'चिकी', 2788: 'उतारता', 2789: 'प्रतिज्ञा', 2790: 'आमने', 2791: 'मीना', 2792: 'शादीशुदा', 2793: 'काटोगे', 2794: 'वेलेंटाइन', 2795: 'लिखो', 2796: 'साधा', 2797: 'मजबूत', 2798: 'फ़र्क', 2799: 'लगातार', 2800: 'इंडिया', 2801: 'लूटें', 2802: 'नदी', 2803: 'खायेगा', 2804: 'दुनिया', 2805: 'दशक', 2806: 'फटे', 2807: 'आना', 2808: ')', 2809: 'मुझको', 2810: 'प्रभाव', 2811: 'अंदर', 2812: 'शिकारी', 2813: 'हँसने', 2814: 'इकतालिसवा', 2815: 'बजाना', 2816: 'प्रति', 2817: 'पर्यावरण', 2818: 'हरा', 2819: 'ऐनडर्सन', 2820: 'पुलाव', 2821: 'नियमों', 2822: 'मनपसंद', 2823: 'बचके', 2824: 'भ्राजातु', 2825: 'परेशानी', 2826: 'स्पोर्ट्स', 2827: 'वैसी', 2828: 'देखते', 2829: 'गीली', 2830: 'लाते', 2831: 'लैपटॉप', 2832: 'भूटान', 2833: 'ख़रीदता', 2834: 'पार्थिव', 2835: 'बूढे', 2836: 'आपको', 2837: 'बचाइए', 2838: 'पढ़ा', 2839: 'विद्यार्थियों', 2840: 'गिरेगा', 2841: 'दाखिल', 2842: 'देखभाल', 2843: 'भयानक', 2844: 'नये', 2845: 'इंग्लैंड', 2846: 'जीते', 2847: 'सावधान', 2848: 'मेनेजर', 2849: 'पर्वत', 2850: 'पति', 2851: 'फाल्के', 2852: 'वयस्क', 2853: 'बुकशॉप', 2854: 'डर्जन', 2855: 'सदस्य', 2856: 'कुशल', 2857: 'बंदर', 2858: 'कैमेरा', 2859: 'हमसे', 2860: 'तैरूँगी', 2861: 'कुत्तों', 2862: 'टिकिट', 2863: 'प्रश्न', 2864: 'रोमवासी', 2865: 'जिम्मेदारी', 2866: 'मारती', 2867: 'भरना', 2868: 'करूँगा', 2869: 'विष्ठा', 2870: 'दर्दनाक', 2871: 'स्तिथि', 2872: 'महासागर', 2873: 'रोना', 2874: 'मनुष्यों', 2875: 'चलो', 2876: 'कंधे', 2877: 'ज्योत्षी', 2878: 'सातवा', 2879: 'डच', 2880: 'बोलते', 2881: 'घना', 2882: 'बेचनी', 2883: 'सहानुभूति', 2884: 'पिकचर', 2885: 'खरीदूंगा', 2886: 'विधियां', 2887: 'इस्लामाबाद', 2888: 'पॅट', 2889: 'साम्राज्य', 2890: 'टेट्रिस', 2891: 'किताबें', 2892: 'संग्रह', 2893: 'उंचाई', 2894: 'सिक्का', 2895: 'दीजिएगा', 2896: 'चश्मे', 2897: 'रो', 2898: 'अच्छाई', 2899: 'फ़ायदा', 2900: 'लौटाना', 2901: 'प्रोस्ट्रेट', 2902: 'मेरीं', 2903: 'अफ्रीका', 2904: 'हँसें', 2905: 'सौ', 2906: 'आऊँगा', 2907: 'स्रोत', 2908: '७', 2909: 'द्वीप', 2910: 'वाट्सऐप', 2911: 'बोलने', 2912: 'न्यूयार्क', 2913: 'जुर्म', 2914: 'उद्योग', 2915: 'डाल', 2916: 'निर्धारित', 2917: 'टिकती', 2918: 'ख़रीदूंगा', 2919: 'दुर्व्यवहार', 2920: 'उपनिवेश', 2921: 'हक', 2922: 'मिलियन', 2923: 'सिखाओ', 2924: 'दौड़ने', 2925: 'तकलीफ', 2926: 'मुच', 2927: 'बुद्ध', 2928: 'एओस्तेराइख़', 2929: 'बिजली', 2930: 'नागरिक', 2931: 'बाताऊँगी', 2932: 'चादरें', 2933: 'बंदा', 2934: 'पुष्टि', 2935: 'पहाड़ियां', 2936: 'फेंकने', 2937: 'राष्ट्रपति', 2938: 'बाल्टी', 2939: 'आँखों', 2940: 'बनाता', 2941: 'बियर', 2942: 'ताओवादी', 2943: 'खाऊंगा', 2944: 'बीवा', 2945: 'होजाएगी', 2946: 'सुफल', 2947: 'लोकसंख्या', 2948: 'बच्चे', 2949: 'भूलिएगा', 2950: 'साहित्य', 2951: 'ज़रूरतमंदों', 2952: 'लेटने', 2953: 'सिवा', 2954: 'बुनना', 2955: 'लाता', 2956: 'खर्चना', 2957: 'ठीक', 2958: '५०', 2959: 'विचारों', 2960: 'पसंदीदा', 2961: 'इंजन', 2962: '१७४७', 2963: 'मेक्सिको', 2964: 'लिए', 2965: 'टीम', 2966: 'देदीजिए', 2967: 'सर्व', 2968: 'स्कैनर', 2969: 'उदास', 2970: 'वेतन', 2971: 'थकी', 2972: 'धींगामुश्ती', 2973: 'रोता', 2974: 'चढ़ाव', 2975: 'मुट्ठी', 2976: 'लेजाने', 2977: 'युल', 2978: 'शिकस्त', 2979: 'फ़ारसी', 2980: 'तटस्थ', 2981: 'जाओगी', 2982: 'पिछ', 2983: 'देवेंद्र', 2984: 'अक्तूबर', 2985: 'छल', 2986: 'लॅपटॉप', 2987: 'चाकू', 2988: 'बेवकूफ', 2989: 'स्वभाविक', 2990: 'मंदी', 2991: 'मोड़ो', 2992: 'अंग्रेज़ी', 2993: 'ये', 2994: 'मेरे', 2995: 'हिलने', 2996: 'लिखीं', 2997: 'ढक', 2998: 'ताइवान', 2999: 'चित्र', 3000: 'डोमिनिकन', 3001: 'केकड़ा', 3002: 'ईरान', 3003: 'एस्पेरान्तो', 3004: 'स्वतंत्र', 3005: 'पड़े', 3006: 'समझाएं', 3007: 'आज', 3008: 'कारखाना', 3009: 'लाने', 3010: 'चालीस', 3011: 'फ़्रान्स', 3012: 'निभाने', 3013: 'पेंट', 3014: 'दहशत', 3015: 'जूतों', 3016: 'अनाज', 3017: 'प्रातःकाल', 3018: 'फ़िर', 3019: 'लगाइये', 3020: 'यात्री', 3021: 'दुर्लभ', 3022: 'पहुँचे', 3023: 'शुरुआत', 3024: 'मुड़ता', 3025: 'जहाज़', 3026: 'ख़रीदने', 3027: 'आलसी', 3028: 'सच', 3029: 'जाओगे', 3030: 'दूसरो', 3031: 'चिढ़', 3032: 'जल्दबाजी', 3033: 'उठो', 3034: 'क़ैदियों', 3035: 'डालोगे', 3036: 'आए', 3037: 'छोड़दी', 3038: 'छुपाते', 3039: 'धनु', 3040: 'पश्चात', 3041: 'मुझ', 3042: 'बाघ', 3043: 'तूफ़ानों', 3044: 'सुनाओ', 3045: 'तीसरा', 3046: 'पछाड़', 3047: 'अधिकारों', 3048: 'आंखे', 3049: 'सूप', 3050: 'दूतावास', 3051: 'ज़ख्मी', 3052: '“कितनी', 3053: 'मशहूर', 3054: 'पिआफ़', 3055: 'माथे', 3056: 'चोदा', 3057: 'अनदेखा', 3058: 'अभिमानी', 3059: 'शाम', 3060: 'क्योंकि', 3061: 'स्थल', 3062: 'उपयोगी', 3063: 'चूमने', 3064: 'भोपाल', 3065: 'पेट्रोल', 3066: 'खड़ी', 3067: 'वस्नीकों', 3068: 'ज़िम्मेदारी', 3069: 'अच्छा', 3070: 'बनाना', 3071: 'लम्बीं', 3072: 'चिट्ठियों', 3073: 'विश्वविद्यालय', 3074: 'मिस्र', 3075: 'मौके', 3076: 'पाएँगे', 3077: 'मंज़िल', 3078: 'पूछूँगा', 3079: 'कॅलगरी', 3080: 'हफ़्ता', 3081: 'गणतन्त्र', 3082: 'का', 3083: 'बैठें', 3084: 'मुरदा', 3085: 'मज़ाक', 3086: 'टुकड़ो', 3087: 'प्लैन', 3088: 'रानी', 3089: 'बांधने', 3090: 'चीजें', 3091: 'कासिम', 3092: 'अत्याधिक', 3093: 'पाल', 3094: 'साथतानी', 3095: 'पुराना', 3096: 'कबूल', 3097: 'मंगाऊँ', 3098: 'पूछ', 3099: 'बताइए', 3100: 'निष्पक्ष', 3101: 'लेती', 3102: 'नक़्शा', 3103: 'चाहिए', 3104: 'दबाकर', 3105: 'काले', 3106: 'फर्क', 3107: 'निपटना', 3108: 'केसरी', 3109: 'मौक़े', 3110: 'फ्लू', 3111: 'महिला', 3112: 'काहे', 3113: 'वास्तविकता', 3114: 'पहचाना', 3115: 'पूज्य', 3116: 'पर॑तु', 3117: 'पार्सल', 3118: 'गौल्फ़', 3119: 'चीज़ें', 3120: 'निकाली', 3121: 'अमरिका', 3122: 'कोई', 3123: 'धोका', 3124: 'मूर्खता', 3125: 'लेते', 3126: 'भौतिक', 3127: 'सर्वनाश', 3128: 'सेक्स', 3129: 'स्मिथ', 3130: 'कई', 3131: 'करवाना', 3132: 'कानून', 3133: 'गलतियाँ', 3134: '१९४७', 3135: 'दी', 3136: 'वोह', 3137: 'वर्षा', 3138: 'खेत', 3139: 'जुलती', 3140: 'भूलकर', 3141: 'एशिया', 3142: 'प्रशंसक', 3143: 'बोलता', 3144: 'कानूनी', 3145: 'क्लिक', 3146: 'पाऊँगा', 3147: 'शिकारियों', 3148: 'जुगाड़', 3149: 'साथी', 3150: 'धूप', 3151: 'चट्टान', 3152: 'भ्रमण', 3153: 'स्टेशन', 3154: 'मिनिटों', 3155: 'नें', 3156: 'जाऊँगा', 3157: 'थी', 3158: 'बिज़ी', 3159: 'सुतार', 3160: 'सीता', 3161: 'लगा', 3162: 'फ़ॉस्टर', 3163: 'सीधा', 3164: 'टेक्सटाइल', 3165: 'लहरा', 3166: 'भेजा', 3167: 'अपनाने', 3168: 'हील्स', 3169: 'रुको', 3170: 'उल्टी', 3171: 'सूची', 3172: 'फ़िल्में', 3173: 'सोया', 3174: 'शर्म', 3175: 'दिलाते', 3176: 'चिल्लाने', 3177: 'गर्भावस्था', 3178: 'कार', 3179: 'कविताएं', 3180: 'गोल्फ़', 3181: 'अकल', 3182: 'मकड़ीयों', 3183: 'सूझी', 3184: 'चढ़ेगा', 3185: 'क्षमताएं', 3186: 'प्रॉडक्ट्स', 3187: 'सिखाता', 3188: 'मसीह', 3189: 'स्मरण', 3190: 'विश्व', 3191: 'लम्बा', 3192: 'क्रेडिट', 3193: 'गाओ', 3194: 'आंख', 3195: 'दुखी', 3196: 'मुस्कुराई', 3197: 'बरसात', 3198: 'दुश्मनों', 3199: 'यूरोप', 3200: 'ग्रांडे', 3201: 'शतक', 3202: 'शिइताके', 3203: 'आतंकवादियों', 3204: 'जमे', 3205: 'बिताने', 3206: 'चलाना', 3207: 'जूते', 3208: 'घोडा', 3209: 'सिखाएंगे', 3210: 'अक्टूबर', 3211: 'भीतर', 3212: 'सपने', 3213: 'मक़बरा', 3214: 'नेक', 3215: 'रातभर', 3216: 'जुटाने', 3217: 'रोबेर्टो', 3218: 'अधिकृत', 3219: 'उड़ते', 3220: '१९०५', 3221: 'लिख़्टेन्श्टाइन', 3222: 'ला', 3223: 'शराबख़ाना', 3224: 'इसतेमाल', 3225: 'सभ', 3226: 'आएँगे', 3227: 'पाना', 3228: 'माज्याँग', 3229: 'जीतूँगी', 3230: 'कॅलिफॉर्निया', 3231: 'मेड्रिड', 3232: 'हाथ', 3233: 'शुभचिंतक', 3234: 'करंगी', 3235: 'ख़याल', 3236: 'प्रेरणा', 3237: 'ज्वर', 3238: 'वायोला', 3239: 'खान', 3240: 'सोचे', 3241: 'हिरोशिमा', 3242: 'चीजों', 3243: 'प्रशंसनीय', 3244: 'मम्मे', 3245: 'कीजिए', 3246: 'इनवेस्टमेंट', 3247: 'छोड़नी', 3248: 'करूं', 3249: 'कचरे', 3250: 'जाऊँगी', 3251: 'पौधे', 3252: 'ठहरा', 3253: 'निर्माण', 3254: 'आसपास', 3255: 'निमित्त', 3256: 'खुल', 3257: 'वाइड', 3258: 'घुसा', 3259: 'इज्जतदार', 3260: 'करूँ', 3261: 'व्यर्थ', 3262: 'सुरियाह', 3263: 'निश्चय', 3264: 'चलाया', 3265: 'यरुशलम', 3266: 'सितंबर', 3267: 'टिप्पणियाँ', 3268: 'एकसमान', 3269: 'बंगाली', 3270: 'डेस्क', 3271: 'कम्पनी', 3272: 'अनुकरणीय', 3273: 'प्रतिक्षा', 3274: 'डॉलर', 3275: 'हाज़िर', 3276: 'तानने', 3277: 'अन्ना', 3278: 'छात्र', 3279: 'धोखा', 3280: 'खोली', 3281: 'ड्रैगन्स', 3282: 'जमा', 3283: 'आदी', 3284: 'आटा', 3285: 'साहब', 3286: 'दिखाइए', 3287: 'पाकिस्तान', 3288: 'मर', 3289: 'अभिमान', 3290: 'करदोगे', 3291: 'मिल', 3292: 'विज्ञान', 3293: 'युक्रेन', 3294: 'सिखाते', 3295: 'दसियों', 3296: 'येमेन', 3297: 'इतने', 3298: 'सुझाव', 3299: 'मनुष्य', 3300: 'प्रजा', 3301: 'लड़', 3302: 'इतिहास', 3303: 'दिये', 3304: 'सेनापति', 3305: 'मर्दाना', 3306: 'दिलाना', 3307: 'नाना', 3308: 'राजकुमारियों', 3309: 'निर्णय', 3310: 'रोज़', 3311: 'बेडरूम', 3312: 'गवां', 3313: 'खानी', 3314: 'नम्बर', 3315: 'मुम्बई', 3316: 'विकसित', 3317: 'पुताई', 3318: 'साधारण', 3319: 'पढ़नी', 3320: 'शॉन', 3321: 'कैनरी', 3322: 'व्यक्ति', 3323: 'मॉल', 3324: 'जाये', 3325: '.', 3326: 'चेला', 3327: 'ऑस्ट्रेलिया', 3328: 'मरम्मत', 3329: 'उड़ाएँ', 3330: 'सोने', 3331: 'शांत', 3332: 'स्वयं', 3333: 'चाहिएँ', 3334: 'खींचकर', 3335: 'बनना', 3336: '१५', 3337: 'कॉलेज', 3338: 'वेडर', 3339: 'बिलकुल', 3340: 'अंधे', 3341: 'मंजन', 3342: 'तरक्की', 3343: 'हाँ', 3344: 'कार्ल', 3345: '३०', 3346: 'आईये', 3347: 'भूक', 3348: 'डरावना', 3349: 'सर्बिया', 3350: 'ताकि', 3351: 'थाइलैंड', 3352: 'विडूर', 3353: 'में', 3354: 'चित', 3355: 'केले', 3356: 'जलेगा', 3357: 'आपसे', 3358: 'गेहूँ', 3359: 'अंधेर', 3360: 'जुपिटर', 3361: 'रुकी', 3362: 'सब्ज़ियाँ', 3363: 'सहेलीयों', 3364: 'पेशवा', 3365: 'थूकेगा', 3366: 'रखिएगा', 3367: 'डायल', 3368: 'सूचित', 3369: 'कीचड़', 3370: 'इज़राइल', 3371: 'बीन', 3372: 'आदि', 3373: 'प्रभावशाली', 3374: 'शोषण', 3375: 'क्रिकेट', 3376: 'भगवान', 3377: 'कैमेरन', 3378: 'फँसाया', 3379: 'कारण', 3380: 'अहम', 3381: 'परिमार्जित', 3382: 'सब्र', 3383: 'उड़ान', 3384: 'औद्योगिक', 3385: 'सिक्के', 3386: 'उन', 3387: 'सामान', 3388: 'गलियारा', 3389: 'लेजाओगे', 3390: 'देस', 3391: 'मुलाक़ात', 3392: 'अल्जीयर्स', 3393: 'चलेंगे', 3394: 'बदसूरत', 3395: 'दुशमन', 3396: 'बगल', 3397: 'साठ', 3398: 'लूई', 3399: 'आती', 3400: 'मुताज़', 3401: 'वाक्य', 3402: 'पहाड़', 3403: 'फ्रित्ज़', 3404: 'निवासियों', 3405: 'प्राप्त', 3406: 'चुका', 3407: 'जीतते', 3408: 'प्रोफेसर', 3409: 'कीड़ें', 3410: 'मज़ेदार', 3411: 'मॉली', 3412: 'नुकीली', 3413: 'पाता', 3414: 'दिनों', 3415: 'दिवाली', 3416: 'ऋगवेद', 3417: 'खोदा', 3418: 'कितना', 3419: 'शक्कर', 3420: 'रटना', 3421: 'रहिये', 3422: 'वायोलिन', 3423: 'बारसिलोना', 3424: 'ख़रीद', 3425: 'बढ़ाने', 3426: 'गुज़र', 3427: 'भेजूंगी', 3428: 'मिलकर', 3429: 'चुनो', 3430: 'मिटाओ', 3431: 'जवाब', 3432: 'शुक्रवार', 3433: 'व्यक्त', 3434: 'कॉपियाँ', 3435: 'आऊँगी', 3436: 'दरअसल', 3437: 'चलना', 3438: 'पुरस्कार', 3439: 'विकल्पों', 3440: 'चर्च', 3441: 'परसों', 3442: 'चूस', 3443: 'जय', 3444: 'कुचल', 3445: 'पार्श्व', 3446: 'लौटकर', 3447: 'गिरजाघर', 3448: 'शान्ति', 3449: 'रोम', 3450: 'नास्तिक', 3451: 'हैना', 3452: 'असफल', 3453: 'सुनूँगा', 3454: 'कॉनरी', 3455: 'हाँग', 3456: 'तसवीरें', 3457: 'उतारिए', 3458: 'एमिली', 3459: 'कहती', 3460: 'डाँट', 3461: 'खींज', 3462: 'किसने', 3463: 'जापानियों', 3464: 'मातापिता', 3465: 'तुमको', 3466: 'बेनाम', 3467: 'बगीचे', 3468: 'डेबिएर्न', 3469: 'जाएगी', 3470: 'इजिप्टाई', 3471: 'पालतू', 3472: '२०१०', 3473: 'क', 3474: 'गला', 3475: 'घोषित', 3476: 'अच्छी', 3477: 'चमकदार', 3478: 'फ़्रांसीसी', 3479: 'शून्य', 3480: 'यारक', 3481: 'रहिए', 3482: 'हॉरर', 3483: 'झूला', 3484: 'शेड्यूल', 3485: 'प्रेमी', 3486: 'मुर्गियाँ', 3487: 'सुशी', 3488: 'दूँ', 3489: 'तैरती', 3490: 'डराती', 3491: 'दोषी', 3492: 'पारित', 3493: 'लुका', 3494: 'छूटता', 3495: 'बर्मी', 3496: 'अंग', 3497: 'खरीदना', 3498: 'सिटी', 3499: 'पाती', 3500: 'धातु', 3501: 'आयेगा', 3502: 'हवाईजहाज़', 3503: 'सेंट', 3504: 'लडकी', 3505: 'गैलीलियो', 3506: 'नैइमेग़न', 3507: 'जब', 3508: 'स्विजरलैंड', 3509: 'बाँध', 3510: 'चोदते', 3511: 'वॉरेन', 3512: 'समझाया', 3513: 'ड्राईव', 3514: 'दूसरे', 3515: 'इमारतें', 3516: 'हकला', 3517: 'इसकी', 3518: 'ट्यूनीशिया', 3519: 'टोकियो', 3520: 'लिस्बन', 3521: 'मारते', 3522: 'ताल्लुक़', 3523: 'चियर्स', 3524: 'ब्रिटिज', 3525: 'भूका', 3526: 'बिछाई', 3527: 'गीता', 3528: 'ऑस्ट्रेल्या', 3529: 'नमस्कार', 3530: 'दफनाया', 3531: 'हत्या', 3532: 'पांडा', 3533: 'शाबाश', 3534: 'सिलाफ़न', 3535: 'तुमपर', 3536: 'डेंग्यू', 3537: 'हीरों', 3538: '१८२१', 3539: 'सुलाया', 3540: '$', 3541: 'माँगे', 3542: 'क्षमा', 3543: 'अधिक', 3544: 'पिज़ा', 3545: 'गीले', 3546: 'नताशा', 3547: 'मात्सुमोतो', 3548: 'हाशिमोतो', 3549: 'माँगी', 3550: 'गठरी', 3551: 'मुहावरें', 3552: 'गिलहरियाँ', 3553: 'आधे', 3554: 'गुड', 3555: 'हेतु', 3556: 'अंतर', 3557: 'उपस्थित', 3558: 'अस्तित्व', 3559: 'विद्यार्थी', 3560: 'कौशल', 3561: 'दर', 3562: 'फुट\\u200dबॉल', 3563: 'यहाँ', 3564: 'चूमा', 3565: 'समझेंगे', 3566: 'आख़िरकार', 3567: 'बावन', 3568: 'दिखे', 3569: 'देखतीं', 3570: 'ऋतु', 3571: 'धावा', 3572: 'उदजन', 3573: 'व्यक्ती', 3574: 'लुसी', 3575: 'वस्तुओं', 3576: 'शराबी', 3577: 'लड़कियों', 3578: 'मठाधीश', 3579: 'करनी', 3580: 'भूलती', 3581: 'स्कूल', 3582: 'पायेंगे', 3583: '“मुझे', 3584: 'हादसा', 3585: 'नहाने', 3586: 'रॉक', 3587: 'डार्थ', 3588: 'मिलेगा', 3589: 'हँसीं', 3590: 'हिला', 3591: 'जवान', 3592: 'ईमान', 3593: 'नसीबवाला', 3594: 'जले', 3595: 'कश्मीर', 3596: 'चाचा', 3597: 'इगज़ैम', 3598: 'ओलिंपिक', 3599: 'समाधि', 3600: 'लिपटा', 3601: 'नारियल', 3602: 'गुड़ियों', 3603: 'पाँच', 3604: 'प्रायः', 3605: 'मत', 3606: 'बिताता', 3607: 'तंग', 3608: 'अतीत', 3609: 'पड', 3610: 'विज्ञानी', 3611: 'रिहाई', 3612: 'चोरों', 3613: 'हेल्मेट', 3614: 'ताज', 3615: 'पढ़तें', 3616: 'धन', 3617: 'रवि', 3618: 'ऑस्ट्रिया', 3619: 'बेहोश', 3620: 'जिससे', 3621: 'कपडों', 3622: 'बहतर', 3623: 'उतारे', 3624: 'दिखती', 3625: 'आह', 3626: 'वेल्स', 3627: '१६३६', 3628: 'बार', 3629: 'अनुभूति', 3630: 'कमियां', 3631: 'आएं', 3632: 'बचाए', 3633: 'खतम', 3634: 'वास्तव', 3635: 'स्पुटनिक', 3636: 'शतरंज', 3637: 'अभिभावकों', 3638: 'पालने', 3639: 'ओफ़', 3640: 'सामना', 3641: 'बैठीं', 3642: 'स्वेच्छा', 3643: 'मस्जिद', 3644: 'पीती', 3645: 'संगठन', 3646: 'पूंछ', 3647: 'चाहता', 3648: 'नाम', 3649: 'करके', 3650: 'कृपया', 3651: 'पती', 3652: 'आज़ाद', 3653: 'खुलता', 3654: 'जहरीली', 3655: 'मूसा', 3656: 'करता', 3657: 'खुलकर', 3658: 'आदर', 3659: 'नाइट', 3660: 'गाने', 3661: 'हुक़्म', 3662: 'फिसल', 3663: 'गति', 3664: 'भौंकने', 3665: 'क्योतो', 3666: 'चेतावनी', 3667: 'संकीर्ण', 3668: 'जीतेंगे', 3669: 'सूटकेस', 3670: 'प्यारी', 3671: 'पाने', 3672: 'लोगे', 3673: 'माताओं', 3674: 'निकम्मे', 3675: 'ख़ुफ़िया', 3676: 'चिन', 3677: 'ढुँढ', 3678: 'करोड़', 3679: 'हॉलीवुड', 3680: 'संन्यास', 3681: 'वातावरण', 3682: 'अकेलेपन', 3683: 'चालक', 3684: 'युद्ध', 3685: 'सरकारों', 3686: 'भावनाओं', 3687: 'फ़ायरफ़ॉक्स', 3688: 'पिघला', 3689: 'संवाद', 3690: 'जिनमें', 3691: 'शर्ट', 3692: 'पागलों', 3693: 'डरावनी', 3694: 'उठाओ', 3695: 'गाड़ी', 3696: 'ना', 3697: 'जातें', 3698: 'कार्बनिक', 3699: 'सहेली', 3700: 'बह', 3701: 'पकड़ो', 3702: 'लड़ना', 3703: 'संकोच', 3704: 'ज़िन्दगी', 3705: 'क्षमताओं', 3706: '१९८८', 3707: 'लिपि', 3708: 'ज़ुलफ़िकर', 3709: 'उठाती', 3710: 'शास्त्रीय', 3711: 'बुआ', 3712: 'ज़माने', 3713: 'सुधार', 3714: 'किताब', 3715: 'ले', 3716: 'उम्मीदवार', 3717: 'तोड़ा', 3718: 'चलिए', 3719: 'क्लासरूम', 3720: 'मकर', 3721: 'पूछूं', 3722: 'चढ़ाया', 3723: 'आओगे', 3724: 'प्रेसीडेंट', 3725: 'ख़राब', 3726: 'हैंडबैग', 3727: 'उठी', 3728: 'खेलो', 3729: 'पीटर', 3730: 'कहूँगा', 3731: 'सकतें', 3732: 'फ़्रांसीसीयों', 3733: 'रास्ता', 3734: 'निकले', 3735: 'एजेंसी', 3736: 'प्रतिमा', 3737: 'शाकाहारी', 3738: 'दुर्बल', 3739: 'पहुंचाने', 3740: 'बेक', 3741: 'ब्रासिल', 3742: 'उनमें', 3743: 'चोट', 3744: 'स्पा', 3745: 'सख्त', 3746: 'भौंह', 3747: 'टाईम', 3748: 'इंटरनेट', 3749: 'लन्दन', 3750: 'अफ़्रीकी', 3751: 'रोते', 3752: 'आजकल', 3753: 'ओपन', 3754: 'अंपायर', 3755: 'मारें', 3756: 'मेकअप', 3757: 'चाय', 3758: 'ढून्ढ', 3759: '८', 3760: 'निकालते', 3761: 'मन', 3762: 'जापन', 3763: 'डोनटों', 3764: 'नियम', 3765: 'चाहो', 3766: 'भट्टा', 3767: 'पुनर्विवाह', 3768: 'मनाने', 3769: 'ग्रुप', 3770: 'थप्पड', 3771: 'समाचार', 3772: 'निहत्थे', 3773: 'जीवों', 3774: 'भूखें', 3775: 'संदेस', 3776: 'झुकाएं', 3777: 'ग़ुस्से', 3778: 'पड़ें', 3779: 'रखेंगे', 3780: 'बोलिंग', 3781: 'आधी', 3782: 'मम्मी', 3783: 'ब्लडी', 3784: 'बिताओगे', 3785: 'कुल', 3786: 'कम्युनिस्ट', 3787: 'यिदिर', 3788: 'डरना', 3789: 'ब्रेक', 3790: 'जामुन', 3791: 'हथियार', 3792: 'दिखाई', 3793: 'हिन्दी', 3794: 'चूतिया', 3795: 'होल्ड', 3796: 'राजधानीयां', 3797: 'शक्ती', 3798: 'समझाई', 3799: 'ताज़ी', 3800: 'नकलची', 3801: 'आम', 3802: 'ब्लॉग', 3803: 'जाँच', 3804: 'फेंकिए', 3805: 'झगड़ों', 3806: 'पुरुषों', 3807: 'अनुमति', 3808: 'चाटा', 3809: 'छः', 3810: 'भाईचारे', 3811: 'नमस्ते', 3812: 'करेंगे', 3813: 'सुप्रभात', 3814: 'तेज़ी', 3815: 'वाइन', 3816: 'वेगन', 3817: 'ढकेल', 3818: 'ईसा', 3819: 'सूर्य', 3820: 'मेहनती', 3821: 'हँस', 3822: 'सौंदरराजन', 3823: 'सहयोग', 3824: 'कुढ़ना', 3825: 'जज्बे', 3826: 'उपलब्ध', 3827: 'गिरनी', 3828: 'हड्डियां', 3829: 'मिलिए', 3830: 'बगुला', 3831: 'जानतीं', 3832: 'बालटी', 3833: 'लिपियों', 3834: 'क्रिेकेट', 3835: 'स्पेनी', 3836: 'ग्रीन', 3837: 'दिवालिया', 3838: 'यामादा', 3839: 'सुनने', 3840: 'दाढ़ी', 3841: 'ऑफ़', 3842: 'ऐसा', 3843: 'विस्फोटो', 3844: 'महत्त्वपूर्ण', 3845: 'वैद्य', 3846: 'बीतने', 3847: 'श्रम', 3848: 'जैक', 3849: 'निगाहें', 3850: 'एशियाई', 3851: 'जल्दबाज़ी', 3852: '१९७४', 3853: 'चढ़ाकर', 3854: 'मनोदशा', 3855: 'सिगनल', 3856: 'सिढ़ियों', 3857: 'मलेशिया', 3858: 'कीमत', 3859: 'मुसीबत', 3860: 'ओल', 3861: 'हजार', 3862: 'स्वीस', 3863: 'दौड़', 3864: 'एंड', 3865: 'चिकित्सक', 3866: 'दुरुस्त', 3867: 'फंस', 3868: 'ए', 3869: 'होगी', 3870: 'बदला', 3871: 'पैसेवाले', 3872: 'दिन', 3873: 'जोड़ा', 3874: 'जोड़ो', 3875: 'तस्वीरों', 3876: 'ग्रामवासी', 3877: 'जाकर', 3878: 'मंगल', 3879: 'सम्भाल', 3880: 'साइकिल', 3881: 'दिलचस्प', 3882: 'ऑपेरा', 3883: 'सागरों', 3884: 'इराक', 3885: 'प्रसिद्ध', 3886: 'हरफनमौला', 3887: 'सीधे', 3888: 'हैसियत', 3889: 'गायिका', 3890: 'बतादेना', 3891: 'मेहनत', 3892: 'भागो', 3893: 'कतई', 3894: 'मनवा', 3895: 'लगना', 3896: 'बिरंगी', 3897: '७५', 3898: 'ढूँढता', 3899: 'सलामी', 3900: 'खींचा', 3901: 'परिवर्तन', 3902: 'दीवारें', 3903: 'दहातु', 3904: 'क्रिस', 3905: 'कैरीबियन', 3906: 'अंतिम', 3907: 'बनाए', 3908: 'वॉर', 3909: 'छटी', 3910: 'रंगे', 3911: 'खाएगा', 3912: 'ओसाकावासी', 3913: 'कौनसे', 3914: 'छोटा', 3915: 'सिंह', 3916: 'मुस्लिम', 3917: 'सकेंगे', 3918: 'दृष्ट्मान', 3919: 'खोद', 3920: 'रज़ाक', 3921: 'सिंधु', 3922: 'आर्ट', 3923: '१८वे', 3924: 'बैंड', 3925: 'बूझकर', 3926: 'रूचि', 3927: 'समझना', 3928: 'लिंकन', 3929: 'पल्ले', 3930: 'खतरे', 3931: 'सामी', 3932: 'बराबर', 3933: 'सायकिल', 3934: '२००२', 3935: 'सिनेमा', 3936: 'मे॑', 3937: 'फुर्तीलीं', 3938: 'इसको', 3939: 'लौटूँगी', 3940: 'बताऊँ', 3941: 'दही', 3942: 'परसो', 3943: 'डालेंगे', 3944: 'बदले', 3945: 'असहिष्णुता', 3946: 'मूठ', 3947: 'सेनाओं', 3948: 'नाभिकीय', 3949: 'मेष', 3950: 'फेंकी', 3951: 'कहलाया', 3952: 'मराठों', 3953: 'क्रोध', 3954: 'खाने', 3955: 'बॉब', 3956: 'सलह', 3957: 'द', 3958: 'ऊपर', 3959: 'स्वतन्त्रता', 3960: 'देंगे', 3961: 'खिलाया', 3962: 'आास', 3963: 'नाई', 3964: 'नाकामयाबी', 3965: 'कौपी', 3966: 'भूलनी', 3967: 'नियंत्रण', 3968: 'मौत', 3969: 'स्थानों', 3970: 'आखिरकार', 3971: 'जाए', 3972: 'गई', 3973: '२३', 3974: 'महिलाओं', 3975: 'रहीं', 3976: 'छुपाती', 3977: 'बाताऊँगा', 3978: '१७९९', 3979: 'सफेद', 3980: 'चला', 3981: 'सुनी', 3982: 'मारकर', 3983: 'अजय', 3984: 'बचाओ', 3985: '२००१', 3986: 'मेधावी', 3987: 'गुप्त', 3988: 'सितारे', 3989: 'लुई', 3990: 'नेन्सी', 3991: 'दक्षिणी', 3992: 'शर्मिन्दगी', 3993: 'साहस', 3994: 'दीवालिया', 3995: 'सायकल', 3996: 'विद्रोह', 3997: 'गर्भवती', 3998: 'सार्वजनिक', 3999: 'पाएं', 4000: 'देती', 4001: 'माँगता', 4002: 'मालूम', 4003: 'गो', 4004: 'जाती', 4005: 'संघ', 4006: 'सुनामी', 4007: 'ठठा', 4008: 'लिंकनने', 4009: 'होठों', 4010: 'छुरी', 4011: 'अमर', 4012: 'सुबह', 4013: 'चाकलेट', 4014: 'ख्याल', 4015: 'चश्मदीद', 4016: 'बर्तन', 4017: 'नक्षत्रों', 4018: 'दौड़ा', 4019: 'निशानों', 4020: 'प्रदेश', 4021: 'लेकिन', 4022: 'सोचने', 4023: 'सालगिरह', 4024: 'बैक', 4025: 'वक़्त', 4026: 'रेल', 4027: 'खेलना', 4028: 'लगाऊँगा', 4029: 'रिवाज़', 4030: 'संविधान', 4031: 'संकेतों', 4032: 'उठाना', 4033: 'शानदार', 4034: 'खतरनाक', 4035: 'करूंगी', 4036: 'छाँओं', 4037: 'मिश्रण', 4038: 'ऑफ', 4039: 'जल्द', 4040: 'क्रियान्वित', 4041: 'কোনো', 4042: 'लुप्त', 4043: 'जाल', 4044: 'मोटा', 4045: 'हमारी', 4046: 'ही', 4047: 'बॉस्टन', 4048: 'दो', 4049: 'दोपहर', 4050: 'लीजिए', 4051: 'वादी', 4052: 'दंड', 4053: 'परछाई', 4054: 'घास', 4055: 'पॉप', 4056: 'बीस', 4057: 'मंदिरों', 4058: 'स्वीडिश', 4059: 'कोशीश', 4060: 'गंवाने', 4061: 'जाएंगे', 4062: '५', 4063: 'दौरान', 4064: 'दिखा', 4065: 'उड़कर', 4066: 'बृहस्पति', 4067: 'पतली', 4068: 'टूट', 4069: 'रोस्सिया', 4070: 'अनार', 4071: 'पढ़ें', 4072: 'बांधी', 4073: 'खर्चे', 4074: 'मंजिल', 4075: 'पडछत्ती', 4076: 'शुष्क', 4077: 'गाया', 4078: 'भैंस', 4079: 'रिवाज', 4080: '२०', 4081: 'सेल्सियस', 4082: 'पक्का', 4083: 'दुर्भाग्यवश', 4084: 'ऐलान', 4085: 'मैल', 4086: 'मानते', 4087: 'कहानियों', 4088: 'जेनी', 4089: '१०', 4090: 'मोरक्को', 4091: 'मिलेंगे', 4092: 'लंदन', 4093: '१८९९', 4094: 'थें', 4095: 'सबका', 4096: '?', 4097: 'घूरकर', 4098: 'निःशब्द', 4099: 'बांग्लादेश', 4100: 'रखदो', 4101: 'मुंह', 4102: 'जीतता', 4103: 'छूटने', 4104: 'करदें', 4105: 'बर्ताव', 4106: 'अरबी', 4107: 'फ़्रिज', 4108: 'बतादूँगा', 4109: 'राए', 4110: 'जितने', 4111: 'करवाई', 4112: 'हरासत', 4113: 'लतपत', 4114: 'थैंक्सगिविंग', 4115: 'हेनरी', 4116: 'मिलेंगीं', 4117: 'छी', 4118: 'भागना', 4119: 'सुपरमार्केट', 4120: 'उतरिए', 4121: 'स्थिति', 4122: 'फैल', 4123: 'पका', 4124: 'उनपर', 4125: 'निकला', 4126: 'कोहरा', 4127: 'फार्म', 4128: 'लड़की', 4129: 'त्रुटियाँ', 4130: 'ऐसे', 4131: 'बिस्तरों', 4132: 'सुनता', 4133: 'नेताओं', 4134: 'रहोगी', 4135: 'नर्सरी', 4136: 'क्षारीय', 4137: 'कब', 4138: 'पुलीसवाले', 4139: 'बंदूकें', 4140: 'प्रत्येक', 4141: 'खोता', 4142: 'सदस्यों', 4143: 'सर्वाधिक', 4144: 'मंगाया', 4145: 'शुभकामनाएं', 4146: 'नंबर', 4147: 'ख़यालों', 4148: 'विविधता', 4149: 'क्षमता', 4150: 'गोल', 4151: 'मोर', 4152: 'अगस्त', 4153: 'करा', 4154: 'हूँ', 4155: 'भेजो', 4156: 'भूलें', 4157: 'सेवाओं', 4158: 'नोट', 4159: 'माहौल', 4160: 'कोलम्बस', 4161: 'सिकुड़', 4162: 'उम्र', 4163: 'बजाती', 4164: 'गणतंत्र', 4165: 'भाषण', 4166: 'स्थित', 4167: 'भिड़', 4168: 'पागल', 4169: 'इजाज़त', 4170: 'मारीओ', 4171: 'प्रजातियों', 4172: 'टकराई', 4173: 'पहुँचेगा', 4174: 'बरबाद', 4175: 'बीजिंग', 4176: 'खींचिए', 4177: 'लेलूँगा', 4178: 'पोषण', 4179: 'महंगा', 4180: 'जाओ', 4181: 'बड़ी', 4182: 'अदा', 4183: 'वरना', 4184: 'कटवाता', 4185: 'ज़िन्दाबाद', 4186: 'निष्णात', 4187: 'विभाजित', 4188: 'सोचती', 4189: 'कच्चा', 4190: 'उसतक', 4191: 'न्यायालय', 4192: 'एवरेस्ट', 4193: 'जादू', 4194: 'ढूँढना', 4195: 'पकड़ीं', 4196: 'मस्जिदें', 4197: 'निगल', 4198: 'मॉडल', 4199: 'पीनी', 4200: 'लाऊँगा', 4201: 'परियों', 4202: 'गोलीबारी', 4203: 'दूरी', 4204: 'ऑफिस', 4205: 'काटें', 4206: 'खाता', 4207: 'सीखोगे', 4208: 'मछलियां', 4209: 'जुआ', 4210: 'मुरझा', 4211: 'इसमें', 4212: 'लें', 4213: 'दुर्रानी', 4214: 'पैसे', 4215: 'डालना', 4216: 'वाय', 4217: 'रद्द', 4218: 'जरूरी', 4219: 'सन', 4220: 'दिल्ली', 4221: 'चुराया', 4222: 'कैरन', 4223: 'खिलाड़ी', 4224: 'जागतिक', 4225: 'लंबे', 4226: 'लेजंड', 4227: 'मुझें', 4228: 'कागज़', 4229: 'टेस्ट', 4230: 'गिटार', 4231: 'पाँचवे', 4232: 'पिकोलो', 4233: 'तौर', 4234: 'होतीं', 4235: 'फूलों', 4236: 'गाय', 4237: 'तौलिया', 4238: 'परस्पर', 4239: 'मुलायम', 4240: 'धन्यवाद', 4241: 'रखी', 4242: 'जीव', 4243: 'दुस्साहस', 4244: 'चलती', 4245: 'सत्यानाश', 4246: 'धूम्रपान', 4247: 'मरो', 4248: 'कन्नड़', 4249: 'बनाते', 4250: 'संजो', 4251: 'द्वितीय', 4252: 'खाएँगे', 4253: 'मुसकुराइए', 4254: 'पड़ती', 4255: 'निकालें', 4256: 'बच्चेपन', 4257: 'आयरिश', 4258: 'शरमा', 4259: 'देवी', 4260: 'माँग', 4261: 'झूठी', 4262: 'सहे', 4263: 'अफगानिस्तान', 4264: 'फल', 4265: 'डाक्टर', 4266: 'फिराया', 4267: 'बांध', 4268: 'गले', 4269: 'नगरों', 4270: 'घटाने', 4271: 'खाना', 4272: 'चाबियों', 4273: 'मास', 4274: 'चिल्ला', 4275: 'खूबसूरती', 4276: 'हायाकावा', 4277: 'क्षतिपूरक', 4278: 'अाए', 4279: 'अंतर्निहित', 4280: 'यान', 4281: 'रुपए', 4282: 'क़यामत', 4283: 'कालोनी', 4284: 'अर्थव्यवस्था', 4285: 'कोकोनट', 4286: 'हमे॑', 4287: 'प्रकृति', 4288: 'ख़रगोश', 4289: 'स्टेट', 4290: 'गौरव', 4291: 'जापानीयों', 4292: 'मछली', 4293: 'धोखे', 4294: 'पालन', 4295: 'रेपुबलिका', 4296: 'व्यवहार', 4297: 'ज़ार', 4298: 'मामा', 4299: 'विवाहित', 4300: 'जागृत', 4301: 'पूछोगे', 4302: 'मुस्कुराये', 4303: 'महान', 4304: 'वजन', 4305: 'जैन', 4306: 'अँगुठी', 4307: 'चीज़ों', 4308: 'है॑', 4309: 'बेचैनी', 4310: 'योजना', 4311: 'कथा', 4312: 'राष्ट्रों', 4313: 'पे', 4314: 'महत्वपूर्ण', 4315: 'आइए', 4316: 'भूकम्प', 4317: 'मज़बूत', 4318: 'मोटर', 4319: 'चुनाव', 4320: 'रखना', 4321: 'जुर्माना', 4322: 'खुली', 4323: 'संपत्ति', 4324: 'इज़्ज़त', 4325: 'आंकरेज', 4326: 'बर्दाश्त', 4327: 'बैंक', 4328: 'पेनसिलें', 4329: 'अजनबियों', 4330: 'मिनटों', 4331: 'नकली', 4332: 'दुःखी', 4333: 'दॅन', 4334: 'जेम्स', 4335: 'आइये', 4336: 'मंज़िलें', 4337: 'फ़ेल्लीनी', 4338: 'सुन्दर', 4339: 'प्रयोगों', 4340: 'उइघुर', 4341: 'नहाओगे', 4342: '१९७९', 4343: 'चमकते', 4344: 'हिचकिए', 4345: 'पाए', 4346: 'घड़ी', 4347: 'भग', 4348: 'बिकने', 4349: 'जिद्दी', 4350: 'जाउँगा', 4351: 'क़ानून', 4352: 'प्रश्नों', 4353: 'पहनता', 4354: 'अंधा', 4355: 'फ़ुकुओका', 4356: 'सवाल', 4357: 'फ़ुटबॉल', 4358: 'दूसरी', 4359: 'चाचाजी', 4360: 'वायुयान', 4361: 'रिपोर्टर', 4362: 'नया', 4363: 'खिलाफ', 4364: 'थोडी', 4365: 'विस्तार', 4366: 'पीली', 4367: 'अबसे', 4368: 'मुफ्त', 4369: '२००९', 4370: 'बीबीसी', 4371: 'जैक्सन', 4372: 'तादाद', 4373: 'बकबक', 4374: 'मराठी', 4375: 'लिखती', 4376: 'वाह', 4377: 'स्वच्छ', 4378: 'सड़कों', 4379: 'पेतीत', 4380: 'तुरंत', 4381: 'खूबसूरत', 4382: 'अड्डे', 4383: 'विमान', 4384: 'सका', 4385: 'पकाना', 4386: 'लौटूँगा', 4387: 'सिखाती', 4388: 'गाऊँगी', 4389: 'आपत्ति', 4390: 'आखिरी', 4391: 'आधार', 4392: 'होति', 4393: 'समझता', 4394: 'अक्सर', 4395: 'थोडा', 4396: 'शराब', 4397: 'गन्ने', 4398: 'मुर्गा', 4399: 'कोक', 4400: 'हीरा', 4401: 'ज़ाहिर', 4402: 'धीरज', 4403: 'सापों', 4404: 'अनुपलब्ध', 4405: 'पोकेमॉन', 4406: 'जुटा', 4407: 'रख', 4408: 'सामान्य', 4409: 'जनवरी', 4410: 'दवा', 4411: 'रॉबिन', 4412: 'रहेंगी', 4413: 'रहूँगा', 4414: 'इशारा', 4415: 'नाव', 4416: 'पुलीस', 4417: 'तम्बू', 4418: 'असल', 4419: 'जीवनी', 4420: 'इकॉनमी', 4421: 'हां', 4422: '१७६३', 4423: 'इसका', 4424: 'गीला', 4425: 'नाडु', 4426: 'सुधारिए', 4427: 'खिंचा', 4428: 'काम', 4429: 'दौलत', 4430: 'रखता', 4431: 'लगो', 4432: 'सूपरमार्केट', 4433: 'राजधानी', 4434: 'आपातकाल', 4435: 'शासित', 4436: 'लाख', 4437: 'बटुए', 4438: 'विशाल', 4439: 'मूसलाधार', 4440: 'बुश', 4441: 'सुशील', 4442: 'पुरुष', 4443: 'यू', 4444: 'बॉयफ़्रेंड', 4445: 'रिज़ल्ट', 4446: 'डे', 4447: 'वेश्या', 4448: 'ज़बरदस्त', 4449: 'कविता', 4450: 'सिखी', 4451: 'पुल', 4452: 'उन्होनें', 4453: 'बीमारी', 4454: 'फ़र्निचर', 4455: 'तोदाइजी', 4456: 'आई', 4457: 'बीटल्स', 4458: 'भागे', 4459: 'तलवार', 4460: 'गोलार्धों', 4461: 'हालात', 4462: 'बारीकियां', 4463: 'जोड़', 4464: 'अमान्डा', 4465: 'रोकने', 4466: 'युरों', 4467: 'लेट', 4468: 'पहनती', 4469: 'सीख', 4470: 'गलतियां', 4471: 'अनहोनी', 4472: 'तुम्ही', 4473: 'निऊ', 4474: 'लौटाए', 4475: 'जाणा', 4476: 'रेशम', 4477: 'त्सू', 4478: 'स्वीकारा', 4479: 'ततोइबा', 4480: '!', 4481: 'सीड़ियों', 4482: 'फ़ाहिमा', 4483: 'पिछवाड़े', 4484: 'लागु', 4485: 'निर्यात', 4486: 'बहुत', 4487: 'पूछते', 4488: 'ढूँढ़ना', 4489: 'लालची', 4490: 'घनी', 4491: 'जलकर', 4492: 'कीमती', 4493: 'पेन', 4494: 'परिवार', 4495: 'रुलाया', 4496: 'न्यूयॉर्क', 4497: 'सता', 4498: 'वैज्ञानिक', 4499: 'तरह', 4500: 'कैसी', 4501: 'चचेरा', 4502: 'लिखी', 4503: 'नक़्शे', 4504: 'सूक', 4505: 'रासायनिक', 4506: 'बैठते', 4507: 'चाहोगी', 4508: 'बरी', 4509: 'तारीख', 4510: 'आकर', 4511: 'मछवारे', 4512: 'समुद्र', 4513: 'समझते', 4514: 'हारोगी', 4515: 'पुआ', 4516: 'ग़ोता', 4517: 'पाठशालाओं', 4518: 'अठारह', 4519: 'बढ़िया', 4520: 'मंज़ूर', 4521: 'ग़ुलाब', 4522: 'बांटती', 4523: 'घ्राण', 4524: '११५', 4525: 'हाथों', 4526: 'संयुक्त', 4527: 'ब्राज़ील', 4528: 'मनमोहक', 4529: 'ध', 4530: 'अरब', 4531: 'जगह', 4532: 'प्रशंसा', 4533: 'हस्तमैथुन', 4534: 'सबकुछ', 4535: 'डरो', 4536: 'भ्रष्टाचार', 4537: 'चुटकुलें', 4538: 'पश्चिम', 4539: 'हटा', 4540: 'विद्वान', 4541: 'नमकीन', 4542: 'फार्मों', 4543: 'दादा', 4544: 'ईनाम', 4545: 'ख़ान', 4546: 'साशा', 4547: 'मर्यादा', 4548: 'घिनौना', 4549: 'लकड़ी', 4550: 'अंग्रेज़', 4551: 'प्रेमपूर्वक', 4552: 'श्वार्झनेगर', 4553: 'आकछू', 4554: 'सहेलियों', 4555: 'कर्मचारी', 4556: 'नीली', 4557: 'लेटी', 4558: 'पाठ्य', 4559: 'सेव', 4560: 'व्यस्त', 4561: 'दैनिक', 4562: 'पाँचवी', 4563: 'खरीदूंगी', 4564: 'केला', 4565: 'सुलूक', 4566: 'बयान', 4567: 'लगता', 4568: 'तोड़ना', 4569: 'ज़िद्दी', 4570: 'रिहा', 4571: 'नेहरू', 4572: 'वेब', 4573: 'पिघलेगी', 4574: 'दिेए', 4575: 'निकम्मा', 4576: 'जाउँगी', 4577: 'द्रिश्य', 4578: 'लाखों', 4579: 'मान्गा', 4580: 'साक्ष्य', 4581: 'पकाने', 4582: 'पासवर्ड', 4583: 'जलन', 4584: 'तोते', 4585: 'दफ़तर', 4586: 'लायक़', 4587: 'बताऊँगा', 4588: 'फँस', 4589: 'कराया', 4590: 'बनेगा', 4591: 'अौर', 4592: 'जोड़िए', 4593: 'रहूँगी', 4594: 'काला', 4595: 'पूरे', 4596: 'जोर', 4597: 'प्रतिबंध', 4598: 'गुम', 4599: 'ओलंपिक', 4600: 'चलेगा', 4601: 'दरवाजा', 4602: 'मच्छर', 4603: 'चीन', 4604: 'शिवाजी', 4605: 'नाक', 4606: 'जानती', 4607: 'नारिता', 4608: 'हनीमून', 4609: 'पैसों', 4610: 'अहसास', 4611: 'बोलनी', 4612: 'तीन', 4613: 'कैटलन', 4614: 'सुलेमानी', 4615: 'बाज़ार', 4616: 'होमवर्क', 4617: 'गढ़', 4618: 'बर्बादी', 4619: 'इंग्लैड', 4620: 'अन्तरात्मा', 4621: 'बनोगे', 4622: 'तौलिए', 4623: 'दोस्तों', 4624: 'आने', 4625: 'कारखाने', 4626: 'चमड़े', 4627: 'गे', 4628: 'रेस', 4629: 'विस्फोट', 4630: 'मात', 4631: 'कॉफी', 4632: 'फिरिरी', 4633: 'चोरनी', 4634: 'जलने', 4635: 'ज़बरदस्ती', 4636: 'नानी', 4637: 'पैंसठ', 4638: 'ज्यादातर', 4639: 'वह', 4640: 'बराबरी', 4641: 'पिछले', 4642: 'मौका', 4643: 'खरीदने', 4644: 'आँही', 4645: 'उठाइए', 4646: 'जोड़ी', 4647: 'डॉनत', 4648: 'खरिद', 4649: 'कूल्हे', 4650: 'कैनटीन', 4651: 'पिघल', 4652: 'तोहफ़ा', 4653: 'जानकारी', 4654: 'पहना', 4655: 'सकूँगा', 4656: 'खरीदीं', 4657: 'नींव', 4658: 'करदो', 4659: '२२', 4660: 'कटौती', 4661: 'गबन', 4662: 'पढ़ती', 4663: 'इनका', 4664: 'हूँगा', 4665: 'भौंकता', 4666: 'पत्नी', 4667: 'पपत्र', 4668: 'चार्ल्स', 4669: 'घायलो', 4670: 'छोड़ा', 4671: 'पड़ोसियों', 4672: 'अरसा', 4673: 'करनीं', 4674: 'ज़ेल्डा', 4675: 'चाहेंगी', 4676: 'पड़ा', 4677: 'जेनकिन्स', 4678: 'स्वभाव', 4679: 'किसीने', 4680: 'हास्य', 4681: 'नयी', 4682: 'करे', 4683: 'पूछती', 4684: 'समझाने', 4685: 'राज्य', 4686: 'इत्तेहाद', 4687: 'मैनेजर', 4688: 'संबंध', 4689: 'दिखें', 4690: 'रोल', 4691: 'ओ', 4692: 'ताज्जुब', 4693: 'वर्ष', 4694: 'एनबीए', 4695: 'स्थापित', 4696: 'क़ानूनों', 4697: 'माता', 4698: 'कालीं', 4699: 'रोई', 4700: 'क़त्ल', 4701: 'माने', 4702: 'बख़्श', 4703: 'अच्छेपन', 4704: 'धमकाया', 4705: 'आजाओ', 4706: 'आवश्यक', 4707: 'वालों', 4708: 'वेट्रेस', 4709: 'शौचालय', 4710: 'पासपोर्ट', 4711: 'लोगी', 4712: 'बोलो', 4713: 'स्टेला', 4714: 'कहूँगी', 4715: 'युवती', 4716: 'यूनान', 4717: 'चूत', 4718: 'वादा', 4719: 'रायगढ़', 4720: 'कम्प्यूटर', 4721: 'अॅलेन', 4722: 'बस्ता', 4723: 'आइडिया', 4724: 'संख्या', 4725: 'आँखे', 4726: 'नेत्रहीन', 4727: 'ब्रेड', 4728: 'बॉस', 4729: 'लड़के', 4730: 'व्यतीत', 4731: 'टेढ़ा', 4732: 'मरता', 4733: 'भीड़', 4734: 'ख़ून', 4735: 'व्यायाम', 4736: 'पृथ्वीपर', 4737: 'आवाज़', 4738: 'सस्ती', 4739: 'वार्ता', 4740: 'पंडित', 4741: 'बारिश', 4742: 'सिस्टर', 4743: 'जून', 4744: '२', 4745: 'पहचानते', 4746: 'प्रारंभ', 4747: 'इमाम', 4748: 'ब्रश', 4749: 'किया', 4750: 'संक्षिप्त', 4751: 'रहो', 4752: 'एअरपोर्ट', 4753: 'बहरी', 4754: 'बाबर', 4755: 'कोसोवो', 4756: 'राख', 4757: 'देतीं', 4758: 'सफ़ेद', 4759: 'सेलीन', 4760: 'पहुँचना', 4761: 'जगत', 4762: 'गिरेगी', 4763: 'जनसंख्या', 4764: 'स्पेसकेम', 4765: 'सौन्\\u200dदर्य', 4766: 'छोड़', 4767: 'तालीयाँ', 4768: 'उत्पाद', 4769: 'हेल्लास', 4770: 'माईक', 4771: 'भूलना', 4772: 'लंबी', 4773: 'मिलेगी', 4774: 'वालें', 4775: 'खतरा', 4776: 'मिलाई', 4777: 'सरासर', 4778: 'आवाज़ें', 4779: 'कन्या', 4780: 'ओसाका', 4781: 'कानूनों', 4782: 'चौंका', 4783: '(', 4784: 'फैलाव', 4785: 'मामलकह', 4786: 'बज', 4787: 'लिखते', 4788: 'शिशिर', 4789: 'अभी', 4790: 'बैटमैन', 4791: 'श्रेष्ठ', 4792: 'बैठो', 4793: 'किये', 4794: 'बुलाएँगे', 4795: 'दिखाऊं', 4796: 'तालियां', 4797: 'निचला', 4798: 'फेंके', 4799: 'चार', 4800: 'दानव', 4801: 'शिकागो', 4802: 'बांह', 4803: '१३', 4804: 'ख़त्म', 4805: 'देगी', 4806: 'जड़ें', 4807: 'पहुँचें', 4808: 'झेलम', 4809: 'डेट', 4810: 'थक', 4811: 'हार्डिंग', 4812: 'तारा', 4813: 'संगीतकार', 4814: 'अगर', 4815: 'मोर्त', 4816: 'विचार', 4817: 'गोवा', 4818: 'यक़ीन', 4819: 'नाज़', 4820: 'कवी', 4821: 'मुलाकात', 4822: 'लिखेगा', 4823: 'मार्च', 4824: 'लेखकों', 4825: 'ढूंढ', 4826: 'सीखेंगे', 4827: 'कूदो', 4828: 'उठिए', 4829: 'बाँट', 4830: 'बेगुनाह', 4831: 'श्रिमान', 4832: 'पहुँचाने', 4833: 'केन', 4834: 'बनते', 4835: 'आसानी', 4836: 'पूछिए', 4837: 'दाम', 4838: 'छोड़ने', 4839: 'सीखी', 4840: 'पापा', 4841: '|', 4842: 'अस्पष्ट', 4843: 'ज़हरीली', 4844: 'तरणताल', 4845: 'सर', 4846: 'डूबते', 4847: 'जाईये', 4848: 'वॉशिंग', 4849: 'तुरन्त', 4850: 'मुड़कर', 4851: 'शनिवार', 4852: 'मरीज़', 4853: 'दोष', 4854: 'अंडा', 4855: 'ठहरिए', 4856: 'बनाएँ', 4857: 'सदमा', 4858: 'दादी', 4859: 'रिचर्ड', 4860: 'जुलतीं', 4861: 'विशेष', 4862: 'रच', 4863: 'कौनसी', 4864: 'चौपट', 4865: 'होता', 4866: 'पन्द्रह', 4867: 'पोतियां', 4868: 'चाहूंगा', 4869: 'देरी', 4870: 'धकेलो', 4871: 'शीत', 4872: 'इस्तांबुल', 4873: 'पियानिस्ट', 4874: 'छिपाओ', 4875: 'नाशी', 4876: 'दूंढ', 4877: 'केनी', 4878: 'हिजाब', 4879: 'चार्ली', 4880: 'खाली', 4881: 'खेलतें', 4882: 'टीशर्ट', 4883: 'खटखटाने', 4884: 'छींक', 4885: 'भाई', 4886: 'ड्रेस', 4887: 'पढ़ी', 4888: 'जिसका', 4889: 'कहावत', 4890: 'बनवानी', 4891: 'क्वाला', 4892: 'दियें', 4893: 'सयाने', 4894: 'बुरा', 4895: 'नष्ट', 4896: 'खेलता', 4897: 'स्नानघर', 4898: 'ग़लतियाँ', 4899: 'कविताएँ', 4900: 'विकास', 4901: 'दरवाज़े', 4902: 'नशे', 4903: 'अधिकार', 4904: 'केक', 4905: 'छलाँग', 4906: 'जीत', 4907: 'आत्मा', 4908: 'हॉलैंड', 4909: 'देर', 4910: 'लीं', 4911: 'वोल्गोग्रैड', 4912: 'दर्शक', 4913: 'बधाईंयाँ', 4914: 'पहने', 4915: 'पेड़', 4916: 'थेस्सालोनिकी', 4917: 'स्पेन', 4918: 'फ़्लेवर', 4919: 'फैसले', 4920: 'बचाना', 4921: 'गठबंधन', 4922: 'उस्मानी', 4923: 'ओल्ड', 4924: 'पहनने', 4925: 'जाय', 4926: 'आभारी', 4927: 'नीले', 4928: 'चाहोगे', 4929: 'उबल', 4930: 'उठाएँ', 4931: 'तनिन्ना', 4932: 'मर्द', 4933: 'व्यवस्था', 4934: 'कपड़ों', 4935: 'पागलपन', 4936: 'छिपाई', 4937: 'फरक', 4938: 'लगाना', 4939: 'बूढ़े', 4940: 'लेलिया', 4941: 'कोमा', 4942: 'मछलियों', 4943: '१९५१', 4944: 'शक्तिशाली', 4945: 'ख़ूब', 4946: 'छोड़ना', 4947: 'कष्ट', 4948: 'संयोग', 4949: 'कहिए', 4950: 'बीत', 4951: 'निर्दोश', 4952: 'अध्ययन', 4953: 'इन्तज़ार', 4954: 'दरवाजे', 4955: 'जनता', 4956: 'कपड़ा', 4957: 'तुम्हे', 4958: 'कोटे', 4959: 'शक़्क़र', 4960: 'बर्लिन', 4961: 'चाबी', 4962: 'देशद्रोही', 4963: 'हँसमुख', 4964: '1', 4965: 'पीठ', 4966: 'लगतीं', 4967: 'इच्छापत्र', 4968: 'गुफ़ा', 4969: 'उबाऊ', 4970: 'किसानों', 4971: 'सहना', 4972: 'गएं', 4973: 'गुब्बारे', 4974: 'पहुँच', 4975: 'सीखोगी', 4976: 'छह', 4977: 'टोपी', 4978: 'राज्यों', 4979: 'असर', 4980: 'आशा', 4981: 'लोग', 4982: 'बास्टन', 4983: 'नाचेगा', 4984: 'बरफ़', 4985: 'समर्पित', 4986: 'शरमिंदा', 4987: 'लड़का', 4988: 'जारी', 4989: 'कैंडी', 4990: 'बदतर', 4991: 'मध्ये', 4992: 'फ़िदा', 4993: 'हुई', 4994: 'मुस्कुराएगी', 4995: 'कम्पनियाँ', 4996: 'टर्मिनल', 4997: 'यहीं', 4998: 'दंभी', 4999: 'लोकप्रिय', 5000: 'रसोइया', 5001: 'बाली', 5002: 'व्याप्त', 5003: 'कक्षागृह', 5004: 'कह', 5005: 'अक़सर', 5006: 'बीटल', 5007: 'तट', 5008: 'बास्\\u200dकेटबॉल', 5009: 'बहाना', 5010: 'प्याला', 5011: 'किराय', 5012: 'मारे', 5013: 'सिगार', 5014: 'इतिबार', 5015: 'वांग', 5016: 'पार्टी', 5017: 'लगिए', 5018: 'आएगी', 5019: 'लोमड़ी', 5020: 'तैरते', 5021: 'बुखार', 5022: 'कीमतें', 5023: 'मोड़', 5024: 'हुएँ', 5025: 'नेविल', 5026: 'फ़ैसला', 5027: 'धूल', 5028: 'करिए', 5029: 'भले', 5030: 'बातों', 5031: 'कीजिये', 5032: 'नाचो', 5033: 'अप्रैल', 5034: 'बेवक़ूफ़', 5035: 'स्वेटर', 5036: 'सात', 5037: 'सिगरेट', 5038: 'कोआला', 5039: 'बीमार', 5040: 'परवाह', 5041: 'करोगे', 5042: 'जैकेट', 5043: 'शरम', 5044: 'केट', 5045: 'मेज़', 5046: 'इनसान', 5047: 'फ़्रैंकफुर्ट', 5048: 'मुस्कुराती', 5049: 'उपसर्गों', 5050: 'तुझको', 5051: 'प्रधान', 5052: 'अत्याचार', 5053: 'अश्लीलता', 5054: 'कांग्रेस', 5055: 'गेंद', 5056: 'सिपाहियों', 5057: 'ताज़ा', 5058: 'चतुर', 5059: 'बुलाते', 5060: 'पूरब', 5061: 'मज़दूर', 5062: 'बताओगी', 5063: 'गुदा', 5064: 'विदेषी', 5065: 'बदलने', 5066: 'स्वीकार', 5067: 'मारी', 5068: 'सज़ा', 5069: 'डंडा', 5070: 'बचपन', 5071: 'ओपनर', 5072: 'बरफ', 5073: 'काँग', 5074: 'हमारा', 5075: 'लेंगे', 5076: 'कारोबार', 5077: 'तैयारी', 5078: 'आतंकवादी', 5079: 'भूखा', 5080: 'आओ', 5081: 'लन्च', 5082: 'कही', 5083: 'जननी', 5084: 'मीटर', 5085: 'होंगी', 5086: 'चरने', 5087: 'पढ़ता', 5088: 'युवा', 5089: 'पश्चात्', 5090: 'हँसा', 5091: 'मालिबू', 5092: 'फ़ूल', 5093: 'विध्वसंक', 5094: 'ख़रीदी', 5095: 'ओपनरों', 5096: 'बेचैन', 5097: 'जास्मिन', 5098: 'पड़ेंगे', 5099: 'मैंनें', 5100: 'पचास', 5101: 'मैदान', 5102: 'बताईये', 5103: 'होटेल', 5104: 'सुनेगा', 5105: 'सूज़न', 5106: '७२', 5107: 'अलमारी', 5108: 'सांत्वना', 5109: 'लगाकर', 5110: 'कहें', 5111: 'लड़ने', 5112: 'धत्', 5113: 'नृत्य', 5114: 'पकड़ेंगे', 5115: 'नानाजी', 5116: 'शब्दकोष', 5117: 'कर्णाटक', 5118: 'सकता', 5119: 'हार', 5120: 'सेतु', 5121: 'बेतुके', 5122: 'पास्पोर्ट', 5123: 'बेबुनयाद', 5124: 'नंगे', 5125: 'जैनेट', 5126: 'मारिको', 5127: 'वृश्चिक', 5128: 'अस्पताल', 5129: 'पौधा', 5130: 'इनमें', 5131: 'लेलो', 5132: 'सच्चा', 5133: 'पंद्रहवीं', 5134: 'ईमेल', 5135: 'जिन', 5136: 'चुकें', 5137: 'त्रासदी', 5138: 'टौम', 5139: 'छाती', 5140: 'स्नेह', 5141: 'टुकड़े', 5142: 'अच्छे', 5143: 'स्तन', 5144: 'उसको', 5145: 'स्पेनिश', 5146: 'लड़ूंगी', 5147: 'ताईवान', 5148: 'जुलता', 5149: 'चूसा', 5150: 'दिशाओं', 5151: 'संतरे', 5152: 'बहाव', 5153: 'हथौड़ा', 5154: 'बिताना', 5155: 'गिन', 5156: 'डाला', 5157: 'साल', 5158: 'ज़ोर', 5159: 'दवाई', 5160: 'मुश्किलों', 5161: 'हँसाया', 5162: 'साम्यवादी', 5163: 'द्वीपों', 5164: 'उपयोगकर्ताओं', 5165: 'धरती', 5166: 'धीमी', 5167: 'नामों', 5168: 'ऊँगलियाँ', 5169: 'भरी', 5170: 'सिर्फ़', 5171: 'गिरफ्तार', 5172: 'छुपी', 5173: 'ट्रेफ़िक', 5174: 'बताये', 5175: 'मजबूरी', 5176: 'झुकी', 5177: 'कभी', 5178: 'बर्मा', 5179: 'मर्ज़ी', 5180: 'तानाका', 5181: 'मोहन', 5182: 'हज़ारों', 5183: 'अनुभवी', 5184: 'दिलाई', 5185: 'सख्ती', 5186: 'राशिचक्र', 5187: 'उड़ाना', 5188: 'फ़्रांस', 5189: 'व्लोदिवोस्तोक', 5190: 'तभी', 5191: 'सोये', 5192: 'दबा', 5193: 'स्वाधीनता', 5194: 'उठानी', 5195: 'जाते', 5196: 'टोनी', 5197: 'गांडू', 5198: 'बीते', 5199: 'बदलना', 5200: 'चिल्लाओ', 5201: 'सीखना', 5202: 'मृत्यु', 5203: 'बेकार', 5204: 'चाहिये', 5205: 'ऋणी', 5206: 'डिग्री', 5207: 'वफ़ादारी', 5208: 'सूज़ैन', 5209: 'सीखो', 5210: 'आक्रामक', 5211: 'वैध', 5212: 'रूक', 5213: 'बताउँगी', 5214: 'कमीज़', 5215: 'कंजूस', 5216: 'पी', 5217: 'आवाज', 5218: 'नुकीला', 5219: 'ताकतशाली', 5220: 'डरे', 5221: 'हल्के', 5222: 'केल्ट', 5223: 'घर', 5224: 'आत्मनिर्णय', 5225: 'तुझे', 5226: 'खम्बे', 5227: 'माँ', 5228: 'तेहरान', 5229: 'निज़ाम', 5230: 'चौबीस', 5231: 'झाड़ियाँ', 5232: 'आसन', 5233: 'मतलब', 5234: 'गंदा', 5235: 'अंदेखा', 5236: 'एम', 5237: 'जेलो', 5238: 'ऊर्जा', 5239: 'शुभकामानाएँ', 5240: 'रीमा', 5241: 'माइक', 5242: 'क्योटो', 5243: 'अँग्रेज़', 5244: 'घायल', 5245: 'दंडित', 5246: 'यूट्यूब', 5247: 'मंत्री', 5248: 'सतर्क', 5249: 'कौआ', 5250: 'भाषांतर', 5251: 'माया', 5252: 'हासे', 5253: 'लाए', 5254: 'थेम्स', 5255: 'बेसुखद', 5256: 'मानती', 5257: 'बढ़ा', 5258: 'ग़रीब', 5259: 'सिर', 5260: 'क्लब', 5261: 'सस्ता', 5262: 'यूरोपीय', 5263: 'बनिए', 5264: 'जिनसे', 5265: 'करलें', 5266: 'गर्मियाँ', 5267: 'आईनें', 5268: 'हानि', 5269: 'मंगाते', 5270: 'रिकार्डो', 5271: 'खरोंचें', 5272: 'कमरे', 5273: 'रणजीत', 5274: 'हरामज़ादी', 5275: 'बुलाना', 5276: 'इवेंट', 5277: 'नानीजी', 5278: 'मधुमक्खियाँ', 5279: 'संस्कृति', 5280: 'गायक', 5281: 'आलूओं', 5282: 'जोड़ें', 5283: 'न्योता', 5284: 'खेल', 5285: 'कहिएगा', 5286: 'पास्ता', 5287: 'ढूँढ', 5288: 'पैसेवाला', 5289: 'झगड़ा', 5290: 'आगन्तुकों', 5291: 'ऑफलाइन', 5292: 'मान', 5293: 'वर्षों', 5294: 'वाशिंगटन', 5295: 'ज्वाला', 5296: 'हटाना', 5297: 'कुरील', 5298: 'आपने', 5299: 'मार', 5300: 'टॅाम', 5301: 'जोन्स', 5302: 'बाप', 5303: 'लोगों', 5304: 'घोसला', 5305: 'एस्केलेटर', 5306: 'कहेंगी', 5307: 'बढ़ती', 5308: 'कैसा', 5309: 'कुवैत', 5310: 'घुसाना', 5311: 'विकासशील', 5312: 'चाहें', 5313: 'धोओ', 5314: 'ब्राऊन', 5315: 'लूसी', 5316: 'आएँ', 5317: 'चलाता', 5318: 'बुझाया', 5319: 'भुला', 5320: 'घंटो', 5321: 'पर', 5322: 'छुप', 5323: 'आएंगे', 5324: 'जिता', 5325: 'दिया', 5326: 'वहीं', 5327: 'पूँछ', 5328: 'गुणगान', 5329: 'मुसलमान', 5330: 'सिरदर्द', 5331: 'प्रुशिया', 5332: 'काटती', 5333: 'पंसद', 5334: 'रहोगे', 5335: 'स्कीर', 5336: 'गिरी', 5337: 'पेंटियम', 5338: 'चर्चा', 5339: 'सुनहरे', 5340: 'महीनों', 5341: 'फ़रिश्तों', 5342: 'दे', 5343: 'लंबा', 5344: 'स्पैनिश', 5345: 'मकड़ी', 5346: 'कटोरियाँ', 5347: 'बरसी', 5348: 'दुसरे', 5349: 'गिरोगी', 5350: 'चूम', 5351: 'दावा', 5352: 'জামা', 5353: 'बताऊंगी', 5354: 'दूधवाला', 5355: 'चुने', 5356: 'चुग', 5357: 'मदर', 5358: 'रहता', 5359: 'बेटियाँ', 5360: 'पैगंबर', 5361: 'इसे', 5362: 'चीनी', 5363: 'उजागर', 5364: 'एलर्जी', 5365: 'वनों', 5366: 'आएगा', 5367: 'नॉर्वे', 5368: 'उठता', 5369: 'रेक्स', 5370: 'अंगूठी', 5371: 'नाकामयाब', 5372: 'होते', 5373: 'ऊँचा', 5374: 'बट्टन', 5375: 'फुसफुसाकर', 5376: 'आक्रमण', 5377: 'ऊन', 5378: 'मालिक', 5379: '१९९०', 5380: 'पाप', 5381: 'समझाना', 5382: 'विच्छेद', 5383: 'लाती', 5384: 'पाइप', 5385: 'कीड़ों', 5386: 'इटली', 5387: 'धुंध', 5388: 'आओगी', 5389: 'प्यार', 5390: 'पनाह', 5391: 'जीवित', 5392: 'कपड़े', 5393: 'लेख', 5394: 'राशियाँ', 5395: 'बूमर', 5396: 'याकितोरी', 5397: 'निभाई', 5398: 'पिछे', 5399: 'पिंगळे', 5400: 'सोचा', 5401: 'पूँछा', 5402: 'सैर', 5403: 'पार', 5404: 'पारंपरिक', 5405: 'देकर', 5406: 'उसके', 5407: 'गिरफ़्तार', 5408: 'पुर्तगाल', 5409: 'तब', 5410: 'अभिलाषा', 5411: 'बारे', 5412: 'कामयाबी', 5413: 'सुंदरता', 5414: 'अंग्रेजी', 5415: 'चूहा', 5416: 'मारा', 5417: 'रखकर', 5418: 'जाऊंगा', 5419: 'हमारे', 5420: 'शिकार', 5421: 'तथ्य', 5422: 'पकाऊँगी', 5423: 'डॅन', 5424: 'ज़ारागोज़ा', 5425: 'कार्यकर्ता', 5426: 'माफ़ी', 5427: 'बेटी', 5428: 'भेस', 5429: 'ख़त', 5430: 'सांस', 5431: 'जॉन', 5432: 'यात्रियों', 5433: 'दमिश्क', 5434: 'लिखा', 5435: 'लड़ाई', 5436: 'समझने', 5437: 'उतनी', 5438: 'बाइकाल', 5439: 'हारोगे', 5440: 'खैर', 5441: 'मैं', 5442: 'इस्लाम', 5443: 'उड़ाता', 5444: 'शताब्दी', 5445: 'गईं', 5446: 'हमेषा', 5447: 'बोतलों', 5448: 'जानी', 5449: 'मूर्तियाँ', 5450: 'कॉल', 5451: 'ढकेला', 5452: 'अटक', 5453: 'प्रेमिका', 5454: 'रेखा', 5455: 'कमर', 5456: 'शत्रु', 5457: 'तारीख़', 5458: 'देखें', 5459: 'दानें', 5460: 'सैनिक', 5461: 'लेजाती', 5462: 'साहसी', 5463: 'गर्भ', 5464: 'जिमी', 5465: 'तस्वीर', 5466: 'रिश्तेदार', 5467: 'मनचाही', 5468: 'बेंच', 5469: 'नहाता', 5470: 'कहानियाँ', 5471: 'आयेंगे', 5472: 'विकल्प', 5473: 'मुझमें', 5474: 'रहइए', 5475: 'हेड', 5476: 'पेन्सिलें', 5477: 'लड़कीयों', 5478: 'उससे', 5479: 'आ', 5480: 'अंतरिक्ष', 5481: 'खबर', 5482: 'पाँव', 5483: 'बनने', 5484: 'तसवीर', 5485: 'बहादुर', 5486: 'खेलती', 5487: 'बोस्टन', 5488: 'बच्ची', 5489: 'प्लान', 5490: 'लौटूंगी', 5491: 'सहायता', 5492: 'खीरा', 5493: 'ची', 5494: 'रखनी', 5495: 'धुलने', 5496: 'चाहूँगा', 5497: 'बाँटा', 5498: 'चिल्लाया', 5499: 'धातुएँ', 5500: 'उत्सुक', 5501: 'खेलने', 5502: 'चोदता', 5503: 'आँगन', 5504: 'मानता', 5505: 'उनका', 5506: 'मरा', 5507: 'राज़', 5508: 'ज़ीन', 5509: 'फ़िफ़ा', 5510: 'ज़ोरों', 5511: 'इराक़', 5512: 'शब्दों', 5513: 'Muriel', 5514: 'सतोशी', 5515: 'पक्की', 5516: 'खट्टी', 5517: 'समझदार', 5518: 'आतंक', 5519: 'सदियों', 5520: 'नजर', 5521: 'झगड़', 5522: 'दूसरा', 5523: 'ब्रा', 5524: 'व्यक्तिगत', 5525: 'चीटियां', 5526: 'गुसलखाना', 5527: 'कुत्ता', 5528: 'कौन', 5529: 'हुईं', 5530: 'विध्यार्थी', 5531: 'ख़ुद', 5532: 'होठ', 5533: 'सिंगापुरा', 5534: 'ताकत', 5535: 'स्थानक', 5536: 'समाप्त', 5537: 'खाड़ी', 5538: 'लाइका', 5539: 'बनातें', 5540: 'भिजवादूँगा', 5541: 'रोज', 5542: 'आमदनी', 5543: 'हँसना', 5544: 'मरें', 5545: 'सुनना', 5546: 'थैली', 5547: 'सद्दाम', 5548: 'लौटें', 5549: 'ट्रेलर', 5550: 'ध्येय', 5551: 'तेम्पुरा', 5552: 'अधिकारियों', 5553: 'खदशा', 5554: '४०', 5555: 'दिखीं', 5556: 'संभालने', 5557: 'समझेंगी', 5558: 'टिकटें', 5559: 'रूस', 5560: 'झंडा', 5561: 'सचाई', 5562: 'चली', 5563: 'वालोनिया', 5564: 'सूक्ष्मअर्थशास्त्र', 5565: 'ध्यान', 5566: 'फुटबॉल', 5567: 'मेगुरो', 5568: 'समझा', 5569: 'फ़ुट', 5570: 'नई', 5571: 'लेखक', 5572: 'नन', 5573: 'भार', 5574: 'रिति', 5575: 'पहन', 5576: 'संगमरमर', 5577: 'पीना', 5578: 'बर्फ', 5579: 'डौलर', 5580: 'उनसे', 5581: 'धर्म', 5582: 'घुलामों', 5583: 'गरम', 5584: 'छुट्टे', 5585: 'अंतर्राष्ट्रीय', 5586: 'पांव', 5587: 'छोड़ूँ', 5588: 'गेट', 5589: 'ज़िम्मेदार', 5590: 'कहते', 5591: 'आनंद', 5592: 'रोये', 5593: 'बेहथियार', 5594: 'रहतीं', 5595: 'डरता', 5596: 'अलावा', 5597: 'जानवर', 5598: 'कार्लोस', 5599: 'लिये', 5600: 'चुद', 5601: 'हटाओ', 5602: 'मोबी', 5603: 'ग्रेट', 5604: 'लेनीं', 5605: 'ट्राए', 5606: 'निकाला', 5607: 'ग्लोबिश', 5608: 'दराज़ें', 5609: 'छुपाया', 5610: 'पढ़े', 5611: 'मुमकिन', 5612: 'उठना', 5613: 'गेंदबाज', 5614: 'दीजिए', 5615: 'बिखेर', 5616: 'समृद्धि', 5617: 'ज़ेउस', 5618: 'तैरना', 5619: 'चौंक', 5620: 'गाली', 5621: 'बनो', 5622: 'तेलंगना', 5623: 'होमोसेक्सुअल', 5624: 'अंतरात्मा', 5625: 'सँभाल', 5626: 'अब', 5627: 'ख़ुशी', 5628: 'समानताएं', 5629: 'सच्चाई', 5630: 'किसके', 5631: 'क़ब्र', 5632: 'जन्मदिव्स', 5633: 'खोदना', 5634: 'खोज', 5635: 'अफग़ानिस्तान', 5636: 'रुला', 5637: 'पट्टी', 5638: 'सब्ज़ी', 5639: 'पूछना', 5640: 'नारंगी', 5641: 'पंद्राह', 5642: 'इच्छुक', 5643: 'फैले', 5644: 'अँधेरा', 5645: 'जिंदगी', 5646: 'चिड़ियाँ', 5647: 'अटका', 5648: 'मकडियों', 5649: 'लाई', 5650: 'रहना', 5651: 'चैनल', 5652: 'की', 5653: 'भर', 5654: 'बैट', 5655: 'गिरती', 5656: 'उड़', 5657: 'बीज', 5658: 'सेक्रेटरी', 5659: 'विदेश', 5660: 'कथनी', 5661: 'मॉडेल', 5662: 'बिल्ली', 5663: 'शिनछिआओ', 5664: 'आऊंगा', 5665: 'पुत्र', 5666: 'आकृति', 5667: 'मज़ा', 5668: 'फ़ेल', 5669: 'ढंग', 5670: 'हत्यार', 5671: 'मरहम', 5672: 'सोफ़ा', 5673: 'कुशलतापूर्वक', 5674: 'कहेंगे', 5675: 'बाधा', 5676: 'जहाँगीर', 5677: 'हवाईअड्डे', 5678: 'बिक', 5679: 'थोड़ी', 5680: 'लिफ़ाफ़े', 5681: 'बेचा', 5682: 'ग्रीक', 5683: 'पेटू', 5684: 'वहां', 5685: 'यह', 5686: 'सुनूँगी', 5687: 'पता', 5688: 'कोलंबिया', 5689: 'पिताजी', 5690: 'परदे', 5691: 'रखती', 5692: 'कीजिएगा', 5693: 'गिनता', 5694: 'मलेरिया', 5695: 'प्रवेश', 5696: 'सेना', 5697: 'नज़रिए', 5698: 'मुश्किल', 5699: 'बाल', 5700: 'उठते', 5701: 'उसमें', 5702: 'यकीन', 5703: 'स्लिम', 5704: 'टूटी', 5705: 'दिखाता', 5706: 'सॅटाइरिकॉन', 5707: 'मार्स', 5708: 'चिल्लाए', 5709: 'लंच', 5710: 'साल्सा', 5711: 'रुकिए', 5712: 'मज़ाकिया', 5713: 'सभी', 5714: 'साढ़े', 5715: 'सुलझाई', 5716: 'मिडलटन', 5717: 'तैयारियाँ', 5718: 'फ़िलिप्स', 5719: 'बोलूँ', 5720: 'टॉयलेट', 5721: 'पकड़कर', 5722: 'इस्तेमाल', 5723: 'मारिओ', 5724: 'समझती', 5725: 'कार्यकर्म', 5726: 'दिखाओ', 5727: 'धरम', 5728: 'बन्दर', 5729: 'सीढ़ियाँ', 5730: 'स्वर', 5731: 'सप्ताहांत', 5732: 'भाता', 5733: 'भवन', 5734: 'बर्ट', 5735: 'मुस्कुरायी', 5736: 'महानगरों', 5737: 'जाएँगे', 5738: 'लेटकर', 5739: 'आजाद़', 5740: 'हिस्सो', 5741: 'आखें', 5742: 'भ्रम', 5743: 'आइसलैण्ड', 5744: 'चूर्णातु', 5745: 'चुनी', 5746: 'कहानी', 5747: 'कूदना', 5748: 'तुर्की', 5749: 'ऊटपटाँग', 5750: 'पहली', 5751: 'मोन्टकाम', 5752: 'खाती', 5753: 'पहुँचते', 5754: 'होती', 5755: 'ठहरना', 5756: 'तरक़ीब', 5757: 'तिगुनी', 5758: 'तीनों', 5759: 'छटपटाता', 5760: 'त्वचा', 5761: 'पीया', 5762: 'उम्मीद', 5763: 'सुखाया', 5764: 'रहने', 5765: 'थोड़ा', 5766: 'बेग़ुनाह', 5767: 'राय', 5768: 'ओबामा', 5769: 'पोलैंड', 5770: 'मिला', 5771: 'रहूंगा', 5772: 'जोड़ना', 5773: 'আমার', 5774: 'बैठता', 5775: 'पसंद', 5776: 'होशियार', 5777: 'उठ', 5778: 'लालच', 5779: 'आसमान', 5780: 'चरित्र', 5781: 'घूसखोरी', 5782: '७११', 5783: 'छिपा', 5784: 'व्यंजन', 5785: 'सिविल', 5786: 'कूटशब्द', 5787: 'गुरू', 5788: 'फिल्म', 5789: 'बेहद', 5790: 'भूलभुलैया', 5791: 'हूं', 5792: 'डालदो', 5793: 'क्यूँ', 5794: 'दिखाया', 5795: 'ततैयां', 5796: 'चारागाहों', 5797: 'इससे', 5798: 'ग्रह', 5799: 'कंप्यूटर', 5800: 'मिले', 5801: 'अप्राध', 5802: 'थाई', 5803: 'तारे', 5804: 'छलांग', 5805: 'प्रात', 5806: 'सुधारना', 5807: 'गैस', 5808: 'गाड़ियों', 5809: 'ईसप', 5810: 'सितारों', 5811: '/', 5812: 'टॉमने', 5813: 'सेक्टर', 5814: 'पम्प', 5815: 'नासमझ', 5816: 'स्वप्नों', 5817: 'बजाई', 5818: 'पिंजरे', 5819: 'शुल्क', 5820: 'दिसम्बर', 5821: 'कोयले', 5822: 'सहवाग', 5823: 'यास्मिन', 5824: 'शरीर', 5825: 'लाजवाब', 5826: 'विपत्तिजनक', 5827: 'टेक', 5828: 'निकालो', 5829: 'बिल्डिंग', 5830: 'बहन', 5831: 'विरुद्ध', 5832: 'पैरीस', 5833: 'ताके', 5834: 'गर्मी', 5835: 'पीतीं', 5836: 'सर्वर', 5837: 'केटलोनिआ', 5838: 'जॉइन', 5839: 'उड़ाई', 5840: 'पृथ्वी', 5841: 'साम्राज्यों', 5842: 'झिलता', 5843: 'दोनो', 5844: 'क़ीमती', 5845: 'बगुले', 5846: 'चिल्लाना', 5847: 'माईने', 5848: 'पूछे', 5849: 'करवाऊँगा', 5850: 'भंग', 5851: 'कागज़ी', 5852: 'पौधों', 5853: 'लैला', 5854: 'आस्ट्रेलिया', 5855: 'बिटकॉइन', 5856: 'छुआ', 5857: 'फ़्लैट', 5858: 'मजाक', 5859: 'दर्द', 5860: 'आदत', 5861: 'बहाते', 5862: 'स्वरगिक', 5863: 'काॅफी', 5864: 'नेपाली', 5865: 'लाथ', 5866: 'कबाड़', 5867: 'अंडे', 5868: 'कोर', 5869: 'कामयाब', 5870: 'काल', 5871: 'वन्य', 5872: 'गुंजाईश', 5873: 'देवता', 5874: 'कवि', 5875: 'चलन', 5876: 'सचमुच', 5877: 'अति', 5878: 'शक्तिहीनता', 5879: 'रहकर', 5880: 'ड्राइवर', 5881: 'गाऊँगा', 5882: 'नौकर', 5883: 'अवसर', 5884: 'तज़ुर्बे', 5885: 'टेनिस', 5886: 'खालूँ', 5887: 'दम', 5888: 'इमारत', 5889: 'संगीत', 5890: 'के', 5891: 'मुस्कुराते', 5892: 'बचाई', 5893: 'टेनीस', 5894: 'धमकी', 5895: 'अॅन्ड', 5896: 'बिल', 5897: 'खुशमिज़ाज', 5898: 'स्लोवेन्स्को', 5899: 'बचे', 5900: 'कौण', 5901: 'ख़तम', 5902: 'दिखाएँ', 5903: 'तीस', 5904: 'निर्बोध', 5905: 'करेगी', 5906: 'इतना', 5907: 'रोने', 5908: 'चलकर', 5909: 'डार्सी', 5910: '”', 5911: 'दयालु', 5912: 'फ़ाईल', 5913: 'गया', 5914: 'धैर्य', 5915: 'सृजन', 5916: 'विशद', 5917: 'पिचर', 5918: 'मंगोलीयाई', 5919: 'कमरा', 5920: 'घुन', 5921: 'दुरुपयोग', 5922: 'हट', 5923: 'घिसे', 5924: 'मूँगफली', 5925: 'काटने', 5926: 'दिखावा', 5927: 'गिर', 5928: 'जिराफ़', 5929: 'सकारात्मक', 5930: 'पड़ेगी', 5931: 'लाना', 5932: 'अम्हारी', 5933: 'अपराध', 5934: 'दवाइयां', 5935: 'अहंकारी', 5936: 'परेशान', 5937: 'बैठना', 5938: 'अल्जेरिया', 5939: 'भाग्यवान', 5940: 'ख़तरे', 5941: 'अँगूठी', 5942: 'बोतल', 5943: 'दिवाले', 5944: 'घुसते', 5945: 'कापरी', 5946: 'रविवार', 5947: 'कैथरीन', 5948: 'चश्मा', 5949: 'मिनिट', 5950: 'मिलाएं', 5951: 'भारतीय', 5952: 'ब्रायंट', 5953: 'मूत', 5954: 'डिक', 5955: 'सफ़र', 5956: 'सौंपा', 5957: 'व्रक्ष', 5958: 'ट्रेनें', 5959: 'असभ्यता', 5960: 'शौक', 5961: 'लगेगा', 5962: 'कैंचियों', 5963: 'दामों', 5964: 'दौड़ता', 5965: 'उच्चार', 5966: 'विलोम', 5967: 'बालों', 5968: 'गुड़िया', 5969: 'इंतेज़ार', 5970: 'तत्पर', 5971: 'वाइरस', 5972: 'चालाकी', 5973: 'उन्मूलन', 5974: 'छाँव', 5975: 'सोखता', 5976: 'फ़िनलैंड', 5977: 'आज़माती', 5978: 'चूहें', 5979: 'रक्तदान', 5980: 'राफ़ाएला', 5981: 'तथा', 5982: 'ताक़त', 5983: 'नेता', 5984: 'किसकी', 5985: 'ठूसे', 5986: 'ब्रिटिशों', 5987: 'हंगामा', 5988: 'नहिं', 5989: 'आईए', 5990: 'फ़्रेंच', 5991: 'ढूंढ़ने', 5992: 'मुज़े', 5993: 'हादसे', 5994: 'तामील', 5995: 'खरीदकर', 5996: 'दोनों', 5997: 'लगने', 5998: 'गांववालें', 5999: 'होक्काईदो', 6000: 'से', 6001: 'समझोगी', 6002: 'चलाकर', 6003: 'पर्शिया', 6004: 'रुक', 6005: 'सम्राट', 6006: 'बेल्जियाई', 6007: 'शरद', 6008: 'रब्बी', 6009: 'प्रधानमंत्री', 6010: 'चेहरा', 6011: 'देता', 6012: 'मंगवाई', 6013: 'पोर्तुगीज', 6014: 'शहरी', 6015: 'वाचालता', 6016: 'चपटी', 6017: 'पोस', 6018: 'मंदिर', 6019: 'निमंत्रण', 6020: 'पहनी', 6021: 'तादाशी', 6022: 'योनी', 6023: 'मिस्री', 6024: 'जुलाई', 6025: 'प्रस्तुत', 6026: 'बच्चन', 6027: 'लाईसेंस', 6028: 'पढ़ूँ', 6029: 'विटामिन', 6030: 'स्मृतियों', 6031: 'अटैची', 6032: 'निष्ठा', 6033: 'मिट्टी', 6034: 'ख़तरनाक', 6035: 'बादलों', 6036: 'संपर्क', 6037: 'अल्लाह', 6038: 'ख़ुश', 6039: 'कड़वा', 6040: 'सुलझा', 6041: 'खुशकिसमत', 6042: 'इंसान', 6043: 'निकाल', 6044: 'तमाम', 6045: 'निश्छल', 6046: 'तेज़', 6047: 'खिलाना', 6048: 'नम्रता', 6049: 'गाएंगे', 6050: 'शौकिया', 6051: 'सूख', 6052: 'रफ़तार', 6053: 'लाइए', 6054: 'प्रयत्न', 6055: 'ताला', 6056: 'जोखिम', 6057: 'गलती', 6058: 'निकलेंगे', 6059: 'परिणाम', 6060: 'माफ', 6061: 'पार्टनर', 6062: 'जिन्हें', 6063: 'तोड़ी', 6064: 'लिपटी', 6065: 'उपन्यास', 6066: 'शो', 6067: 'भीग', 6068: 'रसोई', 6069: 'तोड़ोगे', 6070: 'कमाई', 6071: 'इनाम', 6072: 'हेलमेट', 6073: 'पिलाओ', 6074: 'आस्था', 6075: 'उगाता', 6076: 'पाइलट', 6077: 'फ्रांसीसी', 6078: 'असुरक्षित', 6079: 'यौन', 6080: 'डाँवाडोल', 6081: 'धीमे', 6082: 'घृणा', 6083: 'क़ीमत', 6084: 'होंगे', 6085: 'रेशमी', 6086: 'पोकर', 6087: 'ब्रिटिश', 6088: 'होना', 6089: 'आकर्षक', 6090: 'पहुँची', 6091: 'पिक्चर', 6092: 'राह', 6093: 'सगाई', 6094: 'बारी', 6095: 'सी', 6096: 'रखे', 6097: 'हिंसक', 6098: 'स्तब्ध', 6099: 'कान', 6100: 'पंद्रह', 6101: 'सकते', 6102: 'जिमखाने', 6103: 'तापमान', 6104: 'हें', 6105: 'प्रवीण', 6106: 'डूबने', 6107: 'बीतता', 6108: 'चाहतीं', 6109: 'लेआऊँ', 6110: 'आदमियों', 6111: 'चांद', 6112: 'जनमत', 6113: 'हत्याएँ', 6114: 'सम्पूर्ण', 6115: 'उड़ने', 6116: 'तक', 6117: 'टीचर', 6118: 'MBA', 6119: 'ब्लॉगर', 6120: 'नूडल', 6121: 'वे', 6122: 'घुमा', 6123: 'सिखाया', 6124: 'उर्दू', 6125: 'चिड़िया', 6126: 'प्रयोग', 6127: 'पछतावा', 6128: 'हेलेन', 6129: 'अकबर', 6130: 'हफ्ते', 6131: 'निस्संदेह', 6132: 'मतलबी', 6133: 'क्वाड', 6134: 'हिसाशी', 6135: 'खुशखबर', 6136: 'गवाना', 6137: 'इज़वेस्तीया', 6138: 'नुकसान', 6139: 'फटाफट', 6140: 'पूँछना', 6141: 'अफ़्रीका', 6142: 'आबादी', 6143: 'बिना', 6144: 'अड़चने', 6145: 'माननी', 6146: 'पड़ी', 6147: 'व्याकरण', 6148: 'कमीज़ें', 6149: 'पतलून', 6150: \"'\", 6151: 'लूँ', 6152: 'आश्चर्यचकित', 6153: 'गरमी', 6154: 'सार्थक', 6155: 'अविवाहित', 6156: 'जार्ज', 6157: 'वज़ीर', 6158: 'काबू', 6159: 'जुकाम', 6160: 'अनूठा', 6161: 'गणित', 6162: 'ब्रदर्स', 6163: 'हेलो', 6164: 'डालें', 6165: 'मांगा', 6166: 'निन्यानवे', 6167: 'योग्य', 6168: 'वेबसाइट', 6169: 'समस्याएं', 6170: 'नाचना', 6171: 'श्रीलंका', 6172: 'दिग्गज', 6173: 'छुएँ', 6174: 'ओई', 6175: 'किर्गिज़िया', 6176: 'समूह', 6177: 'सुनती', 6178: 'फ़र्नीचर', 6179: 'वहम', 6180: 'चेक', 6181: 'खोलूँ', 6182: 'नज़्म', 6183: 'बुद्धी', 6184: 'रविबार', 6185: 'प्रकार', 6186: 'पिकासो', 6187: 'बुलाया', 6188: 'संवेदनशील', 6189: 'पाठशाला', 6190: 'दाहिना', 6191: 'सवा', 6192: 'बोरिया', 6193: 'दिशा', 6194: 'सिर्फ', 6195: 'हमेशा', 6196: 'भूकंप', 6197: 'बजे', 6198: 'भरे', 6199: 'प्रदूषित', 6200: 'लाव्वाज़्ये', 6201: 'आपकी', 6202: 'बदलिए', 6203: 'मीट', 6204: 'पूछने', 6205: 'मीनार', 6206: 'खिल', 6207: 'डॉलरों', 6208: 'बिच्छू', 6209: 'आदमी', 6210: 'दोस्त', 6211: 'छठे', 6212: 'तिब्बती', 6213: 'नहीँ', 6214: 'चलता', 6215: 'तौलिये', 6216: 'भूमिका', 6217: 'आर्मीनियाई', 6218: 'लगें', 6219: 'सारा', 6220: 'केनजी', 6221: 'कौनसा', 6222: 'जन्मे', 6223: 'डिनर', 6224: 'टॉम', 6225: 'बचाली', 6226: 'मिटा', 6227: 'दांत', 6228: 'नायकवाले', 6229: 'इनसानी', 6230: 'पुस्तक', 6231: 'मुर्मू', 6232: 'कैंची', 6233: 'भूमध्य', 6234: 'कहा', 6235: 'साफ', 6236: 'कोआले', 6237: 'बेटा', 6238: 'सुलझने', 6239: 'स्थानिक', 6240: 'कुर्सियाँ', 6241: 'रिगा', 6242: 'आंसू', 6243: 'माँबाप', 6244: 'मैथुन', 6245: 'प्रसन्न', 6246: 'मोटे', 6247: 'बल्कि', 6248: 'चुप', 6249: 'सम्मेलन', 6250: 'भाग्य', 6251: 'धुलवानीं', 6252: 'वकील', 6253: 'राज़ी', 6254: 'सवारी', 6255: 'आयोवा', 6256: 'कहो', 6257: 'मूँछ', 6258: 'सऊदिय्याह', 6259: 'बारबार', 6260: 'चलने', 6261: 'ज़ुकाम', 6262: 'धरे', 6263: 'ख़रीदीं', 6264: 'कमा', 6265: 'कल', 6266: 'बेटे', 6267: 'सफ़ल', 6268: 'तर', 6269: 'पूर्व', 6270: 'शुभ', 6271: 'यौगिक', 6272: 'हॉपकिंस', 6273: 'कुकुरमुत्ते', 6274: 'खेलनेवाला', 6275: 'सुपरमैन', 6276: 'उठने', 6277: 'एस', 6278: 'बचाया', 6279: 'सिपाही', 6280: 'ट्राफ़िक', 6281: 'माँगनी', 6282: 'किन्तु', 6283: 'पीटर्सबर्ग', 6284: 'हानी', 6285: 'माँगा', 6286: 'बच्चों', 6287: 'सरकार', 6288: 'प्यास', 6289: 'रोए', 6290: 'अॅन', 6291: 'स्वर्ग', 6292: 'खिलाफ़', 6293: 'दाँतों', 6294: 'शमा', 6295: 'कितने', 6296: 'छाया', 6297: 'बढ़ी', 6298: 'पढ़ते', 6299: 'भोजन', 6300: 'सेविल्ला', 6301: 'सावन', 6302: 'यार', 6303: 'आक्रमकों', 6304: 'शादियां', 6305: 'हंसी', 6306: 'फैलती', 6307: 'बोलिए', 6308: 'हकों', 6309: 'दीजिये', 6310: 'लॉलीपॉप', 6311: 'ज़्यादा', 6312: 'भरती', 6313: 'अर्थतंत्रों', 6314: 'कहलाता', 6315: 'सोचता', 6316: 'करी', 6317: 'मारिया', 6318: 'चूर', 6319: 'उन्हें', 6320: 'चोरी', 6321: 'सहिष्णुता', 6322: 'कैरी', 6323: 'डालीं', 6324: 'ज़िला', 6325: 'जीकर', 6326: 'चाईनिज', 6327: 'बड़ा', 6328: 'शाह', 6329: 'खैरो', 6330: 'इस्त्री', 6331: 'बताना', 6332: 'खरीदता', 6333: 'लेनी', 6334: 'उड़ाओ', 6335: 'कंपनियां', 6336: 'बनाती', 6337: 'राजा', 6338: 'जल्दी', 6339: 'आदर्श', 6340: 'उलटी', 6341: 'जेरी', 6342: 'गायकों', 6343: 'सीखूंगा', 6344: 'पड़ीं', 6345: 'विकिपीडिया', 6346: 'पर्स', 6347: 'भिखारियों', 6348: 'देते', 6349: 'लिंडा', 6350: 'हिचकिचाएँ', 6351: 'धड़ल्ले', 6352: 'अध्यापक', 6353: 'बैठक', 6354: 'मेने', 6355: 'तोह्फ़ा', 6356: 'उच्च', 6357: 'इंसाफ़', 6358: 'बातचीत', 6359: 'बुल्ला', 6360: 'गलत', 6361: 'जीतना', 6362: 'सीखती', 6363: 'कथाओं', 6364: 'देख', 6365: 'शुरू', 6366: 'बत्ती', 6367: 'हिसाब', 6368: 'डुबकी', 6369: 'खाँसी', 6370: 'लुइस', 6371: 'लेेंगे', 6372: 'सेहत', 6373: 'छेद', 6374: 'मांस', 6375: 'खुशखबरी', 6376: 'बजने', 6377: 'मच्छरों', 6378: 'रहेगी', 6379: 'कौवे', 6380: 'मोहताज़', 6381: 'एलजीरिया', 6382: 'अध्यापिका', 6383: 'कुविचारों', 6384: 'बनाएं', 6385: 'शेरों', 6386: 'बॉयफ्रेंड', 6387: 'प्रस्थापित', 6388: 'माफ़', 6389: 'हिमपात', 6390: 'छपेगी', 6391: 'वस्\\u200dतु', 6392: 'खाते', 6393: 'जेठ', 6394: 'बेशरम', 6395: 'हिंदुस्तान', 6396: 'वित्तीय', 6397: 'लिहाज़', 6398: 'लिख', 6399: 'संत्रा', 6400: '१९५७', 6401: 'मात्रा', 6402: '97', 6403: 'नए', 6404: 'सफल', 6405: 'विभिन्न', 6406: 'डाँटा', 6407: 'अक़्ल', 6408: 'मंगलमय', 6409: 'हो', 6410: 'जाग', 6411: 'शांति', 6412: 'प्यासा', 6413: 'फ्रिज', 6414: 'ढोंग', 6415: 'यूनाइटेड', 6416: 'बदकिस्मती', 6417: 'सम्मान', 6418: 'दिखता', 6419: 'वृद्धी', 6420: 'म्याऊ', 6421: 'श्रेणी', 6422: 'शक', 6423: 'हेरोइन', 6424: 'हड़बड़ी', 6425: 'युवराज', 6426: 'जला', 6427: 'सापेक्षवाद', 6428: 'ब्रॅड', 6429: 'सोना', 6430: 'म्यानमार', 6431: 'शर्मीली', 6432: 'ख़बर', 6433: 'खाल', 6434: 'गूगल', 6435: 'बर्बर', 6436: 'कबाब', 6437: 'चोदना', 6438: 'अफवाह', 6439: 'देने', 6440: 'मुताबिक', 6441: 'सीधी', 6442: 'हॉट', 6443: 'पुस्तकों', 6444: 'जाहिर', 6445: 'शिखर', 6446: 'कला', 6447: 'खत्म', 6448: 'टोफ़ू', 6449: 'किधर', 6450: 'कदम', 6451: 'अफ़गानिस्तान', 6452: 'उड़ाया', 6453: 'आठ', 6454: 'आँखें', 6455: 'वर्तमान', 6456: 'महाल', 6457: 'भूखे', 6458: 'अपराधी', 6459: 'छिप', 6460: 'भटक', 6461: 'मूर्ख', 6462: 'धुलाई', 6463: 'बरस', 6464: 'मश्हूर', 6465: 'पिछली', 6466: 'नहि', 6467: 'महिलाएं', 6468: 'हठी', 6469: 'बैचलर', 6470: 'रेखाओं', 6471: 'छीन', 6472: 'यूमी', 6473: 'आपका', 6474: 'मुस्कुरा', 6475: 'टीवी', 6476: 'नक्शा', 6477: 'रह', 6478: 'हुँ', 6479: 'ब्रिज', 6480: 'शोणातु', 6481: 'चखकर', 6482: 'गहरी', 6483: 'पकड़ेंगी', 6484: 'मध्ययुग', 6485: 'गोआ', 6486: 'रॉबर्ट', 6487: 'बुरगुंदीयाई', 6488: 'किंतु', 6489: 'क़ातिल', 6490: 'उसपर', 6491: 'चौड़ी', 6492: 'रोमानियाई', 6493: 'किए', 6494: 'पढ़ाई', 6495: 'सैंडविच', 6496: 'शापिंग', 6497: 'वार्तालाप', 6498: 'लूटमार', 6499: 'रेडियो', 6500: 'कड़वी', 6501: 'चूतिये', 6502: 'शिन्तारो', 6503: 'ने', 6504: 'देश', 6505: 'तम्हे', 6506: 'बताइयेगा', 6507: 'जॉर्ज', 6508: 'मैरी', 6509: 'कैमरा', 6510: 'पोता', 6511: 'उठा', 6512: 'इंटरव्यू', 6513: 'आँख', 6514: 'निराश', 6515: 'गरीब', 6516: 'चालू', 6517: 'लाईं', 6518: 'दूसरों', 6519: 'तैरकर', 6520: 'अनन्त', 6521: 'मानने', 6522: 'ढूँढने', 6523: 'मसलों', 6524: 'हफ़्तों', 6525: 'नगरी', 6526: 'टाफ़्ट', 6527: 'आवाज़ों', 6528: 'सको', 6529: 'सीढ़ियों', 6530: 'बाएं', 6531: 'रुका', 6532: 'घोसले', 6533: 'कान्जी', 6534: 'प्रबंधक', 6535: 'सैंकड़ों', 6536: 'नाटक', 6537: 'डालने', 6538: 'भागें', 6539: 'अन्नागार', 6540: 'पहला', 6541: 'बहर', 6542: 'अल्जीरिया', 6543: 'चाहीए', 6544: 'जाम', 6545: 'भ्रामक', 6546: 'बंदूक', 6547: 'मोरोपंत', 6548: 'इनकी', 6549: 'रोज़ाना', 6550: 'प्रतिबद्धता', 6551: 'मानो', 6552: 'ब्यौरा', 6553: 'जापान', 6554: 'प्राकृतिक', 6555: 'फ़ोल्डर', 6556: 'नज़र', 6557: 'शहरों', 6558: 'सहारा', 6559: 'सकतीं', 6560: 'क्रोधित', 6561: 'जिसके', 6562: 'किजिए', 6563: 'भाईसाहब', 6564: 'मॉर्ड्रेड', 6565: 'गुस्सें', 6566: 'लीडर', 6567: 'चलाई', 6568: 'बोला', 6569: 'होत', 6570: 'अलबम', 6571: 'चलाने', 6572: 'कल्पना', 6573: 'कहूं', 6574: 'चमक', 6575: 'जीता', 6576: 'लगाए', 6577: 'बातें', 6578: 'बुला', 6579: 'अनुवादक', 6580: 'उमर', 6581: 'चिंता', 6582: 'अत्यंत', 6583: 'सँकरे', 6584: 'बदगुमानी', 6585: 'उचित', 6586: 'परफेक्ट', 6587: 'केबलों', 6588: 'पाओ', 6589: 'अपौइंटमेंट', 6590: 'महोत्सव', 6591: 'करोगी', 6592: 'खेला', 6593: '१२', 6594: 'युग', 6595: 'निरोध', 6596: 'निर्मूलन', 6597: 'बदलाव', 6598: 'जटिल', 6599: 'ड्रग', 6600: 'कोशिश', 6601: 'निगर', 6602: 'नौवे', 6603: 'देशी', 6604: 'लेना', 6605: 'स्विमसूट', 6606: 'शिरो', 6607: 'हस्ताक्षर', 6608: 'समय', 6609: 'गलतीयाँ', 6610: 'प्रभावित', 6611: 'उतना', 6612: 'कॉपी', 6613: 'गपशप', 6614: 'फ़र्श', 6615: 'मनोचिकित्सा', 6616: 'पहुँचाई', 6617: 'ग्ली', 6618: 'जेन', 6619: 'कुरसी', 6620: 'टेक्सन', 6621: 'टाई', 6622: 'सादगी', 6623: 'अख़बार', 6624: 'एकसाथ', 6625: 'करायी', 6626: 'नकल', 6627: 'वापिस', 6628: 'क्षेत्र', 6629: 'नफरत', 6630: 'मास्को', 6631: 'जगा', 6632: 'गुरुवार', 6633: 'जानवरों', 6634: 'वृषभ', 6635: 'तए', 6636: 'वृद्ध', 6637: 'दक्षिण', 6638: 'बाँह', 6639: 'ज़रूर', 6640: 'बढ़ने', 6641: 'गुस्सा', 6642: 'स्वागत', 6643: 'पहुँचने', 6644: 'मतदान', 6645: 'Tatoeba', 6646: 'पूर्वक', 6647: 'आफ', 6648: 'फिले', 6649: 'कहीं', 6650: 'जितना', 6651: 'उत्तम', 6652: 'लूंगी', 6653: 'बहती', 6654: 'खींचो', 6655: 'नेपाल', 6656: 'उड़ता', 6657: 'जिसपर', 6658: 'रूप', 6659: 'मानना', 6660: 'चोदिये', 6661: 'घोषणा', 6662: 'खड़े', 6663: 'मारने', 6664: 'रखते', 6665: 'अपेक्षा', 6666: 'ताऊजी', 6667: 'एंथनी', 6668: 'अर्थ', 6669: 'चलाते', 6670: 'नतीजा', 6671: 'सकूं', 6672: 'बच्चें', 6673: 'अनमोल', 6674: 'नापसंद', 6675: 'प्रतिस्पर्धा', 6676: 'करूँगी', 6677: 'रेगिस्तान', 6678: 'मित्रता', 6679: 'चाल', 6680: 'अंधों', 6681: 'बुझता', 6682: 'प्रियजन', 6683: 'बिकता', 6684: 'अल्जेरियन', 6685: 'बोलती', 6686: 'निराशा', 6687: 'ब्रिटिशकाल', 6688: 'क्षण', 6689: 'हुकूमत', 6690: 'आर्थर', 6691: 'वाले', 6692: 'साली', 6693: 'दिजिए', 6694: 'बोते', 6695: 'सटीकता', 6696: 'संचार', 6697: 'किराये', 6698: 'रुकूँगी', 6699: 'गाडीयाँ', 6700: 'जन्मभूमी', 6701: 'कोंकणी', 6702: 'ज़ीलंड', 6703: 'तैयार', 6704: 'खाओ', 6705: 'दरवाज़ा', 6706: 'पोंछो', 6707: 'भूला', 6708: 'कक्षा', 6709: 'राजनीतिक', 6710: 'नान', 6711: 'महत्वहीन', 6712: 'रिश्ते', 6713: 'वस्तु', 6714: 'चलचित्र', 6715: 'हिरण', 6716: 'जाया', 6717: 'गाडियों', 6718: 'हास्यास्पद', 6719: 'घूँसा', 6720: 'अड़ियल', 6721: 'बताइये', 6722: 'सांप', 6723: 'मालुम', 6724: 'काटी', 6725: 'मोहल्ले', 6726: '।', 6727: 'बिताई', 6728: 'हाल', 6729: 'आँत्वाँ', 6730: 'छिपाइए', 6731: 'सामीने', 6732: 'लौटा', 6733: 'बुद्धि', 6734: 'रोज़ी', 6735: 'ऊँचाई', 6736: 'होमोफ़ोब', 6737: 'सुना', 6738: 'आता', 6739: 'इच्छा', 6740: 'बुख़ार', 6741: 'ज़िन्दा', 6742: 'मरने', 6743: 'छात्रों', 6744: 'पूँजीवादी', 6745: 'लातविया', 6746: 'लोमड़ियों', 6747: 'चक्कर', 6748: 'रखा', 6749: 'वर्तनी', 6750: 'उपन्यासकार', 6751: 'सोचते', 6752: 'ख़ासियत', 6753: 'त्यागपत्र', 6754: 'भाव', 6755: 'एथेनियाई', 6756: 'पड़ोगे', 6757: 'और', 6758: 'आयु', 6759: 'स्थान', 6760: 'यॉर्गेन', 6761: 'बलकानी', 6762: 'इचिरो', 6763: 'स्वतंत्रता', 6764: 'न्यूटन', 6765: 'संबंधित', 6766: 'दिखाईए', 6767: 'उन्होंने', 6768: 'बाहर', 6769: 'सलाम', 6770: 'हॉर्न', 6771: 'सर्बियाई', 6772: 'संकेत', 6773: 'प्रस्तावों', 6774: 'वीरेंद्र', 6775: 'डालती', 6776: 'काश', 6777: 'मानचित्र', 6778: 'लगीं', 6779: 'घंटों', 6780: 'मंगेश', 6781: 'भयावह', 6782: 'हड़तालियों', 6783: 'मशाल', 6784: 'संतरा', 6785: 'लिफाफे', 6786: 'इसके', 6787: 'अल्जेरियाई', 6788: 'ठंडे', 6789: 'हमने', 6790: '€100', 6791: 'मौसम', 6792: 'अफ़सर', 6793: 'आयरलैंड', 6794: 'बयां', 6795: 'परीक्षा', 6796: 'पिशाच', 6797: 'आयी', 6798: 'पत्थर', 6799: 'पहनते', 6800: 'ब्रैड', 6801: 'गर्लफ्रेन्ड', 6802: 'संभवतः', 6803: 'परिस्तिथियों', 6804: 'उतरेगा', 6805: 'ऊष्मा', 6806: 'काबिलियत', 6807: 'स्नोमैन', 6808: 'शाखाएं', 6809: 'मुबारक', 6810: 'चोर', 6811: 'अंततः', 6812: 'भींची', 6813: 'परन्तु', 6814: 'सुपर', 6815: 'सुनो', 6816: 'खटखटाया', 6817: 'रिश्तेदारों', 6818: 'गोलियों', 6819: 'बताने', 6820: 'गा', 6821: 'हस्तमैतुन', 6822: 'दिली', 6823: 'मद्य', 6824: 'बेचना', 6825: 'वाद्य', 6826: 'पढ़ने', 6827: 'साइट', 6828: 'तीसरी', 6829: 'हँसाना', 6830: 'राहुल', 6831: 'ज्वालामुखी', 6832: 'परिक्रमा', 6833: 'अधनंगे', 6834: 'डॉक्टर', 6835: 'नीति', 6836: 'बावजूद', 6837: 'सिंगापुर', 6838: 'हरे', 6839: 'हॅमिल्टन', 6840: 'पाएगा', 6841: 'काटते', 6842: 'अगले', 6843: 'पीजिए', 6844: 'खट्टे', 6845: 'मिटती', 6846: 'चंगेज़', 6847: 'हिस्सा', 6848: 'झेला', 6849: 'जागना', 6850: 'जरूर', 6851: 'पहुँचाते', 6852: 'बहरीन', 6853: 'हटो', 6854: 'पतंग', 6855: 'तकलीफ़', 6856: 'ओबो', 6857: 'पाऊंड', 6858: '\"', 6859: 'एहसान', 6860: 'चमकेगा', 6861: 'बनी', 6862: 'महंगी', 6863: 'गोलाबारूद', 6864: 'संस्कृत', 6865: 'देखे', 6866: 'अमरीकी', 6867: 'मुड़', 6868: 'किलोमीटर', 6869: 'अंधेरे', 6870: 'सर्कार', 6871: 'होनी', 6872: 'खयाल', 6873: 'सीटें', 6874: 'घूमफिरकर', 6875: 'भरा', 6876: 'चेहरे', 6877: 'बालदार', 6878: 'ग्रिल्ड', 6879: 'वाक्यांशों', 6880: 'धीरे', 6881: 'दोस्ती', 6882: 'कपटपूर्ण', 6883: 'मारो', 6884: '१९९२', 6885: 'मिलता', 6886: 'टोकरी', 6887: 'नाजिब', 6888: 'स्टारक्राफ़्ट', 6889: 'भेजी', 6890: 'करवाने', 6891: 'राष्ट्रीयता', 6892: 'फोर्ड', 6893: 'नॅन्सी', 6894: 'सपनों', 6895: 'तथ्यों', 6896: 'रहा', 6897: 'गुस्से', 6898: 'जन्मा', 6899: 'स्काटिश', 6900: 'लिखना', 6901: 'घरें', 6902: 'कहोगी', 6903: 'सैंतीस', 6904: 'लिखे', 6905: 'खिलते', 6906: 'बिस्तर', 6907: 'रेस्टोरेंट', 6908: 'काबिल', 6909: 'रखो', 6910: 'विदाई', 6911: 'फादिल', 6912: 'लाईन', 6913: 'बताओगे', 6914: 'ईमारत', 6915: 'अपमानजनक', 6916: 'ऐलिस', 6917: 'शीतयुद्ध', 6918: 'जानता', 6919: 'शिक़ायत', 6920: 'अतः', 6921: 'कर्ज़', 6922: 'जिसकी', 6923: 'पुर्तगाली', 6924: 'समापत', 6925: 'पराग्वे', 6926: 'दुष्ट', 6927: 'घुटने', 6928: 'छूने', 6929: 'झेल', 6930: 'बेईमानी', 6931: 'खिलाने', 6932: 'बड़ती', 6933: 'चावी', 6934: 'गाॅंव', 6935: 'टोक्यो', 6936: 'छोटी', 6937: 'समझिए', 6938: 'नंगा', 6939: 'बिगड़', 6940: 'पुलिसवाला', 6941: 'कर्म', 6942: 'सोती', 6943: 'पेटी', 6944: 'आइज़ैक', 6945: 'प्रयास', 6946: 'बार्सेलोना', 6947: 'सीखें', 6948: 'खिड़की', 6949: 'ड्यूटी', 6950: 'ऊँची', 6951: 'तिनके', 6952: 'फ़ादिल', 6953: 'क़सम', 6954: 'अक़ल', 6955: 'करना', 6956: 'साबित', 6957: '११', 6958: 'झगड़ने', 6959: 'दक्ष', 6960: 'गलतियों', 6961: 'पन्नों', 6962: 'अभिनेता', 6963: 'समुंदर', 6964: 'खिडकी', 6965: 'रॉब', 6966: 'आपके', 6967: 'लापरवाही', 6968: 'वर्णमाला', 6969: 'उड़ातें', 6970: 'कुश्ती', 6971: 'मुसलमानों', 6972: 'देगा', 6973: 'साँझ', 6974: 'भूलेंगे', 6975: 'याददाश्त', 6976: 'प्राचीन', 6977: 'आँसुओं', 6978: 'जाएगा', 6979: 'क्यूबा', 6980: 'चंद्रमा', 6981: 'येरुशलयिम', 6982: 'ग्रे', 6983: 'रोक', 6984: 'दूँगा', 6985: 'मांगी', 6986: 'सुरक्षा', 6987: 'स्पुट्निक', 6988: 'प्रतिक्रिया', 6989: 'कामनाएँ', 6990: 'हमला', 6991: 'उनकी', 6992: 'गालों', 6993: 'लेगा', 6994: 'लेटा', 6995: 'बगीचा', 6996: 'सुधरी', 6997: 'पेनसिल', 6998: 'पोलिश', 6999: 'ई', 7000: 'बजा', 7001: 'घेर', 7002: 'उतारने', 7003: 'माफी', 7004: 'तारीखे', 7005: 'दौड़ी', 7006: 'बिल्लियों', 7007: 'अम्रीका', 7008: 'कहूँ', 7009: 'बुझाना', 7010: 'बिछी', 7011: 'टांगे', 7012: 'तैरने', 7013: 'खाओगी', 7014: 'भय', 7015: 'जर्मन', 7016: 'छुट्टियाँ', 7017: 'बने', 7018: 'श्री', 7019: 'सोते', 7020: 'दूंगी', 7021: 'गुड़गुड़ा', 7022: 'रोया', 7023: 'किसलिए', 7024: 'मिन्ह', 7025: 'जगाओ', 7026: 'ढल', 7027: 'श्वास', 7028: '१९७१', 7029: 'दुकाने', 7030: 'बिताते', 7031: 'पहाड़ी', 7032: 'आंध्र', 7033: 'फिसला', 7034: 'नैपकिन', 7035: 'लौट', 7036: 'पढ़', 7037: 'धोए', 7038: 'बटन', 7039: 'बॉक्सर', 7040: 'बढ़ावा', 7041: 'अस्सी', 7042: 'ऊलजलूल', 7043: 'नामुमकिन', 7044: 'रोग', 7045: 'गढ़ों', 7046: 'रात', 7047: 'बॅटर', 7048: 'सब्ज़ीयाँ', 7049: 'बोर', 7050: 'पड़ाई', 7051: 'लगकर', 7052: 'कितनीं', 7053: 'पड़ने', 7054: 'स्वीकारेंगे', 7055: 'साफ़', 7056: 'धन्यवाद्', 7057: 'कठोर', 7058: 'सटिया', 7059: 'खींची', 7060: 'तैवान', 7061: 'बताऊं', 7062: 'जाऐं', 7063: 'बदतमीज़', 7064: 'सुनाइए', 7065: 'स्टेशनों', 7066: 'बता', 7067: 'रेस्तराँ', 7068: 'इन्हें', 7069: 'लानत', 7070: 'मगर', 7071: 'समझौता', 0: '<PAD>', 1: '<SOS>', 2: '<EOS>'}\n"
     ]
    }
   ],
   "source": [
    "hindi_idx2vocab=dict(zip(Vd.values(),Vd.keys()))\n",
    "print(hindi_idx2vocab)"
   ]
  },
  {
   "cell_type": "code",
   "execution_count": 20,
   "metadata": {
    "execution": {
     "iopub.execute_input": "2025-09-22T09:21:40.224988Z",
     "iopub.status.busy": "2025-09-22T09:21:40.224809Z",
     "iopub.status.idle": "2025-09-22T09:21:40.235751Z",
     "shell.execute_reply": "2025-09-22T09:21:40.235177Z",
     "shell.execute_reply.started": "2025-09-22T09:21:40.224974Z"
    },
    "trusted": true
   },
   "outputs": [
    {
     "data": {
      "text/plain": [
       "7072"
      ]
     },
     "execution_count": 20,
     "metadata": {},
     "output_type": "execute_result"
    }
   ],
   "source": [
    "Vd\n",
    "len(Vd)"
   ]
  },
  {
   "cell_type": "code",
   "execution_count": 21,
   "metadata": {
    "execution": {
     "iopub.execute_input": "2025-09-22T09:21:40.236461Z",
     "iopub.status.busy": "2025-09-22T09:21:40.236292Z",
     "iopub.status.idle": "2025-09-22T09:21:40.250007Z",
     "shell.execute_reply": "2025-09-22T09:21:40.249301Z",
     "shell.execute_reply.started": "2025-09-22T09:21:40.236448Z"
    },
    "trusted": true
   },
   "outputs": [],
   "source": [
    "def convert_hindi_tokens_to_ids(hindi_sent):\n",
    "    return [Vd[token] for token in hindi_sent]"
   ]
  },
  {
   "cell_type": "code",
   "execution_count": 22,
   "metadata": {
    "execution": {
     "iopub.execute_input": "2025-09-22T09:21:40.250985Z",
     "iopub.status.busy": "2025-09-22T09:21:40.250738Z",
     "iopub.status.idle": "2025-09-22T09:21:40.281482Z",
     "shell.execute_reply": "2025-09-22T09:21:40.280797Z",
     "shell.execute_reply.started": "2025-09-22T09:21:40.250966Z"
    },
    "trusted": true
   },
   "outputs": [],
   "source": [
    "df[\"DestSent\"]=df[\"DestSent\"].apply(lambda x:convert_hindi_tokens_to_ids(x))"
   ]
  },
  {
   "cell_type": "code",
   "execution_count": 23,
   "metadata": {
    "execution": {
     "iopub.execute_input": "2025-09-22T09:21:40.282493Z",
     "iopub.status.busy": "2025-09-22T09:21:40.282194Z",
     "iopub.status.idle": "2025-09-22T09:21:40.293330Z",
     "shell.execute_reply": "2025-09-22T09:21:40.292671Z",
     "shell.execute_reply.started": "2025-09-22T09:21:40.282473Z"
    },
    "trusted": true
   },
   "outputs": [
    {
     "data": {
      "text/html": [
       "<div>\n",
       "<style scoped>\n",
       "    .dataframe tbody tr th:only-of-type {\n",
       "        vertical-align: middle;\n",
       "    }\n",
       "\n",
       "    .dataframe tbody tr th {\n",
       "        vertical-align: top;\n",
       "    }\n",
       "\n",
       "    .dataframe thead th {\n",
       "        text-align: right;\n",
       "    }\n",
       "</style>\n",
       "<table border=\"1\" class=\"dataframe\">\n",
       "  <thead>\n",
       "    <tr style=\"text-align: right;\">\n",
       "      <th></th>\n",
       "      <th>SrcSent</th>\n",
       "      <th>DestSent</th>\n",
       "    </tr>\n",
       "  </thead>\n",
       "  <tbody>\n",
       "    <tr>\n",
       "      <th>0</th>\n",
       "      <td>[4159, 23, 14018, 19, 460, 230, 5]</td>\n",
       "      <td>[983, 5626, 4056, 5157, 5652, 6409, 3972, 2256...</td>\n",
       "    </tr>\n",
       "    <tr>\n",
       "      <th>1</th>\n",
       "      <td>[4159, 23, 14018, 19, 460, 230, 5]</td>\n",
       "      <td>[983, 5626, 4056, 5157, 5652, 2256, 6726]</td>\n",
       "    </tr>\n",
       "    <tr>\n",
       "      <th>2</th>\n",
       "      <td>[2855, 16, 48, 296, 26963, 7, 140, 5]</td>\n",
       "      <td>[5441, 951, 2804, 3353, 1588, 5321, 4486, 6514...</td>\n",
       "    </tr>\n",
       "    <tr>\n",
       "      <th>3</th>\n",
       "      <td>[466, 751, 31, 17, 1837, 5]</td>\n",
       "      <td>[805, 2042, 1668, 6726]</td>\n",
       "    </tr>\n",
       "    <tr>\n",
       "      <th>4</th>\n",
       "      <td>[27, 3041, 25, 5]</td>\n",
       "      <td>[4227, 1786, 1862, 5479, 2245, 2256, 6726]</td>\n",
       "    </tr>\n",
       "  </tbody>\n",
       "</table>\n",
       "</div>"
      ],
      "text/plain": [
       "                                 SrcSent  \\\n",
       "0     [4159, 23, 14018, 19, 460, 230, 5]   \n",
       "1     [4159, 23, 14018, 19, 460, 230, 5]   \n",
       "2  [2855, 16, 48, 296, 26963, 7, 140, 5]   \n",
       "3            [466, 751, 31, 17, 1837, 5]   \n",
       "4                      [27, 3041, 25, 5]   \n",
       "\n",
       "                                            DestSent  \n",
       "0  [983, 5626, 4056, 5157, 5652, 6409, 3972, 2256...  \n",
       "1          [983, 5626, 4056, 5157, 5652, 2256, 6726]  \n",
       "2  [5441, 951, 2804, 3353, 1588, 5321, 4486, 6514...  \n",
       "3                            [805, 2042, 1668, 6726]  \n",
       "4         [4227, 1786, 1862, 5479, 2245, 2256, 6726]  "
      ]
     },
     "execution_count": 23,
     "metadata": {},
     "output_type": "execute_result"
    }
   ],
   "source": [
    "df.head()"
   ]
  },
  {
   "cell_type": "code",
   "execution_count": 24,
   "metadata": {
    "execution": {
     "iopub.execute_input": "2025-09-22T09:21:40.294252Z",
     "iopub.status.busy": "2025-09-22T09:21:40.293939Z",
     "iopub.status.idle": "2025-09-22T09:21:40.306708Z",
     "shell.execute_reply": "2025-09-22T09:21:40.306029Z",
     "shell.execute_reply.started": "2025-09-22T09:21:40.294231Z"
    },
    "trusted": true
   },
   "outputs": [],
   "source": [
    "def insert_sos_token_id(hindi_sent_token):\n",
    "    return [1]+hindi_sent_token\n",
    "\n",
    "def insert_eos_token_id(hindi_sent_token):\n",
    "    return hindi_sent_token+[2]"
   ]
  },
  {
   "cell_type": "code",
   "execution_count": 25,
   "metadata": {
    "execution": {
     "iopub.execute_input": "2025-09-22T09:21:40.307475Z",
     "iopub.status.busy": "2025-09-22T09:21:40.307290Z",
     "iopub.status.idle": "2025-09-22T09:21:40.325484Z",
     "shell.execute_reply": "2025-09-22T09:21:40.324963Z",
     "shell.execute_reply.started": "2025-09-22T09:21:40.307462Z"
    },
    "trusted": true
   },
   "outputs": [],
   "source": [
    "df[\"DestSentInput\"]=df[\"DestSent\"].apply(lambda x:insert_sos_token_id(x))"
   ]
  },
  {
   "cell_type": "code",
   "execution_count": 26,
   "metadata": {
    "execution": {
     "iopub.execute_input": "2025-09-22T09:21:40.326971Z",
     "iopub.status.busy": "2025-09-22T09:21:40.326183Z",
     "iopub.status.idle": "2025-09-22T09:21:40.345434Z",
     "shell.execute_reply": "2025-09-22T09:21:40.344601Z",
     "shell.execute_reply.started": "2025-09-22T09:21:40.326949Z"
    },
    "trusted": true
   },
   "outputs": [],
   "source": [
    "df[\"DestSentLabel\"]=df[\"DestSent\"].apply(lambda x:insert_eos_token_id(x))"
   ]
  },
  {
   "cell_type": "code",
   "execution_count": 27,
   "metadata": {
    "execution": {
     "iopub.execute_input": "2025-09-22T09:21:40.346395Z",
     "iopub.status.busy": "2025-09-22T09:21:40.346202Z",
     "iopub.status.idle": "2025-09-22T09:21:40.365590Z",
     "shell.execute_reply": "2025-09-22T09:21:40.364999Z",
     "shell.execute_reply.started": "2025-09-22T09:21:40.346375Z"
    },
    "trusted": true
   },
   "outputs": [
    {
     "data": {
      "text/html": [
       "<div>\n",
       "<style scoped>\n",
       "    .dataframe tbody tr th:only-of-type {\n",
       "        vertical-align: middle;\n",
       "    }\n",
       "\n",
       "    .dataframe tbody tr th {\n",
       "        vertical-align: top;\n",
       "    }\n",
       "\n",
       "    .dataframe thead th {\n",
       "        text-align: right;\n",
       "    }\n",
       "</style>\n",
       "<table border=\"1\" class=\"dataframe\">\n",
       "  <thead>\n",
       "    <tr style=\"text-align: right;\">\n",
       "      <th></th>\n",
       "      <th>SrcSent</th>\n",
       "      <th>DestSent</th>\n",
       "      <th>DestSentInput</th>\n",
       "      <th>DestSentLabel</th>\n",
       "    </tr>\n",
       "  </thead>\n",
       "  <tbody>\n",
       "    <tr>\n",
       "      <th>0</th>\n",
       "      <td>[4159, 23, 14018, 19, 460, 230, 5]</td>\n",
       "      <td>[983, 5626, 4056, 5157, 5652, 6409, 3972, 2256...</td>\n",
       "      <td>[1, 983, 5626, 4056, 5157, 5652, 6409, 3972, 2...</td>\n",
       "      <td>[983, 5626, 4056, 5157, 5652, 6409, 3972, 2256...</td>\n",
       "    </tr>\n",
       "    <tr>\n",
       "      <th>1</th>\n",
       "      <td>[4159, 23, 14018, 19, 460, 230, 5]</td>\n",
       "      <td>[983, 5626, 4056, 5157, 5652, 2256, 6726]</td>\n",
       "      <td>[1, 983, 5626, 4056, 5157, 5652, 2256, 6726]</td>\n",
       "      <td>[983, 5626, 4056, 5157, 5652, 2256, 6726, 2]</td>\n",
       "    </tr>\n",
       "    <tr>\n",
       "      <th>2</th>\n",
       "      <td>[2855, 16, 48, 296, 26963, 7, 140, 5]</td>\n",
       "      <td>[5441, 951, 2804, 3353, 1588, 5321, 4486, 6514...</td>\n",
       "      <td>[1, 5441, 951, 2804, 3353, 1588, 5321, 4486, 6...</td>\n",
       "      <td>[5441, 951, 2804, 3353, 1588, 5321, 4486, 6514...</td>\n",
       "    </tr>\n",
       "    <tr>\n",
       "      <th>3</th>\n",
       "      <td>[466, 751, 31, 17, 1837, 5]</td>\n",
       "      <td>[805, 2042, 1668, 6726]</td>\n",
       "      <td>[1, 805, 2042, 1668, 6726]</td>\n",
       "      <td>[805, 2042, 1668, 6726, 2]</td>\n",
       "    </tr>\n",
       "    <tr>\n",
       "      <th>4</th>\n",
       "      <td>[27, 3041, 25, 5]</td>\n",
       "      <td>[4227, 1786, 1862, 5479, 2245, 2256, 6726]</td>\n",
       "      <td>[1, 4227, 1786, 1862, 5479, 2245, 2256, 6726]</td>\n",
       "      <td>[4227, 1786, 1862, 5479, 2245, 2256, 6726, 2]</td>\n",
       "    </tr>\n",
       "  </tbody>\n",
       "</table>\n",
       "</div>"
      ],
      "text/plain": [
       "                                 SrcSent  \\\n",
       "0     [4159, 23, 14018, 19, 460, 230, 5]   \n",
       "1     [4159, 23, 14018, 19, 460, 230, 5]   \n",
       "2  [2855, 16, 48, 296, 26963, 7, 140, 5]   \n",
       "3            [466, 751, 31, 17, 1837, 5]   \n",
       "4                      [27, 3041, 25, 5]   \n",
       "\n",
       "                                            DestSent  \\\n",
       "0  [983, 5626, 4056, 5157, 5652, 6409, 3972, 2256...   \n",
       "1          [983, 5626, 4056, 5157, 5652, 2256, 6726]   \n",
       "2  [5441, 951, 2804, 3353, 1588, 5321, 4486, 6514...   \n",
       "3                            [805, 2042, 1668, 6726]   \n",
       "4         [4227, 1786, 1862, 5479, 2245, 2256, 6726]   \n",
       "\n",
       "                                       DestSentInput  \\\n",
       "0  [1, 983, 5626, 4056, 5157, 5652, 6409, 3972, 2...   \n",
       "1       [1, 983, 5626, 4056, 5157, 5652, 2256, 6726]   \n",
       "2  [1, 5441, 951, 2804, 3353, 1588, 5321, 4486, 6...   \n",
       "3                         [1, 805, 2042, 1668, 6726]   \n",
       "4      [1, 4227, 1786, 1862, 5479, 2245, 2256, 6726]   \n",
       "\n",
       "                                       DestSentLabel  \n",
       "0  [983, 5626, 4056, 5157, 5652, 6409, 3972, 2256...  \n",
       "1       [983, 5626, 4056, 5157, 5652, 2256, 6726, 2]  \n",
       "2  [5441, 951, 2804, 3353, 1588, 5321, 4486, 6514...  \n",
       "3                         [805, 2042, 1668, 6726, 2]  \n",
       "4      [4227, 1786, 1862, 5479, 2245, 2256, 6726, 2]  "
      ]
     },
     "execution_count": 27,
     "metadata": {},
     "output_type": "execute_result"
    }
   ],
   "source": [
    "df.head()"
   ]
  },
  {
   "cell_type": "code",
   "execution_count": 28,
   "metadata": {
    "execution": {
     "iopub.execute_input": "2025-09-22T09:21:40.366538Z",
     "iopub.status.busy": "2025-09-22T09:21:40.366236Z",
     "iopub.status.idle": "2025-09-22T09:21:40.380890Z",
     "shell.execute_reply": "2025-09-22T09:21:40.380080Z",
     "shell.execute_reply.started": "2025-09-22T09:21:40.366515Z"
    },
    "trusted": true
   },
   "outputs": [],
   "source": [
    "df.drop(labels=[df.columns[1]],axis=1,inplace=True)"
   ]
  },
  {
   "cell_type": "code",
   "execution_count": 29,
   "metadata": {
    "execution": {
     "iopub.execute_input": "2025-09-22T09:21:40.382247Z",
     "iopub.status.busy": "2025-09-22T09:21:40.381687Z",
     "iopub.status.idle": "2025-09-22T09:21:40.396789Z",
     "shell.execute_reply": "2025-09-22T09:21:40.396144Z",
     "shell.execute_reply.started": "2025-09-22T09:21:40.382223Z"
    },
    "trusted": true
   },
   "outputs": [],
   "source": [
    "X=list(df[\"SrcSent\"])\n",
    "Y_input=list(df[\"DestSentInput\"])\n",
    "Y_label=list(df[\"DestSentLabel\"])"
   ]
  },
  {
   "cell_type": "code",
   "execution_count": 30,
   "metadata": {
    "execution": {
     "iopub.execute_input": "2025-09-22T09:21:40.397760Z",
     "iopub.status.busy": "2025-09-22T09:21:40.397557Z",
     "iopub.status.idle": "2025-09-22T09:21:40.502252Z",
     "shell.execute_reply": "2025-09-22T09:21:40.501733Z",
     "shell.execute_reply.started": "2025-09-22T09:21:40.397746Z"
    },
    "trusted": true
   },
   "outputs": [],
   "source": [
    "X_tensor=[torch.tensor(tokenized_eng_sent_ids) for tokenized_eng_sent_ids in X]"
   ]
  },
  {
   "cell_type": "code",
   "execution_count": 31,
   "metadata": {
    "execution": {
     "iopub.execute_input": "2025-09-22T09:21:40.503125Z",
     "iopub.status.busy": "2025-09-22T09:21:40.502898Z",
     "iopub.status.idle": "2025-09-22T09:21:40.602687Z",
     "shell.execute_reply": "2025-09-22T09:21:40.601973Z",
     "shell.execute_reply.started": "2025-09-22T09:21:40.503110Z"
    },
    "trusted": true
   },
   "outputs": [],
   "source": [
    "Y_input_tensor=[torch.tensor(tokenized_hindi_sent_ids)for tokenized_hindi_sent_ids in Y_input]"
   ]
  },
  {
   "cell_type": "code",
   "execution_count": 32,
   "metadata": {
    "execution": {
     "iopub.execute_input": "2025-09-22T09:21:40.603764Z",
     "iopub.status.busy": "2025-09-22T09:21:40.603548Z",
     "iopub.status.idle": "2025-09-22T09:21:40.701801Z",
     "shell.execute_reply": "2025-09-22T09:21:40.701087Z",
     "shell.execute_reply.started": "2025-09-22T09:21:40.603749Z"
    },
    "trusted": true
   },
   "outputs": [],
   "source": [
    "Y_label_tensor=[torch.tensor(tokenized_hindi_sent_ids)for tokenized_hindi_sent_ids in Y_label]"
   ]
  },
  {
   "cell_type": "code",
   "execution_count": 33,
   "metadata": {
    "execution": {
     "iopub.execute_input": "2025-09-22T09:21:40.703162Z",
     "iopub.status.busy": "2025-09-22T09:21:40.702714Z",
     "iopub.status.idle": "2025-09-22T09:21:40.817388Z",
     "shell.execute_reply": "2025-09-22T09:21:40.816859Z",
     "shell.execute_reply.started": "2025-09-22T09:21:40.703125Z"
    },
    "trusted": true
   },
   "outputs": [],
   "source": [
    "X_padded=torch.nn.utils.rnn.pad_sequence(X_tensor,batch_first=True)"
   ]
  },
  {
   "cell_type": "code",
   "execution_count": 34,
   "metadata": {
    "execution": {
     "iopub.execute_input": "2025-09-22T09:21:40.818266Z",
     "iopub.status.busy": "2025-09-22T09:21:40.818074Z",
     "iopub.status.idle": "2025-09-22T09:21:40.877844Z",
     "shell.execute_reply": "2025-09-22T09:21:40.877372Z",
     "shell.execute_reply.started": "2025-09-22T09:21:40.818251Z"
    },
    "trusted": true
   },
   "outputs": [],
   "source": [
    "Y_padded_input=torch.nn.utils.rnn.pad_sequence(Y_input_tensor,batch_first=True)"
   ]
  },
  {
   "cell_type": "code",
   "execution_count": 35,
   "metadata": {
    "execution": {
     "iopub.execute_input": "2025-09-22T09:21:40.878607Z",
     "iopub.status.busy": "2025-09-22T09:21:40.878397Z",
     "iopub.status.idle": "2025-09-22T09:21:40.939357Z",
     "shell.execute_reply": "2025-09-22T09:21:40.938707Z",
     "shell.execute_reply.started": "2025-09-22T09:21:40.878583Z"
    },
    "trusted": true
   },
   "outputs": [],
   "source": [
    "Y_padded_label=torch.nn.utils.rnn.pad_sequence(Y_label_tensor,batch_first=True)"
   ]
  },
  {
   "cell_type": "code",
   "execution_count": 36,
   "metadata": {
    "execution": {
     "iopub.execute_input": "2025-09-22T09:21:40.940249Z",
     "iopub.status.busy": "2025-09-22T09:21:40.939987Z",
     "iopub.status.idle": "2025-09-22T09:21:40.943525Z",
     "shell.execute_reply": "2025-09-22T09:21:40.942913Z",
     "shell.execute_reply.started": "2025-09-22T09:21:40.940225Z"
    },
    "trusted": true
   },
   "outputs": [],
   "source": [
    "Ns=X_padded.shape[1]\n",
    "Nd=Y_padded_label.shape[1]"
   ]
  },
  {
   "cell_type": "code",
   "execution_count": 37,
   "metadata": {
    "execution": {
     "iopub.execute_input": "2025-09-22T09:21:40.944308Z",
     "iopub.status.busy": "2025-09-22T09:21:40.944110Z",
     "iopub.status.idle": "2025-09-22T09:21:40.958798Z",
     "shell.execute_reply": "2025-09-22T09:21:40.958242Z",
     "shell.execute_reply.started": "2025-09-22T09:21:40.944289Z"
    },
    "trusted": true
   },
   "outputs": [
    {
     "data": {
      "text/plain": [
       "68"
      ]
     },
     "execution_count": 37,
     "metadata": {},
     "output_type": "execute_result"
    }
   ],
   "source": [
    "Ns"
   ]
  },
  {
   "cell_type": "code",
   "execution_count": 38,
   "metadata": {
    "execution": {
     "iopub.execute_input": "2025-09-22T09:21:40.959810Z",
     "iopub.status.busy": "2025-09-22T09:21:40.959529Z",
     "iopub.status.idle": "2025-09-22T09:21:40.971494Z",
     "shell.execute_reply": "2025-09-22T09:21:40.970792Z",
     "shell.execute_reply.started": "2025-09-22T09:21:40.959784Z"
    },
    "trusted": true
   },
   "outputs": [
    {
     "data": {
      "text/plain": [
       "68"
      ]
     },
     "execution_count": 38,
     "metadata": {},
     "output_type": "execute_result"
    }
   ],
   "source": [
    "Nd"
   ]
  },
  {
   "cell_type": "code",
   "execution_count": 39,
   "metadata": {
    "execution": {
     "iopub.execute_input": "2025-09-22T09:21:40.972521Z",
     "iopub.status.busy": "2025-09-22T09:21:40.972269Z",
     "iopub.status.idle": "2025-09-22T09:21:40.983761Z",
     "shell.execute_reply": "2025-09-22T09:21:40.983272Z",
     "shell.execute_reply.started": "2025-09-22T09:21:40.972499Z"
    },
    "trusted": true
   },
   "outputs": [],
   "source": [
    "class Encoder(torch.nn.Module):\n",
    "    def __init__(self,src_lang_vocab_size,word_embedding_dim):\n",
    "        super(Encoder,self).__init__()\n",
    "        self.first_embedding_layer=torch.nn.Embedding(num_embeddings=src_lang_vocab_size, embedding_dim=word_embedding_dim)\n",
    "        self.second_lstm_layer=torch.nn.LSTM(input_size=word_embedding_dim,hidden_size=word_embedding_dim,batch_first=True)\n",
    "\n",
    "\n",
    "    def forward(self,X_padded_mini_batch):\n",
    "        first_embedding_layer_out=self.first_embedding_layer(X_padded_mini_batch)\n",
    "        encoder_output,(final_encoder_output,final_cell_state)=self.second_lstm_layer(first_embedding_layer_out)\n",
    "        return encoder_output,(final_encoder_output,final_cell_state)"
   ]
  },
  {
   "cell_type": "code",
   "execution_count": 40,
   "metadata": {
    "execution": {
     "iopub.execute_input": "2025-09-22T09:21:40.984729Z",
     "iopub.status.busy": "2025-09-22T09:21:40.984497Z",
     "iopub.status.idle": "2025-09-22T09:21:40.997657Z",
     "shell.execute_reply": "2025-09-22T09:21:40.997107Z",
     "shell.execute_reply.started": "2025-09-22T09:21:40.984708Z"
    },
    "trusted": true
   },
   "outputs": [],
   "source": [
    "class Decoder(torch.nn.Module):\n",
    "    def __init__(self,dest_lang_vocab_size,word_embedding_dim):\n",
    "        super(Decoder,self).__init__()\n",
    "        self.first_embedding_layer=torch.nn.Embedding(num_embeddings=dest_lang_vocab_size, embedding_dim=word_embedding_dim)\n",
    "        self.second_lstm_layer=torch.nn.LSTM(input_size=word_embedding_dim,hidden_size=word_embedding_dim,batch_first=True)\n",
    "\n",
    "        self.prediction_layer=torch.nn.Linear(in_features=word_embedding_dim,out_features=dest_lang_vocab_size)\n",
    "        # self.prediction_layer_activation=torch.nn.Softmax(dim=2)\n",
    "\n",
    "    def forward(self,Y_padded_input_mini_batch,final_encoder_output,final_cell_state):\n",
    "        first_embedding_layer_out=self.first_embedding_layer(Y_padded_input_mini_batch)\n",
    "        decoder_lstm_layer_out,(final_decoder_lstm_layer_out,final_cell_state)=self.second_lstm_layer(first_embedding_layer_out,\n",
    "                                                                                                     (final_encoder_output,\n",
    "                                                                                                     final_cell_state))\n",
    "        prediction=self.prediction_layer(decoder_lstm_layer_out)\n",
    "        return prediction, (final_decoder_lstm_layer_out,final_cell_state)"
   ]
  },
  {
   "cell_type": "code",
   "execution_count": 41,
   "metadata": {
    "execution": {
     "iopub.execute_input": "2025-09-22T09:21:41.001351Z",
     "iopub.status.busy": "2025-09-22T09:21:41.001117Z",
     "iopub.status.idle": "2025-09-22T09:21:41.016799Z",
     "shell.execute_reply": "2025-09-22T09:21:41.016087Z",
     "shell.execute_reply.started": "2025-09-22T09:21:41.001329Z"
    },
    "trusted": true
   },
   "outputs": [],
   "source": [
    "class Seq2SeqEncDec(torch.nn.Module):\n",
    "    def __init__(self,src_lang_vocab_size,dest_lang_vocab_size,word_embedding_dim):\n",
    "        super(Seq2SeqEncDec,self).__init__()\n",
    "\n",
    "        self.encoder=Encoder(src_lang_vocab_size,word_embedding_dim)\n",
    "        self.decoder=Decoder(dest_lang_vocab_size,word_embedding_dim)\n",
    "\n",
    "    def forward(self,X_padded_mini_batch,Y_padded_input_mini_batch):\n",
    "        encoder_output,(final_encoder_output,final_cell_state)=self.encoder(X_padded_mini_batch)\n",
    "        y_hat_mini_batch=self.decoder(Y_padded_input_mini_batch,final_encoder_output,final_cell_state)\n",
    "\n",
    "        return y_hat_mini_batch"
   ]
  },
  {
   "cell_type": "code",
   "execution_count": 42,
   "metadata": {
    "execution": {
     "iopub.execute_input": "2025-09-22T09:21:41.017715Z",
     "iopub.status.busy": "2025-09-22T09:21:41.017521Z",
     "iopub.status.idle": "2025-09-22T09:21:41.076400Z",
     "shell.execute_reply": "2025-09-22T09:21:41.075673Z",
     "shell.execute_reply.started": "2025-09-22T09:21:41.017694Z"
    },
    "trusted": true
   },
   "outputs": [
    {
     "name": "stdout",
     "output_type": "stream",
     "text": [
      "cuda\n"
     ]
    }
   ],
   "source": [
    "if torch.cuda.is_available():\n",
    "    device=torch.device(\"cuda\")\n",
    "else:\n",
    "    device=torch.device(\"cpu\")\n",
    "print(device)"
   ]
  },
  {
   "cell_type": "code",
   "execution_count": 43,
   "metadata": {
    "execution": {
     "iopub.execute_input": "2025-09-22T09:21:41.077387Z",
     "iopub.status.busy": "2025-09-22T09:21:41.077173Z",
     "iopub.status.idle": "2025-09-22T09:21:41.090078Z",
     "shell.execute_reply": "2025-09-22T09:21:41.089523Z",
     "shell.execute_reply.started": "2025-09-22T09:21:41.077373Z"
    },
    "trusted": true
   },
   "outputs": [],
   "source": [
    "X_padded_train=X_padded[0:13000]\n",
    "Y_padded_input_train=Y_padded_input[0:13000]\n",
    "Y_padded_label_train=Y_padded_label[0:13000]\n",
    "\n",
    "X_padded_test=X_padded[13000:]\n",
    "Y_padded_input_test=Y_padded_input[13000:]\n",
    "Y_padded_label_test=Y_padded_label[13000:]\n"
   ]
  },
  {
   "cell_type": "code",
   "execution_count": 44,
   "metadata": {
    "execution": {
     "iopub.execute_input": "2025-09-22T09:21:41.090854Z",
     "iopub.status.busy": "2025-09-22T09:21:41.090688Z",
     "iopub.status.idle": "2025-09-22T09:43:03.922403Z",
     "shell.execute_reply": "2025-09-22T09:43:03.921558Z",
     "shell.execute_reply.started": "2025-09-22T09:21:41.090840Z"
    },
    "trusted": true
   },
   "outputs": [
    {
     "name": "stdout",
     "output_type": "stream",
     "text": [
      "i # 0, Time Step # 199, Loss Value = 4.917413711547852\n",
      "i # 1, Time Step # 199, Loss Value = 4.613677978515625\n",
      "i # 2, Time Step # 199, Loss Value = 4.409133434295654\n",
      "i # 3, Time Step # 199, Loss Value = 4.227604389190674\n",
      "i # 4, Time Step # 199, Loss Value = 4.073513507843018\n",
      "i # 5, Time Step # 199, Loss Value = 3.9372286796569824\n",
      "i # 6, Time Step # 199, Loss Value = 3.817857503890991\n",
      "i # 7, Time Step # 199, Loss Value = 3.709331512451172\n",
      "i # 8, Time Step # 199, Loss Value = 3.59694242477417\n",
      "i # 9, Time Step # 199, Loss Value = 3.494412422180176\n",
      "i # 10, Time Step # 199, Loss Value = 3.3921124935150146\n",
      "i # 11, Time Step # 199, Loss Value = 3.2939774990081787\n",
      "i # 12, Time Step # 199, Loss Value = 3.19881010055542\n",
      "i # 13, Time Step # 199, Loss Value = 3.1056652069091797\n",
      "i # 14, Time Step # 199, Loss Value = 3.0185515880584717\n",
      "i # 15, Time Step # 199, Loss Value = 2.9284629821777344\n",
      "i # 16, Time Step # 199, Loss Value = 2.846647262573242\n",
      "i # 17, Time Step # 199, Loss Value = 2.7701423168182373\n",
      "i # 18, Time Step # 199, Loss Value = 2.706474781036377\n",
      "i # 19, Time Step # 199, Loss Value = 2.6424059867858887\n",
      "i # 20, Time Step # 199, Loss Value = 2.573822498321533\n",
      "i # 21, Time Step # 199, Loss Value = 2.509324073791504\n",
      "i # 22, Time Step # 199, Loss Value = 2.4514083862304688\n",
      "i # 23, Time Step # 199, Loss Value = 2.3951938152313232\n",
      "i # 24, Time Step # 199, Loss Value = 2.3321075439453125\n",
      "i # 25, Time Step # 199, Loss Value = 2.277059316635132\n",
      "i # 26, Time Step # 199, Loss Value = 2.2274904251098633\n",
      "i # 27, Time Step # 199, Loss Value = 2.1871652603149414\n",
      "i # 28, Time Step # 199, Loss Value = 2.148690938949585\n",
      "i # 29, Time Step # 199, Loss Value = 2.10414457321167\n",
      "i # 30, Time Step # 199, Loss Value = 2.058260917663574\n",
      "i # 31, Time Step # 199, Loss Value = 2.0179531574249268\n",
      "i # 32, Time Step # 199, Loss Value = 1.9798246622085571\n",
      "i # 33, Time Step # 199, Loss Value = 1.9423035383224487\n",
      "i # 34, Time Step # 199, Loss Value = 1.9084633588790894\n",
      "i # 35, Time Step # 199, Loss Value = 1.8604344129562378\n",
      "i # 36, Time Step # 199, Loss Value = 1.812343955039978\n",
      "i # 37, Time Step # 199, Loss Value = 1.7853150367736816\n",
      "i # 38, Time Step # 199, Loss Value = 1.7347595691680908\n",
      "i # 39, Time Step # 199, Loss Value = 1.7082754373550415\n",
      "i # 40, Time Step # 199, Loss Value = 1.6725581884384155\n",
      "i # 41, Time Step # 199, Loss Value = 1.6427310705184937\n",
      "i # 42, Time Step # 199, Loss Value = 1.601361632347107\n",
      "i # 43, Time Step # 199, Loss Value = 1.5719181299209595\n",
      "i # 44, Time Step # 199, Loss Value = 1.526108980178833\n",
      "i # 45, Time Step # 199, Loss Value = 1.4958068132400513\n",
      "i # 46, Time Step # 199, Loss Value = 1.4846388101577759\n",
      "i # 47, Time Step # 199, Loss Value = 1.4623184204101562\n",
      "i # 48, Time Step # 199, Loss Value = 1.407239317893982\n",
      "i # 49, Time Step # 199, Loss Value = 1.3832335472106934\n",
      "i # 50, Time Step # 199, Loss Value = 1.3716511726379395\n",
      "i # 51, Time Step # 199, Loss Value = 1.3171522617340088\n",
      "i # 52, Time Step # 199, Loss Value = 1.2856898307800293\n",
      "i # 53, Time Step # 199, Loss Value = 1.2634389400482178\n",
      "i # 54, Time Step # 199, Loss Value = 1.2501037120819092\n",
      "i # 55, Time Step # 199, Loss Value = 1.24978768825531\n",
      "i # 56, Time Step # 199, Loss Value = 1.2153077125549316\n",
      "i # 57, Time Step # 199, Loss Value = 1.194131851196289\n",
      "i # 58, Time Step # 199, Loss Value = 1.1745387315750122\n",
      "i # 59, Time Step # 199, Loss Value = 1.1727174520492554\n",
      "i # 60, Time Step # 199, Loss Value = 1.1487395763397217\n",
      "i # 61, Time Step # 199, Loss Value = 1.1299047470092773\n",
      "i # 62, Time Step # 199, Loss Value = 1.107938289642334\n",
      "i # 63, Time Step # 199, Loss Value = 1.1070756912231445\n",
      "i # 64, Time Step # 199, Loss Value = 1.0973920822143555\n",
      "i # 65, Time Step # 199, Loss Value = 1.0551576614379883\n",
      "i # 66, Time Step # 199, Loss Value = 1.0352336168289185\n",
      "i # 67, Time Step # 199, Loss Value = 1.0118557214736938\n",
      "i # 68, Time Step # 199, Loss Value = 1.0129716396331787\n",
      "i # 69, Time Step # 199, Loss Value = 0.9902694225311279\n",
      "i # 70, Time Step # 199, Loss Value = 0.9608212113380432\n",
      "i # 71, Time Step # 199, Loss Value = 0.946923553943634\n",
      "i # 72, Time Step # 199, Loss Value = 0.9241939783096313\n",
      "i # 73, Time Step # 199, Loss Value = 0.9120141267776489\n",
      "i # 74, Time Step # 199, Loss Value = 0.9044793844223022\n",
      "i # 75, Time Step # 199, Loss Value = 0.8841220140457153\n",
      "i # 76, Time Step # 199, Loss Value = 0.862185537815094\n",
      "i # 77, Time Step # 199, Loss Value = 0.8632093071937561\n",
      "i # 78, Time Step # 199, Loss Value = 0.8383973836898804\n",
      "i # 79, Time Step # 199, Loss Value = 0.8320212960243225\n",
      "i # 80, Time Step # 199, Loss Value = 0.8290532231330872\n",
      "i # 81, Time Step # 199, Loss Value = 0.823516845703125\n",
      "i # 82, Time Step # 199, Loss Value = 0.797459602355957\n",
      "i # 83, Time Step # 199, Loss Value = 0.8000851273536682\n",
      "i # 84, Time Step # 199, Loss Value = 0.807169497013092\n",
      "i # 85, Time Step # 199, Loss Value = 0.8129494190216064\n",
      "i # 86, Time Step # 199, Loss Value = 0.7824369072914124\n",
      "i # 87, Time Step # 199, Loss Value = 0.7720557451248169\n",
      "i # 88, Time Step # 199, Loss Value = 0.7529991865158081\n",
      "i # 89, Time Step # 199, Loss Value = 0.7585238218307495\n",
      "i # 90, Time Step # 199, Loss Value = 0.7417964339256287\n",
      "i # 91, Time Step # 199, Loss Value = 0.7241894602775574\n",
      "i # 92, Time Step # 199, Loss Value = 0.7103052735328674\n",
      "i # 93, Time Step # 199, Loss Value = 0.6898326277732849\n",
      "i # 94, Time Step # 199, Loss Value = 0.6779537200927734\n",
      "i # 95, Time Step # 199, Loss Value = 0.6770740151405334\n",
      "i # 96, Time Step # 199, Loss Value = 0.6747264266014099\n",
      "i # 97, Time Step # 199, Loss Value = 0.6780211329460144\n",
      "i # 98, Time Step # 199, Loss Value = 0.6502196192741394\n",
      "i # 99, Time Step # 199, Loss Value = 0.6489099860191345\n",
      "i # 100, Time Step # 199, Loss Value = 0.6307089924812317\n",
      "i # 101, Time Step # 199, Loss Value = 0.6341332793235779\n",
      "i # 102, Time Step # 199, Loss Value = 0.6245030760765076\n",
      "i # 103, Time Step # 199, Loss Value = 0.6346675157546997\n",
      "i # 104, Time Step # 199, Loss Value = 0.614273190498352\n",
      "i # 105, Time Step # 199, Loss Value = 0.6131299734115601\n",
      "i # 106, Time Step # 199, Loss Value = 0.5971998572349548\n",
      "i # 107, Time Step # 199, Loss Value = 0.5815920233726501\n",
      "i # 108, Time Step # 199, Loss Value = 0.5733181834220886\n",
      "i # 109, Time Step # 199, Loss Value = 0.556412935256958\n",
      "i # 110, Time Step # 199, Loss Value = 0.5482965111732483\n",
      "i # 111, Time Step # 199, Loss Value = 0.5444697737693787\n",
      "i # 112, Time Step # 199, Loss Value = 0.5404950976371765\n",
      "i # 113, Time Step # 199, Loss Value = 0.5489723682403564\n",
      "i # 114, Time Step # 199, Loss Value = 0.5327519178390503\n",
      "i # 115, Time Step # 199, Loss Value = 0.5270984768867493\n",
      "i # 116, Time Step # 199, Loss Value = 0.5251093506813049\n",
      "i # 117, Time Step # 199, Loss Value = 0.5280764102935791\n",
      "i # 118, Time Step # 199, Loss Value = 0.5139399170875549\n",
      "i # 119, Time Step # 199, Loss Value = 0.4978814125061035\n",
      "i # 120, Time Step # 199, Loss Value = 0.4853709042072296\n",
      "i # 121, Time Step # 199, Loss Value = 0.49202653765678406\n",
      "i # 122, Time Step # 199, Loss Value = 0.4882652461528778\n",
      "i # 123, Time Step # 199, Loss Value = 0.4712335765361786\n",
      "i # 124, Time Step # 199, Loss Value = 0.4768373966217041\n",
      "i # 125, Time Step # 199, Loss Value = 0.46577736735343933\n",
      "i # 126, Time Step # 199, Loss Value = 0.44830626249313354\n",
      "i # 127, Time Step # 199, Loss Value = 0.4429125487804413\n",
      "i # 128, Time Step # 199, Loss Value = 0.4460362493991852\n",
      "i # 129, Time Step # 199, Loss Value = 0.4368759095668793\n",
      "i # 130, Time Step # 199, Loss Value = 0.44919514656066895\n",
      "i # 131, Time Step # 199, Loss Value = 0.42208579182624817\n",
      "i # 132, Time Step # 199, Loss Value = 0.43046048283576965\n",
      "i # 133, Time Step # 199, Loss Value = 0.42601534724235535\n",
      "i # 134, Time Step # 199, Loss Value = 0.4208570122718811\n",
      "i # 135, Time Step # 199, Loss Value = 0.42085886001586914\n",
      "i # 136, Time Step # 199, Loss Value = 0.40089544653892517\n",
      "i # 137, Time Step # 199, Loss Value = 0.40370798110961914\n",
      "i # 138, Time Step # 199, Loss Value = 0.4139775335788727\n",
      "i # 139, Time Step # 199, Loss Value = 0.4062517583370209\n",
      "i # 140, Time Step # 199, Loss Value = 0.3907308578491211\n",
      "i # 141, Time Step # 199, Loss Value = 0.3709946870803833\n",
      "i # 142, Time Step # 199, Loss Value = 0.36581292748451233\n",
      "i # 143, Time Step # 199, Loss Value = 0.362175315618515\n",
      "i # 144, Time Step # 199, Loss Value = 0.3643353283405304\n",
      "i # 145, Time Step # 199, Loss Value = 0.3715556859970093\n",
      "i # 146, Time Step # 199, Loss Value = 0.3556859791278839\n",
      "i # 147, Time Step # 199, Loss Value = 0.3428446352481842\n",
      "i # 148, Time Step # 199, Loss Value = 0.35463911294937134\n",
      "i # 149, Time Step # 199, Loss Value = 0.3411620557308197\n",
      "i # 150, Time Step # 199, Loss Value = 0.3541531562805176\n",
      "i # 151, Time Step # 199, Loss Value = 0.34093502163887024\n",
      "i # 152, Time Step # 199, Loss Value = 0.3358372151851654\n",
      "i # 153, Time Step # 199, Loss Value = 0.32580721378326416\n",
      "i # 154, Time Step # 199, Loss Value = 0.3412316143512726\n",
      "i # 155, Time Step # 199, Loss Value = 0.33129048347473145\n",
      "i # 156, Time Step # 199, Loss Value = 0.34044864773750305\n",
      "i # 157, Time Step # 199, Loss Value = 0.33757734298706055\n",
      "i # 158, Time Step # 199, Loss Value = 0.34887945652008057\n",
      "i # 159, Time Step # 199, Loss Value = 0.3155747056007385\n",
      "i # 160, Time Step # 199, Loss Value = 0.3119797706604004\n",
      "i # 161, Time Step # 199, Loss Value = 0.29468727111816406\n",
      "i # 162, Time Step # 199, Loss Value = 0.2996107041835785\n",
      "i # 163, Time Step # 199, Loss Value = 0.30431118607521057\n",
      "i # 164, Time Step # 199, Loss Value = 0.3125113248825073\n",
      "i # 165, Time Step # 199, Loss Value = 0.2959209680557251\n",
      "i # 166, Time Step # 199, Loss Value = 0.2871217131614685\n",
      "i # 167, Time Step # 199, Loss Value = 0.28829267621040344\n",
      "i # 168, Time Step # 199, Loss Value = 0.2805282473564148\n",
      "i # 169, Time Step # 199, Loss Value = 0.2627291977405548\n",
      "i # 170, Time Step # 199, Loss Value = 0.2630055248737335\n",
      "i # 171, Time Step # 199, Loss Value = 0.28157177567481995\n",
      "i # 172, Time Step # 199, Loss Value = 0.31039321422576904\n",
      "i # 173, Time Step # 199, Loss Value = 0.2848970592021942\n",
      "i # 174, Time Step # 199, Loss Value = 0.27989572286605835\n",
      "i # 175, Time Step # 199, Loss Value = 0.2441798448562622\n",
      "i # 176, Time Step # 199, Loss Value = 0.2396797239780426\n",
      "i # 177, Time Step # 199, Loss Value = 0.2426014244556427\n",
      "i # 178, Time Step # 199, Loss Value = 0.22805115580558777\n",
      "i # 179, Time Step # 199, Loss Value = 0.22160941362380981\n",
      "i # 180, Time Step # 199, Loss Value = 0.2173745483160019\n",
      "i # 181, Time Step # 199, Loss Value = 0.2210712730884552\n",
      "i # 182, Time Step # 199, Loss Value = 0.22459344565868378\n",
      "i # 183, Time Step # 199, Loss Value = 0.24246397614479065\n",
      "i # 184, Time Step # 199, Loss Value = 0.2227879911661148\n",
      "i # 185, Time Step # 199, Loss Value = 0.2248382866382599\n",
      "i # 186, Time Step # 199, Loss Value = 0.21541783213615417\n",
      "i # 187, Time Step # 199, Loss Value = 0.21805620193481445\n",
      "i # 188, Time Step # 199, Loss Value = 0.20331838726997375\n",
      "i # 189, Time Step # 199, Loss Value = 0.20306962728500366\n",
      "i # 190, Time Step # 199, Loss Value = 0.1900302916765213\n",
      "i # 191, Time Step # 199, Loss Value = 0.19485163688659668\n",
      "i # 192, Time Step # 199, Loss Value = 0.19420626759529114\n",
      "i # 193, Time Step # 199, Loss Value = 0.18574561178684235\n",
      "i # 194, Time Step # 199, Loss Value = 0.18267381191253662\n",
      "i # 195, Time Step # 199, Loss Value = 0.1737688034772873\n",
      "i # 196, Time Step # 199, Loss Value = 0.16990014910697937\n",
      "i # 197, Time Step # 199, Loss Value = 0.18186187744140625\n",
      "i # 198, Time Step # 199, Loss Value = 0.17108508944511414\n",
      "i # 199, Time Step # 199, Loss Value = 0.17972026765346527\n",
      "i # 200, Time Step # 199, Loss Value = 0.1623096615076065\n",
      "i # 201, Time Step # 199, Loss Value = 0.16638684272766113\n",
      "i # 202, Time Step # 199, Loss Value = 0.15349437296390533\n",
      "i # 203, Time Step # 199, Loss Value = 0.18411529064178467\n",
      "i # 204, Time Step # 199, Loss Value = 0.17541150748729706\n",
      "i # 205, Time Step # 199, Loss Value = 0.17009951174259186\n",
      "i # 206, Time Step # 199, Loss Value = 0.1740003079175949\n",
      "i # 207, Time Step # 199, Loss Value = 0.15800942480564117\n",
      "i # 208, Time Step # 199, Loss Value = 0.1613178551197052\n",
      "i # 209, Time Step # 199, Loss Value = 0.18667253851890564\n",
      "i # 210, Time Step # 199, Loss Value = 0.1513480842113495\n",
      "i # 211, Time Step # 199, Loss Value = 0.15406443178653717\n",
      "i # 212, Time Step # 199, Loss Value = 0.144795760512352\n",
      "i # 213, Time Step # 199, Loss Value = 0.1348883956670761\n",
      "i # 214, Time Step # 199, Loss Value = 0.13139121234416962\n",
      "i # 215, Time Step # 199, Loss Value = 0.12378615885972977\n",
      "i # 216, Time Step # 199, Loss Value = 0.13338953256607056\n",
      "i # 217, Time Step # 199, Loss Value = 0.13075312972068787\n",
      "i # 218, Time Step # 199, Loss Value = 0.133760005235672\n",
      "i # 219, Time Step # 199, Loss Value = 0.13280192017555237\n",
      "i # 220, Time Step # 199, Loss Value = 0.1904170662164688\n",
      "i # 221, Time Step # 199, Loss Value = 0.15447232127189636\n",
      "i # 222, Time Step # 199, Loss Value = 0.13870616257190704\n",
      "i # 223, Time Step # 199, Loss Value = 0.12000875174999237\n",
      "i # 224, Time Step # 199, Loss Value = 0.10354075580835342\n",
      "i # 225, Time Step # 199, Loss Value = 0.10158407688140869\n",
      "i # 226, Time Step # 199, Loss Value = 0.09727019816637039\n",
      "i # 227, Time Step # 199, Loss Value = 0.09924130141735077\n",
      "i # 228, Time Step # 199, Loss Value = 0.09691344201564789\n",
      "i # 229, Time Step # 199, Loss Value = 0.09401752054691315\n",
      "i # 230, Time Step # 199, Loss Value = 0.10960064828395844\n",
      "i # 231, Time Step # 199, Loss Value = 0.12102371454238892\n",
      "i # 232, Time Step # 199, Loss Value = 0.13393011689186096\n",
      "i # 233, Time Step # 199, Loss Value = 0.16426239907741547\n",
      "i # 234, Time Step # 199, Loss Value = 0.14904895424842834\n",
      "i # 235, Time Step # 199, Loss Value = 0.1228291317820549\n",
      "i # 236, Time Step # 199, Loss Value = 0.10499484091997147\n",
      "i # 237, Time Step # 199, Loss Value = 0.09883352369070053\n",
      "i # 238, Time Step # 199, Loss Value = 0.09351692348718643\n",
      "i # 239, Time Step # 199, Loss Value = 0.09827103465795517\n",
      "i # 240, Time Step # 199, Loss Value = 0.0849517360329628\n",
      "i # 241, Time Step # 199, Loss Value = 0.08412296324968338\n",
      "i # 242, Time Step # 199, Loss Value = 0.08330422639846802\n",
      "i # 243, Time Step # 199, Loss Value = 0.10494782775640488\n",
      "i # 244, Time Step # 199, Loss Value = 0.11795198172330856\n",
      "i # 245, Time Step # 199, Loss Value = 0.130193829536438\n",
      "i # 246, Time Step # 199, Loss Value = 0.1805528849363327\n",
      "i # 247, Time Step # 199, Loss Value = 0.16642408072948456\n",
      "i # 248, Time Step # 199, Loss Value = 0.12687310576438904\n",
      "i # 249, Time Step # 199, Loss Value = 0.10253201425075531\n",
      "i # 250, Time Step # 199, Loss Value = 0.09567732363939285\n",
      "i # 251, Time Step # 199, Loss Value = 0.08821020275354385\n",
      "i # 252, Time Step # 199, Loss Value = 0.07427731156349182\n",
      "i # 253, Time Step # 199, Loss Value = 0.07244841009378433\n",
      "i # 254, Time Step # 199, Loss Value = 0.07739672064781189\n",
      "i # 255, Time Step # 199, Loss Value = 0.07733946293592453\n",
      "i # 256, Time Step # 199, Loss Value = 0.09106816351413727\n",
      "i # 257, Time Step # 199, Loss Value = 0.10849931091070175\n",
      "i # 258, Time Step # 199, Loss Value = 0.12192539870738983\n",
      "i # 259, Time Step # 199, Loss Value = 0.10545913875102997\n",
      "i # 260, Time Step # 199, Loss Value = 0.12610167264938354\n",
      "i # 261, Time Step # 199, Loss Value = 0.13137149810791016\n",
      "i # 262, Time Step # 199, Loss Value = 0.09083358943462372\n",
      "i # 263, Time Step # 199, Loss Value = 0.0794965997338295\n",
      "i # 264, Time Step # 199, Loss Value = 0.06561969965696335\n",
      "i # 265, Time Step # 199, Loss Value = 0.06441045552492142\n",
      "i # 266, Time Step # 199, Loss Value = 0.06518808752298355\n",
      "i # 267, Time Step # 199, Loss Value = 0.061561405658721924\n",
      "i # 268, Time Step # 199, Loss Value = 0.061535824090242386\n",
      "i # 269, Time Step # 199, Loss Value = 0.06328922510147095\n",
      "i # 270, Time Step # 199, Loss Value = 0.07690728455781937\n",
      "i # 271, Time Step # 199, Loss Value = 0.08181971311569214\n",
      "i # 272, Time Step # 199, Loss Value = 0.1485702395439148\n",
      "i # 273, Time Step # 199, Loss Value = 0.09239386022090912\n",
      "i # 274, Time Step # 199, Loss Value = 0.11328195780515671\n",
      "i # 275, Time Step # 199, Loss Value = 0.10646578669548035\n",
      "i # 276, Time Step # 199, Loss Value = 0.08235055208206177\n",
      "i # 277, Time Step # 199, Loss Value = 0.05941660329699516\n",
      "i # 278, Time Step # 199, Loss Value = 0.06340088695287704\n",
      "i # 279, Time Step # 199, Loss Value = 0.05321553722023964\n",
      "i # 280, Time Step # 199, Loss Value = 0.04444361850619316\n",
      "i # 281, Time Step # 199, Loss Value = 0.043398451060056686\n",
      "i # 282, Time Step # 199, Loss Value = 0.04326218366622925\n",
      "i # 283, Time Step # 199, Loss Value = 0.05010763555765152\n",
      "i # 284, Time Step # 199, Loss Value = 0.05239919200539589\n",
      "i # 285, Time Step # 199, Loss Value = 0.06505200266838074\n",
      "i # 286, Time Step # 199, Loss Value = 0.0776015967130661\n",
      "i # 287, Time Step # 199, Loss Value = 0.11391996592283249\n",
      "i # 288, Time Step # 199, Loss Value = 0.12078814953565598\n",
      "i # 289, Time Step # 199, Loss Value = 0.08339688926935196\n",
      "i # 290, Time Step # 199, Loss Value = 0.052817974239587784\n",
      "i # 291, Time Step # 199, Loss Value = 0.04582463204860687\n",
      "i # 292, Time Step # 199, Loss Value = 0.04755061864852905\n",
      "i # 293, Time Step # 199, Loss Value = 0.04757121205329895\n",
      "i # 294, Time Step # 199, Loss Value = 0.05240856856107712\n",
      "i # 295, Time Step # 199, Loss Value = 0.04208928346633911\n",
      "i # 296, Time Step # 199, Loss Value = 0.04047790914773941\n",
      "i # 297, Time Step # 199, Loss Value = 0.03634732961654663\n",
      "i # 298, Time Step # 199, Loss Value = 0.04336697235703468\n",
      "i # 299, Time Step # 199, Loss Value = 0.06051421910524368\n",
      "i # 300, Time Step # 199, Loss Value = 0.07310239970684052\n",
      "i # 301, Time Step # 199, Loss Value = 0.11354350298643112\n",
      "i # 302, Time Step # 199, Loss Value = 0.07940997183322906\n",
      "i # 303, Time Step # 199, Loss Value = 0.08941300958395004\n",
      "i # 304, Time Step # 199, Loss Value = 0.06178110092878342\n",
      "i # 305, Time Step # 199, Loss Value = 0.05022945627570152\n",
      "i # 306, Time Step # 199, Loss Value = 0.046838365495204926\n",
      "i # 307, Time Step # 199, Loss Value = 0.046024635434150696\n",
      "i # 308, Time Step # 199, Loss Value = 0.03638467192649841\n",
      "i # 309, Time Step # 199, Loss Value = 0.03699743375182152\n",
      "i # 310, Time Step # 199, Loss Value = 0.03548192232847214\n",
      "i # 311, Time Step # 199, Loss Value = 0.03917918726801872\n",
      "i # 312, Time Step # 199, Loss Value = 0.03951547294855118\n",
      "i # 313, Time Step # 199, Loss Value = 0.03694767877459526\n",
      "i # 314, Time Step # 199, Loss Value = 0.04680021107196808\n",
      "i # 315, Time Step # 199, Loss Value = 0.07330773025751114\n",
      "i # 316, Time Step # 199, Loss Value = 0.10752671957015991\n",
      "i # 317, Time Step # 199, Loss Value = 0.09620068222284317\n",
      "i # 318, Time Step # 199, Loss Value = 0.0697995275259018\n",
      "i # 319, Time Step # 199, Loss Value = 0.11052323877811432\n",
      "i # 320, Time Step # 199, Loss Value = 0.10989225655794144\n",
      "i # 321, Time Step # 199, Loss Value = 0.05275562405586243\n",
      "i # 322, Time Step # 199, Loss Value = 0.04469913989305496\n",
      "i # 323, Time Step # 199, Loss Value = 0.0368630588054657\n",
      "i # 324, Time Step # 199, Loss Value = 0.03392470255494118\n",
      "i # 325, Time Step # 199, Loss Value = 0.03233250975608826\n",
      "i # 326, Time Step # 199, Loss Value = 0.0397990345954895\n",
      "i # 327, Time Step # 199, Loss Value = 0.036184780299663544\n",
      "i # 328, Time Step # 199, Loss Value = 0.036122579127550125\n",
      "i # 329, Time Step # 199, Loss Value = 0.047246720641851425\n",
      "i # 330, Time Step # 199, Loss Value = 0.077971912920475\n",
      "i # 331, Time Step # 199, Loss Value = 0.10952826589345932\n",
      "i # 332, Time Step # 199, Loss Value = 0.10527819395065308\n",
      "i # 333, Time Step # 199, Loss Value = 0.08702493458986282\n",
      "i # 334, Time Step # 199, Loss Value = 0.06354764103889465\n",
      "i # 335, Time Step # 199, Loss Value = 0.03606804087758064\n",
      "i # 336, Time Step # 199, Loss Value = 0.03112711012363434\n",
      "i # 337, Time Step # 199, Loss Value = 0.02664542943239212\n",
      "i # 338, Time Step # 199, Loss Value = 0.025830792263150215\n",
      "i # 339, Time Step # 199, Loss Value = 0.025243185460567474\n",
      "i # 340, Time Step # 199, Loss Value = 0.02567940391600132\n",
      "i # 341, Time Step # 199, Loss Value = 0.02562715671956539\n",
      "i # 342, Time Step # 199, Loss Value = 0.038437094539403915\n",
      "i # 343, Time Step # 199, Loss Value = 0.03998803347349167\n",
      "i # 344, Time Step # 199, Loss Value = 0.043369557708501816\n",
      "i # 345, Time Step # 199, Loss Value = 0.07724197208881378\n",
      "i # 346, Time Step # 199, Loss Value = 0.12269676476716995\n",
      "i # 347, Time Step # 199, Loss Value = 0.09436513483524323\n",
      "i # 348, Time Step # 199, Loss Value = 0.06729768961668015\n",
      "i # 349, Time Step # 199, Loss Value = 0.05426381528377533\n",
      "i # 350, Time Step # 199, Loss Value = 0.036521632224321365\n",
      "i # 351, Time Step # 199, Loss Value = 0.031798794865608215\n",
      "i # 352, Time Step # 199, Loss Value = 0.026179775595664978\n",
      "i # 353, Time Step # 199, Loss Value = 0.023556077852845192\n",
      "i # 354, Time Step # 199, Loss Value = 0.024035250768065453\n",
      "i # 355, Time Step # 199, Loss Value = 0.0269289780408144\n",
      "i # 356, Time Step # 199, Loss Value = 0.024117767810821533\n",
      "i # 357, Time Step # 199, Loss Value = 0.03587101772427559\n",
      "i # 358, Time Step # 199, Loss Value = 0.03396673500537872\n",
      "i # 359, Time Step # 199, Loss Value = 0.04778039827942848\n",
      "i # 360, Time Step # 199, Loss Value = 0.08306855708360672\n",
      "i # 361, Time Step # 199, Loss Value = 0.09727002680301666\n",
      "i # 362, Time Step # 199, Loss Value = 0.07297208160161972\n",
      "i # 363, Time Step # 199, Loss Value = 0.052080292254686356\n",
      "i # 364, Time Step # 199, Loss Value = 0.032634951174259186\n",
      "i # 365, Time Step # 199, Loss Value = 0.031012464314699173\n",
      "i # 366, Time Step # 199, Loss Value = 0.03180171176791191\n",
      "i # 367, Time Step # 199, Loss Value = 0.025372300297021866\n",
      "i # 368, Time Step # 199, Loss Value = 0.02373172901570797\n",
      "i # 369, Time Step # 199, Loss Value = 0.025286467745900154\n",
      "i # 370, Time Step # 199, Loss Value = 0.025413092225790024\n",
      "i # 371, Time Step # 199, Loss Value = 0.027712218463420868\n",
      "i # 372, Time Step # 199, Loss Value = 0.03303129971027374\n",
      "i # 373, Time Step # 199, Loss Value = 0.03879160434007645\n",
      "i # 374, Time Step # 199, Loss Value = 0.04911916330456734\n",
      "i # 375, Time Step # 199, Loss Value = 0.054264552891254425\n",
      "i # 376, Time Step # 199, Loss Value = 0.08291307091712952\n",
      "i # 377, Time Step # 199, Loss Value = 0.1316552460193634\n",
      "i # 378, Time Step # 199, Loss Value = 0.08006852120161057\n",
      "i # 379, Time Step # 199, Loss Value = 0.045188646763563156\n",
      "i # 380, Time Step # 199, Loss Value = 0.04018593579530716\n",
      "i # 381, Time Step # 199, Loss Value = 0.028643235564231873\n",
      "i # 382, Time Step # 199, Loss Value = 0.028595609590411186\n",
      "i # 383, Time Step # 199, Loss Value = 0.0321006141602993\n",
      "i # 384, Time Step # 199, Loss Value = 0.02966567501425743\n",
      "i # 385, Time Step # 199, Loss Value = 0.028601640835404396\n",
      "i # 386, Time Step # 199, Loss Value = 0.03503219038248062\n",
      "i # 387, Time Step # 199, Loss Value = 0.027424030005931854\n",
      "i # 388, Time Step # 199, Loss Value = 0.030727211385965347\n",
      "i # 389, Time Step # 199, Loss Value = 0.030713718384504318\n",
      "i # 390, Time Step # 199, Loss Value = 0.04299073666334152\n",
      "i # 391, Time Step # 199, Loss Value = 0.06413878500461578\n",
      "i # 392, Time Step # 199, Loss Value = 0.09616521000862122\n",
      "i # 393, Time Step # 199, Loss Value = 0.09063886851072311\n",
      "i # 394, Time Step # 199, Loss Value = 0.04340681433677673\n",
      "i # 395, Time Step # 199, Loss Value = 0.03715287521481514\n",
      "i # 396, Time Step # 199, Loss Value = 0.02526337094604969\n",
      "i # 397, Time Step # 199, Loss Value = 0.019912460818886757\n",
      "i # 398, Time Step # 199, Loss Value = 0.018967565149068832\n",
      "i # 399, Time Step # 199, Loss Value = 0.018655581399798393\n",
      "i # 400, Time Step # 199, Loss Value = 0.018429039046168327\n",
      "i # 401, Time Step # 199, Loss Value = 0.020671308040618896\n",
      "i # 402, Time Step # 199, Loss Value = 0.02204608917236328\n",
      "i # 403, Time Step # 199, Loss Value = 0.020818062126636505\n",
      "i # 404, Time Step # 199, Loss Value = 0.02376459911465645\n",
      "i # 405, Time Step # 199, Loss Value = 0.029798222705721855\n",
      "i # 406, Time Step # 199, Loss Value = 0.03507835417985916\n",
      "i # 407, Time Step # 199, Loss Value = 0.06382057815790176\n",
      "i # 408, Time Step # 199, Loss Value = 0.0965871661901474\n",
      "i # 409, Time Step # 199, Loss Value = 0.11507341265678406\n",
      "i # 410, Time Step # 199, Loss Value = 0.05821633338928223\n",
      "i # 411, Time Step # 199, Loss Value = 0.038774482905864716\n",
      "i # 412, Time Step # 199, Loss Value = 0.033819276839494705\n",
      "i # 413, Time Step # 199, Loss Value = 0.024698147550225258\n",
      "i # 414, Time Step # 199, Loss Value = 0.021120315417647362\n",
      "i # 415, Time Step # 199, Loss Value = 0.018362337723374367\n",
      "i # 416, Time Step # 199, Loss Value = 0.016682149842381477\n",
      "i # 417, Time Step # 199, Loss Value = 0.018070973455905914\n",
      "i # 418, Time Step # 199, Loss Value = 0.015316224656999111\n",
      "i # 419, Time Step # 199, Loss Value = 0.015244991518557072\n",
      "i # 420, Time Step # 199, Loss Value = 0.01911912113428116\n",
      "i # 421, Time Step # 199, Loss Value = 0.016667351126670837\n",
      "i # 422, Time Step # 199, Loss Value = 0.0316779799759388\n",
      "i # 423, Time Step # 199, Loss Value = 0.03686382621526718\n",
      "i # 424, Time Step # 199, Loss Value = 0.10694395750761032\n",
      "i # 425, Time Step # 199, Loss Value = 0.12502700090408325\n",
      "i # 426, Time Step # 199, Loss Value = 0.09519628435373306\n",
      "i # 427, Time Step # 199, Loss Value = 0.047177210450172424\n",
      "i # 428, Time Step # 199, Loss Value = 0.02752741612493992\n",
      "i # 429, Time Step # 199, Loss Value = 0.022373555228114128\n",
      "i # 430, Time Step # 199, Loss Value = 0.017471008002758026\n",
      "i # 431, Time Step # 199, Loss Value = 0.015360436402261257\n",
      "i # 432, Time Step # 199, Loss Value = 0.018137114122509956\n",
      "i # 433, Time Step # 199, Loss Value = 0.013874099589884281\n",
      "i # 434, Time Step # 199, Loss Value = 0.01340488437563181\n",
      "i # 435, Time Step # 199, Loss Value = 0.013597864657640457\n",
      "i # 436, Time Step # 199, Loss Value = 0.017040086910128593\n",
      "i # 437, Time Step # 199, Loss Value = 0.02124292030930519\n",
      "i # 438, Time Step # 199, Loss Value = 0.04208805412054062\n",
      "i # 439, Time Step # 199, Loss Value = 0.04270395264029503\n",
      "i # 440, Time Step # 199, Loss Value = 0.06662384420633316\n",
      "i # 441, Time Step # 199, Loss Value = 0.08058978617191315\n",
      "i # 442, Time Step # 199, Loss Value = 0.05869091674685478\n",
      "i # 443, Time Step # 199, Loss Value = 0.04284948855638504\n",
      "i # 444, Time Step # 199, Loss Value = 0.02642125077545643\n",
      "i # 445, Time Step # 199, Loss Value = 0.01923922821879387\n",
      "i # 446, Time Step # 199, Loss Value = 0.01439283974468708\n",
      "i # 447, Time Step # 199, Loss Value = 0.012709258124232292\n",
      "i # 448, Time Step # 199, Loss Value = 0.012837346643209457\n",
      "i # 449, Time Step # 199, Loss Value = 0.014598233625292778\n",
      "i # 450, Time Step # 199, Loss Value = 0.013597078621387482\n",
      "i # 451, Time Step # 199, Loss Value = 0.014317928813397884\n",
      "i # 452, Time Step # 199, Loss Value = 0.020141268149018288\n",
      "i # 453, Time Step # 199, Loss Value = 0.026529964059591293\n",
      "i # 454, Time Step # 199, Loss Value = 0.09650116413831711\n",
      "i # 455, Time Step # 199, Loss Value = 0.118700310587883\n",
      "i # 456, Time Step # 199, Loss Value = 0.05971480906009674\n",
      "i # 457, Time Step # 199, Loss Value = 0.03613507002592087\n",
      "i # 458, Time Step # 199, Loss Value = 0.021413426846265793\n",
      "i # 459, Time Step # 199, Loss Value = 0.02188485860824585\n",
      "i # 460, Time Step # 199, Loss Value = 0.014838986098766327\n",
      "i # 461, Time Step # 199, Loss Value = 0.013214536011219025\n",
      "i # 462, Time Step # 199, Loss Value = 0.010775408707559109\n",
      "i # 463, Time Step # 199, Loss Value = 0.009723715484142303\n",
      "i # 464, Time Step # 199, Loss Value = 0.01053864136338234\n",
      "i # 465, Time Step # 199, Loss Value = 0.0095411017537117\n",
      "i # 466, Time Step # 199, Loss Value = 0.010040192864835262\n",
      "i # 467, Time Step # 199, Loss Value = 0.012600640766322613\n",
      "i # 468, Time Step # 199, Loss Value = 0.014190224930644035\n",
      "i # 469, Time Step # 199, Loss Value = 0.019402939826250076\n",
      "i # 470, Time Step # 199, Loss Value = 0.03740540146827698\n",
      "i # 471, Time Step # 199, Loss Value = 0.2067698836326599\n",
      "i # 472, Time Step # 199, Loss Value = 0.15378066897392273\n",
      "i # 473, Time Step # 199, Loss Value = 0.05865740776062012\n",
      "i # 474, Time Step # 199, Loss Value = 0.03421556204557419\n",
      "i # 475, Time Step # 199, Loss Value = 0.02481524832546711\n",
      "i # 476, Time Step # 199, Loss Value = 0.017155298963189125\n",
      "i # 477, Time Step # 199, Loss Value = 0.014596241526305676\n",
      "i # 478, Time Step # 199, Loss Value = 0.010216820053756237\n",
      "i # 479, Time Step # 199, Loss Value = 0.011065910570323467\n",
      "i # 480, Time Step # 199, Loss Value = 0.011527352966368198\n",
      "i # 481, Time Step # 199, Loss Value = 0.011979496106505394\n",
      "i # 482, Time Step # 199, Loss Value = 0.010392829775810242\n",
      "i # 483, Time Step # 199, Loss Value = 0.008875302970409393\n",
      "i # 484, Time Step # 199, Loss Value = 0.011024444364011288\n",
      "i # 485, Time Step # 199, Loss Value = 0.010397342965006828\n",
      "i # 486, Time Step # 199, Loss Value = 0.013784544542431831\n",
      "i # 487, Time Step # 199, Loss Value = 0.02185611054301262\n",
      "i # 488, Time Step # 199, Loss Value = 0.08909466862678528\n",
      "i # 489, Time Step # 199, Loss Value = 0.10642184317111969\n",
      "i # 490, Time Step # 199, Loss Value = 0.10135805606842041\n",
      "i # 491, Time Step # 199, Loss Value = 0.04055120795965195\n",
      "i # 492, Time Step # 199, Loss Value = 0.030855465680360794\n",
      "i # 493, Time Step # 199, Loss Value = 0.014985165558755398\n",
      "i # 494, Time Step # 199, Loss Value = 0.012657293118536472\n",
      "i # 495, Time Step # 199, Loss Value = 0.009466658346354961\n",
      "i # 496, Time Step # 199, Loss Value = 0.008237458765506744\n",
      "i # 497, Time Step # 199, Loss Value = 0.008017051964998245\n",
      "i # 498, Time Step # 199, Loss Value = 0.008097688667476177\n",
      "i # 499, Time Step # 199, Loss Value = 0.008701940067112446\n"
     ]
    }
   ],
   "source": [
    "network = Seq2SeqEncDec(len(Vs),len(Vd),128).to(device)\n",
    "loss_fn = torch.nn.CrossEntropyLoss(ignore_index=0)\n",
    "optimizer = torch.optim.Adam(network.parameters())\n",
    "num_epochs = 500\n",
    "mb_size = 65\n",
    "\n",
    "for epoch in range(num_epochs):\n",
    "    for i in range(X_padded_train.shape[0]//mb_size):\n",
    "\n",
    "        X_train_mb = X_padded_train[i*mb_size:(i+1)*mb_size]\n",
    "        Y_input_mb = Y_padded_input_train[i*mb_size:(i+1)*mb_size]\n",
    "        Y_label_mb = Y_padded_label_train[i*mb_size:(i+1)*mb_size]\n",
    "        Y_label_mb = Y_label_mb.reshape(Y_label_mb.shape[0]*Y_label_mb.shape[1],)\n",
    "        \n",
    "        X_train_mb, Y_input_mb, Y_label_mb = X_train_mb.to(device), Y_input_mb.to(device), Y_label_mb.to(device)\n",
    "\n",
    "        y_hat_train_mb = network(X_train_mb,Y_input_mb)\n",
    "        y_hat_train_mb = y_hat_train_mb[0]\n",
    "        y_hat_train_mb = y_hat_train_mb.reshape(y_hat_train_mb.shape[0]*y_hat_train_mb.shape[1],\n",
    "                                                y_hat_train_mb.shape[2])\n",
    "\n",
    "        loss_fn_value = loss_fn(y_hat_train_mb,Y_label_mb)\n",
    "\n",
    "        loss_fn_value.backward()\n",
    "        torch.nn.utils.clip_grad_norm_(network.parameters(),max_norm=1.0)\n",
    "        optimizer.step()\n",
    "        optimizer.zero_grad()\n",
    "\n",
    "    print(\"i # {}, Time Step # {}, Loss Value = {}\".format(epoch,i,loss_fn_value))"
   ]
  },
  {
   "cell_type": "markdown",
   "metadata": {},
   "source": [
    "## Model is trained now"
   ]
  },
  {
   "cell_type": "code",
   "execution_count": 45,
   "metadata": {
    "execution": {
     "iopub.execute_input": "2025-09-22T09:43:03.923759Z",
     "iopub.status.busy": "2025-09-22T09:43:03.923270Z",
     "iopub.status.idle": "2025-09-22T09:43:03.975114Z",
     "shell.execute_reply": "2025-09-22T09:43:03.974456Z",
     "shell.execute_reply.started": "2025-09-22T09:43:03.923739Z"
    },
    "trusted": true
   },
   "outputs": [],
   "source": [
    "torch.save(network.state_dict(),\"model.pth\")"
   ]
  },
  {
   "cell_type": "markdown",
   "metadata": {},
   "source": [
    "## **Inference Logic**"
   ]
  },
  {
   "cell_type": "code",
   "execution_count": 46,
   "metadata": {
    "execution": {
     "iopub.execute_input": "2025-09-22T09:43:03.975935Z",
     "iopub.status.busy": "2025-09-22T09:43:03.975762Z",
     "iopub.status.idle": "2025-09-22T09:43:03.984045Z",
     "shell.execute_reply": "2025-09-22T09:43:03.983337Z",
     "shell.execute_reply.started": "2025-09-22T09:43:03.975920Z"
    },
    "trusted": true
   },
   "outputs": [],
   "source": [
    "def generate_translation(eng_sentence):\n",
    "\n",
    "    tokenized_eng_sentence = src_sent_tokenizer.tokenize(eng_sentence)\n",
    "    token_ids = src_sent_tokenizer.convert_tokens_to_ids(tokenized_eng_sentence)\n",
    "    token_ids_tensor = torch.tensor(token_ids)\n",
    "    token_ids_tensor = torch.unsqueeze(token_ids_tensor,0)\n",
    "\n",
    "    if torch.cuda.is_available():\n",
    "        device = torch.device(\"cuda\")\n",
    "        token_ids_tensor = token_ids_tensor.to(device)\n",
    "\n",
    "    encoder_outputs,(final_encoder_output,final_candidate_cell_state) = network.encoder(token_ids_tensor)\n",
    "    decoder_first_time_step_input = torch.tensor([[1]])\n",
    "\n",
    "    if torch.cuda.is_available():\n",
    "        encoder_outputs = encoder_outputs.to(device)\n",
    "        final_encoder_output = final_encoder_output.to(device)\n",
    "        final_candidate_cell_state = final_candidate_cell_state.to(device)\n",
    "        decoder_first_time_step_input = decoder_first_time_step_input.to(device)\n",
    "\n",
    "    decoder_first_time_step_output, (hidden_decoder_output, hidden_decoder_cell_state) = network.decoder(decoder_first_time_step_input,\n",
    "                                                                          final_encoder_output,\n",
    "                                                                          final_candidate_cell_state)\n",
    "\n",
    "    generated_token_id = torch.argmax(F.softmax(decoder_first_time_step_output[:,0,:],dim=1),1)\n",
    "    generated_token_id = torch.unsqueeze(generated_token_id,1)\n",
    "\n",
    "    hindi_translated_sentence = str()\n",
    "    hindi_translated_sentence += \" \" + hindi_idx2vocab[generated_token_id.item()]\n",
    "\n",
    "    if torch.cuda.is_available():\n",
    "        generated_token_id = generated_token_id.to(device)\n",
    "        hidden_decoder_output = hidden_decoder_output.to(device)\n",
    "        hidden_decoder_cell_state = hidden_decoder_cell_state.to(device)\n",
    "        \n",
    "    for i in range(Nd-1):\n",
    "        \n",
    "        decoder_first_time_step_output, (hidden_decoder_output, hidden_decoder_cell_state) = network.decoder(generated_token_id,\n",
    "                                                                                                hidden_decoder_output,\n",
    "                                                                                                hidden_decoder_cell_state)\n",
    "        generated_token_id = torch.argmax(F.softmax(decoder_first_time_step_output[:,0,:],dim=1),1)\n",
    "        generated_token_id = torch.unsqueeze(generated_token_id,1)\n",
    "\n",
    "        if torch.cuda.is_available():\n",
    "            generated_token_id = generated_token_id.to(device)\n",
    "            hidden_decoder_output = hidden_decoder_output.to(device)\n",
    "            hidden_decoder_cell_state = hidden_decoder_cell_state.to(device)\n",
    "\n",
    "        if generated_token_id.item() == Vd[\"<EOS>\"]:\n",
    "            break\n",
    "\n",
    "        hindi_translated_sentence += \" \" + hindi_idx2vocab[generated_token_id.item()]\n",
    "\n",
    "    return hindi_translated_sentence"
   ]
  },
  {
   "cell_type": "code",
   "execution_count": 1,
   "metadata": {
    "execution": {
     "iopub.execute_input": "2025-09-22T09:43:14.691006Z",
     "iopub.status.busy": "2025-09-22T09:43:14.690758Z",
     "iopub.status.idle": "2025-09-22T09:43:14.721989Z",
     "shell.execute_reply": "2025-09-22T09:43:14.721375Z",
     "shell.execute_reply.started": "2025-09-22T09:43:14.690990Z"
    },
    "trusted": true
   },
   "outputs": [
    {
     "ename": "NameError",
     "evalue": "name 'generate_translation' is not defined",
     "output_type": "error",
     "traceback": [
      "\u001b[31m---------------------------------------------------------------------------\u001b[39m",
      "\u001b[31mNameError\u001b[39m                                 Traceback (most recent call last)",
      "\u001b[36mCell\u001b[39m\u001b[36m \u001b[39m\u001b[32mIn[1]\u001b[39m\u001b[32m, line 1\u001b[39m\n\u001b[32m----> \u001b[39m\u001b[32m1\u001b[39m \u001b[43mgenerate_translation\u001b[49m(\u001b[33m\"\u001b[39m\u001b[33mhello\u001b[39m\u001b[33m\"\u001b[39m)\n",
      "\u001b[31mNameError\u001b[39m: name 'generate_translation' is not defined"
     ]
    }
   ],
   "source": [
    "generate_translation(\"hello\")"
   ]
  },
  {
   "cell_type": "markdown",
   "metadata": {},
   "source": [
    "## Deployment"
   ]
  },
  {
   "cell_type": "code",
   "execution_count": null,
   "metadata": {
    "trusted": true
   },
   "outputs": [],
   "source": []
  },
  {
   "cell_type": "code",
   "execution_count": null,
   "metadata": {
    "trusted": true
   },
   "outputs": [],
   "source": []
  }
 ],
 "metadata": {
  "kaggle": {
   "accelerator": "gpu",
   "dataSources": [
    {
     "datasetId": 8156648,
     "sourceId": 12892053,
     "sourceType": "datasetVersion"
    }
   ],
   "dockerImageVersionId": 31089,
   "isGpuEnabled": true,
   "isInternetEnabled": true,
   "language": "python",
   "sourceType": "notebook"
  },
  "kernelspec": {
   "display_name": "menv",
   "language": "python",
   "name": "python3"
  },
  "language_info": {
   "codemirror_mode": {
    "name": "ipython",
    "version": 3
   },
   "file_extension": ".py",
   "mimetype": "text/x-python",
   "name": "python",
   "nbconvert_exporter": "python",
   "pygments_lexer": "ipython3",
   "version": "3.13.7"
  }
 },
 "nbformat": 4,
 "nbformat_minor": 4
}
